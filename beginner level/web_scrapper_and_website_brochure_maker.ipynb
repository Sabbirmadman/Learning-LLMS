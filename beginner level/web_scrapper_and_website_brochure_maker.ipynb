{
  "nbformat": 4,
  "nbformat_minor": 0,
  "metadata": {
    "colab": {
      "provenance": []
    },
    "kernelspec": {
      "name": "python3",
      "display_name": "Python 3"
    },
    "language_info": {
      "name": "python"
    }
  },
  "cells": [
    {
      "cell_type": "markdown",
      "source": [
        "# Adding libraries"
      ],
      "metadata": {
        "id": "8DPL4EU4zwI_"
      }
    },
    {
      "cell_type": "code",
      "execution_count": null,
      "metadata": {
        "colab": {
          "base_uri": "https://localhost:8080/"
        },
        "id": "KmS8Iu1itdB-",
        "outputId": "01131e6a-1148-48ba-a85f-73f914e40615"
      },
      "outputs": [
        {
          "output_type": "stream",
          "name": "stdout",
          "text": [
            "Collecting groq\n",
            "  Downloading groq-0.18.0-py3-none-any.whl.metadata (14 kB)\n",
            "Requirement already satisfied: anyio<5,>=3.5.0 in /usr/local/lib/python3.11/dist-packages (from groq) (3.7.1)\n",
            "Requirement already satisfied: distro<2,>=1.7.0 in /usr/local/lib/python3.11/dist-packages (from groq) (1.9.0)\n",
            "Requirement already satisfied: httpx<1,>=0.23.0 in /usr/local/lib/python3.11/dist-packages (from groq) (0.28.1)\n",
            "Requirement already satisfied: pydantic<3,>=1.9.0 in /usr/local/lib/python3.11/dist-packages (from groq) (2.10.6)\n",
            "Requirement already satisfied: sniffio in /usr/local/lib/python3.11/dist-packages (from groq) (1.3.1)\n",
            "Requirement already satisfied: typing-extensions<5,>=4.10 in /usr/local/lib/python3.11/dist-packages (from groq) (4.12.2)\n",
            "Requirement already satisfied: idna>=2.8 in /usr/local/lib/python3.11/dist-packages (from anyio<5,>=3.5.0->groq) (3.10)\n",
            "Requirement already satisfied: certifi in /usr/local/lib/python3.11/dist-packages (from httpx<1,>=0.23.0->groq) (2025.1.31)\n",
            "Requirement already satisfied: httpcore==1.* in /usr/local/lib/python3.11/dist-packages (from httpx<1,>=0.23.0->groq) (1.0.7)\n",
            "Requirement already satisfied: h11<0.15,>=0.13 in /usr/local/lib/python3.11/dist-packages (from httpcore==1.*->httpx<1,>=0.23.0->groq) (0.14.0)\n",
            "Requirement already satisfied: annotated-types>=0.6.0 in /usr/local/lib/python3.11/dist-packages (from pydantic<3,>=1.9.0->groq) (0.7.0)\n",
            "Requirement already satisfied: pydantic-core==2.27.2 in /usr/local/lib/python3.11/dist-packages (from pydantic<3,>=1.9.0->groq) (2.27.2)\n",
            "Downloading groq-0.18.0-py3-none-any.whl (121 kB)\n",
            "\u001b[2K   \u001b[90m━━━━━━━━━━━━━━━━━━━━━━━━━━━━━━━━━━━━━━━━\u001b[0m \u001b[32m121.9/121.9 kB\u001b[0m \u001b[31m2.0 MB/s\u001b[0m eta \u001b[36m0:00:00\u001b[0m\n",
            "\u001b[?25hInstalling collected packages: groq\n",
            "Successfully installed groq-0.18.0\n"
          ]
        }
      ],
      "source": [
        "!pip install groq"
      ]
    },
    {
      "cell_type": "code",
      "source": [
        "import os\n",
        "import json\n",
        "import requests\n",
        "from typing import List\n",
        "from bs4 import BeautifulSoup\n",
        "from IPython.display import Markdown, display, update_display\n",
        "from openai import OpenAI #if you wanna use open ai\n",
        "from groq import Groq #if you wanna use GroqCloud for free models like llama\n",
        "from IPython.display import Markdown, display #This is for viasualising the markdown format"
      ],
      "metadata": {
        "id": "Jz_VmZgNuexc"
      },
      "execution_count": null,
      "outputs": []
    },
    {
      "cell_type": "markdown",
      "source": [
        "## Setting up environment"
      ],
      "metadata": {
        "id": "mnhtkt0Fz4mw"
      }
    },
    {
      "cell_type": "code",
      "source": [
        "from google.colab import userdata\n",
        "api_key = userdata.get('GROQ_API_KEY')\n",
        "# userdata.get('OPEN_AI_API_KEY')\n",
        "\n",
        "# Check the key\n",
        "if not api_key:\n",
        "    print(\"No API key was found - please head over to the troubleshooting notebook in this folder to identify & fix!\")\n",
        "else:\n",
        "    print(\"API key found and looks good so far!\")"
      ],
      "metadata": {
        "colab": {
          "base_uri": "https://localhost:8080/"
        },
        "id": "hFQt1Sq_ukVY",
        "outputId": "1fb08fa5-f967-4005-fc26-4d1a3040edf2"
      },
      "execution_count": null,
      "outputs": [
        {
          "output_type": "stream",
          "name": "stdout",
          "text": [
            "API key found and looks good so far!\n"
          ]
        }
      ]
    },
    {
      "cell_type": "code",
      "source": [
        "# constants for groq i am using lama 70b model\n",
        "MODEL_GPT = 'gpt-4o-mini'\n",
        "MODEL_LLAMA = 'llama-3.3-70b-versatile'"
      ],
      "metadata": {
        "id": "VSUfWCGOunHb"
      },
      "execution_count": null,
      "outputs": []
    },
    {
      "cell_type": "code",
      "source": [
        "client = Groq(api_key=api_key)\n",
        "# client = OpenAI(api_key=api_key)\n",
        "\n",
        "#check if the client sends a response\n",
        "response = client.chat.completions.create(\n",
        "    model=MODEL_LLAMA,\n",
        "    messages = [\n",
        "        {\"role\": \"system\", \"content\": \"You are a helpful assistant.\"},\n",
        "        {\"role\": \"user\", \"content\": \"Who won 2019 US election?\"},\n",
        "    ],\n",
        ")\n",
        "\n",
        "print(response.choices[0].message.content)"
      ],
      "metadata": {
        "colab": {
          "base_uri": "https://localhost:8080/"
        },
        "id": "mcCKz4IsurCN",
        "outputId": "b3a0671d-fa86-4169-e508-cbdbc96d048a"
      },
      "execution_count": null,
      "outputs": [
        {
          "output_type": "stream",
          "name": "stdout",
          "text": [
            "There was no US presidential election in 2019. The most recent presidential elections were:\n",
            "\n",
            "- 2016: Donald Trump (Republican) won the presidential election, defeating Hillary Clinton (Democrat).\n",
            "- 2020: Joe Biden (Democrat) won the presidential election, defeating incumbent President Donald Trump (Republican).\n",
            "\n",
            "The 2018 United States elections were held on November 6, 2018, and they were midterm elections, where members of the US House of Representatives and one-third of the US Senate were elected. The Democrats gained control of the House, while the Republicans maintained control of the Senate.\n",
            "\n",
            "If you have any other questions, I'll be happy to help!\n"
          ]
        }
      ]
    },
    {
      "cell_type": "markdown",
      "source": [
        "## Creating a simple web scrapper class using BeautifulSoup and requests\n",
        "\n",
        "This scrapper scrappes a website and get its text content, links, images and tables. Try to play with it to get deeper understanding. This scrapper works very good with static website but may have issues with dynamic websites."
      ],
      "metadata": {
        "id": "t-An2pAF0EbY"
      }
    },
    {
      "cell_type": "code",
      "source": [
        "# Some websites need you to use proper headers when fetching them:\n",
        "headers = {\n",
        "    \"User-Agent\": \"Mozilla/5.0 (Windows NT 10.0; Win64; x64) AppleWebKit/537.36 (KHTML, like Gecko) Chrome/117.0.0.0 Safari/537.36\"\n",
        "}\n",
        "\n",
        "class WebsiteScraper:\n",
        "    \"\"\"\n",
        "    A utility class to represent a Website that we have scraped, now with links\n",
        "    \"\"\"\n",
        "\n",
        "    def __init__(self, url):\n",
        "        self.url = url\n",
        "        response = requests.get(url, headers=headers)\n",
        "        self.body = response.content\n",
        "        soup = BeautifulSoup(self.body, 'html.parser')\n",
        "\n",
        "        self.title = soup.title.string if soup.title else \"No title found\"\n",
        "\n",
        "        if soup.body:\n",
        "            for irrelevant in soup.body([\"script\", \"style\", \"input\"]):\n",
        "                irrelevant.decompose()\n",
        "            self.text = soup.body.get_text(separator=\"\\n\", strip=True)\n",
        "        else:\n",
        "            self.text = \"\"\n",
        "\n",
        "        self.links = [link.get('href') for link in soup.find_all('a') if link.get('href')]\n",
        "        self.images = [image.get('src') for image in soup.find_all('img') if image.get('src')]\n",
        "\n",
        "        # Fix for table extraction\n",
        "        self.tables = []\n",
        "        for table in soup.find_all('table'):\n",
        "            tableData = []\n",
        "            for row in table.find_all('tr'):\n",
        "                rowData = [cell.get_text(strip=True) for cell in row.find_all(['td', 'th'])]\n",
        "                if rowData:  # Only append non-empty rows\n",
        "                    tableData.append(rowData)\n",
        "            self.tables.append(tableData)\n",
        "\n",
        "    def get_contents(self):\n",
        "        return f\"Webpage Title:\\n{self.title}\\nWebpage Contents:\\n{self.text}\\n\\n\"\n"
      ],
      "metadata": {
        "id": "0OhNZpyku4sj"
      },
      "execution_count": null,
      "outputs": []
    },
    {
      "cell_type": "code",
      "source": [
        "ed = WebsiteScraper(\"https://www.ewubd.edu/\")\n",
        "tabledata = ed.tables"
      ],
      "metadata": {
        "id": "n1urvqa7vFK0"
      },
      "execution_count": null,
      "outputs": []
    },
    {
      "cell_type": "markdown",
      "source": [
        "Check out the output.This is what the scrapper scrapped from the homepage of the given website"
      ],
      "metadata": {
        "id": "YliMt7Ga0xRp"
      }
    },
    {
      "cell_type": "code",
      "source": [
        "ed.get_contents()"
      ],
      "metadata": {
        "colab": {
          "base_uri": "https://localhost:8080/",
          "height": 105
        },
        "collapsed": true,
        "id": "-Q-obP7ZronM",
        "outputId": "fe51ed1c-61a0-4f4a-8638-5c8bd545545e"
      },
      "execution_count": null,
      "outputs": [
        {
          "output_type": "execute_result",
          "data": {
            "text/plain": [
              "'Webpage Title:\\nEast West University\\nWebpage Contents:\\nAdmission Test Results: Spring 2025\\nCRTEWU 107th Research Seminar\\nCall for Applications: Graduate Diploma in Leather, Leather Goods and Footwear Management (GDLFM) program of batch 3 & 4 (Deadline: 18 Dec. 2024)\\nExtension of Time: Call for Proposals-Round 17\\n2nd Call for Papers: East West Journal of Business and Social Studies: Vol.12, 2024\\nHome\\nFaculties\\nFaculty of Sciences and Engineering\\nFaculty of Liberal Arts and Social Sciences\\nFaculty of Business and Economics\\nDepartments\\nCSE\\nEEE\\nGEB\\nPharmacy\\nCivil Engineering\\nMathematical & Physical Sciences\\nEnglish\\nLaw\\nSocial Relations\\nInformation Studies\\nSociology\\nBusiness Administration\\nMBA & EMBA Programs\\nEconomics\\nAlumni\\nStudents\\nDept. of Student\\'s Welfare\\nSexual Harassment\\nGrades, Rules & Regulations\\nRules & Regulation\\nStudent Portal (Grade Report)\\nSearch Course\\nAcademic Calendar\\nProctor Schedule\\nPayment Procedure\\nScholarships & Financial Assistance\\nDegree Programs\\nCampus Life\\nClubs\\nAbout\\nHistory\\nVision &\\n                                                    Mission\\nSyndicate\\nAcademic\\n                                                    Council\\nOffice\\nChairperson, BoT\\nChief Advisor\\nVice Chancellor\\nPro Vice Chancellor\\nTreasurer\\nDean\\'s Office\\nRegistrar\\nProctor\\nLibrary personnel\\nDirector of Finance\\nController of Examination\\nHR & Logistics\\nInformation & Communication Services\\nInternal Auditor\\nCRT\\nIQAC\\nEngineering & Maintenance Department\\nEWU Medical Centre\\nStudent\\'s Welfare\\nDepartment Admin\\nNewsletter\\nVC Newsletter\\nConvocation\\nConvocation\\nConvocation Registration Form\\nConvocation Rules & Guidelines\\nUrgent Notice\\nConvocation Database\\nFAQ\\nAuthority\\nBoard of Trustees\\nVice Chancellor\\nPro-Vice Chancellor\\nTreasurer\\nRegistrar\\nAdmissions\\nUndergraduate\\nUndergraduate\\n                                                    Programs\\nApply\\n                                                    Online\\nTuition\\n                                                    Fees\\nDates\\n                                                    & Deadline\\nGraduate\\nGraduate\\n                                                    Programs\\nApply\\n                                                    Online\\nTuition\\n                                                    Fees\\nDates\\n                                                    & Deadline\\nDiploma\\nDiploma Programs\\nApply\\n                                                    Online\\nTuition Fees\\nDates & Deadline\\nFinancial Assistance\\nScholarships\\n                                                    & Financial Assistance\\nHow to\\n                                                    Apply\\nImportant\\n                                                    Dates & Deadline\\nForms &\\n                                                    Document\\nFAQ\\nNews & Events\\nNews\\nEvents\\nCRT\\nIQAC\\nLibrary\\nHelpdesk\\nAdmission Test Results: Spring 2025\\nCRTEWU 107th Research Seminar\\nCall for Applications: Graduate Diploma in Leather, Leather Goods and Footwear Management (GDLFM) program of batch 3 & 4 (Deadline: 18 Dec. 2024)\\nExtension of Time: Call for Proposals-Round 17\\n2nd Call for Papers: East West Journal of Business and Social Studies: Vol.12, 2024\\nFaculties\\nFaculty of Sciences and Engineering\\nFaculty of Liberal Arts and Social Sciences\\nFaculty of Business and Economics\\nDepartments\\nFaculty of Sciences and Engineering\\nDepartment of Computer Science & Engineering\\nDepartment of Electrical and Electronic Engineering\\nDepartment of Genetic Engineering & Biotechnology\\nDepartment of Pharmacy\\nDepartment of Civil Engineering\\nDepartment of Mathematical & Physical Sciences\\nFaculty of Liberal Arts and Social Sciences\\nDepartment of English\\nDepartment of Law\\nDepartment of Social Relations\\nDepartment of Information Studies\\nDepartment of Sociology\\nFaculty of Business and Economics\\nDepartment of Business Administration\\nDepartment of Economics\\nAlumni\\nStudent\\nCareer Counseling Center\\nSexual Harassment\\nGrades, Rules and Regulations\\nRules & Regulation\\nStudent Portal (Grade Report)\\nAcademic Calendar\\nProctor Schedule\\nPayment Procedure\\nScholarships & Financial Assistance\\nDegree Programs\\nCampus Life\\nClubs\\nJoin a community of the world’s brightest minds and prepare to tackle its greatest problems. Here, your ideas will be heard, supported, questioned, tested, and honed as you form a network of lifelong friends, colleagues, and collaborators.\\nEmail\\nUsername\\nPassword\\nLogin\\nLost Your Password?\\nHome\\nAbout\\nHistory\\nVision &\\n                                                    Mission\\nSyndicate\\nAcademic\\n                                                    Council\\nOffice\\nOffice of The\\n                                                                    Chairperson, BoT\\nOffice of The Chief Advisor\\nOffice of The Vice\\n                                                                    Chancellor\\nOffice of The Pro\\n                                                                    Vice Chancellor\\nOffice of The Treasurer\\nDean\\'s Office\\nOffice of The Registrar\\nOffice of The Proctor\\nLibrary personnel\\nOffice of The\\n                                                                    Director of Finance\\nOffice of The\\n                                                                    Controller of Examination\\nOffice of The HR &\\n                                                                    Logistics\\nInformation\\n                                                                    & Communication Services\\nOffice of The\\n                                                                    Internal Auditor\\nCenter for\\n                                                                    Research & Training (CRT)\\nOffice of The IQAC\\nEngineering\\n                                                                    & Maintenance Department\\nEWU Medical Centre\\nOffice of The\\n                                                                    Student\\'s Welfare\\nOffice of The\\n                                                                    Department Admin\\nNewsletter\\nVC Newsletter\\nConvocation\\nConvocation\\nConvocation Registration Form\\nConvocation Rules & Guidelines\\nUrgent Notice\\nConvocation\\n                                                        Database\\nFAQ\\nAuthority\\nBoard of Trustees\\nVice Chancellor\\nPro-Vice Chancellor\\nTreasurer\\nRegistrar\\nAdmissions\\nUndergraduate\\nUndergraduate\\n                                                            Programs\\nApply\\n                                                            Online\\nTuition\\n                                                            Fees\\nDates\\n                                                            & Deadline\\nGraduate\\nGraduate\\n                                                            Programs\\nApply\\n                                                            Online\\nTuition\\n                                                            Fees\\nDates\\n                                                            & Deadline\\nDiploma\\nDiploma Programs\\nApply\\n                                                            Online\\nTuition Fees\\nDates & Deadline\\nFinancial Assistance\\nScholarships\\n                                                            & Financial Assistance\\nHow to\\n                                                            Apply\\nImportant\\n                                                            Dates & Deadline\\nForms &\\n                                                            Document\\nFAQ\\nNews & Events\\nNews\\nEvents\\nCRT\\nIQAC\\nLibrary\\nHelpdesk\\nView Details\\nView Details\\nView Details\\nView Details\\nView Details\\nView Details\\nPrevious\\nNext\\nUndergraduate & Graduate Admission\\nSpring 2025\\nApplication Deadline:\\n16-Jan-2025\\n2025-01-16 23:59:59\\nDays\\nHour\\nMins\\nSecs\\nApply Online\\nAdmission Test Results:\\nSpring 2025\\nView More\\nGraduate\\nAdmission:\\nSpring 2025\\nApplication Deadline:\\n28-Feb-2025\\n2025-02-28 23:59:59\\nDays\\nHour\\nMins\\nSecs\\nRead More\\nGenerous Scholarships\\n50% - 100% is available\\nduring admission\\nView More\\nStudent Panel\\nPublications\\nClubs\\nNotice\\nIQAC\\nICS\\nApply for Admission MBA/EMBA Programs: Spring 2025. MBA Application Deadline: January 17, 2025. EMBA Application Deadline: February 13, 2025\\nView More\\nGenerous Scholarships from 50%-100% is available during admission.\\nApply\\n                                    for admission\\nGenerous Scholarships and Financial Assistance: 11 Crores\\nView\\n                                    More\\nDegree Program\\nJoin a community of the world’s brightest minds and prepared.\\nStudent\\'s Welfare\\nDepartment of Student\\'s Welfare.\\nScholarship\\nScholarships & Financial Aid.\\nAlumni\\nOur alumni is our strength\\nSearch Course\\nSelect Department\\nDepartment of Computer Science & Engineering\\nDepartment of Business Administration\\nDepartment of English\\nDepartment of Economics\\nDepartment of Law\\nDepartment of Electrical and Electronic Engineering\\nDepartment of Social Relations\\nDepartment of Electronics and Communications Engineering\\nDepartment of MBA/EMBA\\nDepartment  of Genetic Engineering and Biotechnology\\nDepartment of Information Studies\\nDepartment  of Pharmacy\\nDepartment of Sociology\\nDepartment of Civil Engineering\\nDepartment of Mathematical and Physical Sciences\\nSelect Course\\nSearch\\n                        Course\\nStudent Enrolled 10k+\\nPHD Professors 105+\\nProgram Offered 29\\nNational Awards 10+\\nNotice\\n19\\nJan 2025\\nCRTEWU 107th Research Seminar\\nRead More\\n16\\nJan 2025\\nSubmission of Admission Forms (Revised date and time): Spring 2025\\nRead More\\n12\\nJan 2025\\nCRTEWU 106th Seminar on “Numerical Modeling of Various Coastal Processes”\\nRead More\\n03\\nJan 2025\\nOnline Advising of Courses for Spring Semester 2025 (B.Pharm, M.Pharm, LLB and LLM Programs)\\nRead More\\n03\\nJan 2025\\nOnline Advising of Courses for Spring Semester 2025 (except M.Pharm and LL.M Programs)\\nRead More\\n18\\nDec 2024\\nRescheduled CRTEWU 105th knowledge Sharing Seminar\\nRead More\\n17\\nDec 2024\\nCRTEWU 105th knowledge Sharing Seminar\\nRead More\\n02\\nDec 2024\\nOnline Application for Graduation 24th Convocation 2025\\nRead More\\n01\\nDec 2024\\nFinancial Assistance, Spring 2025\\nRead More\\n30\\nNov 2024\\nCall for Applications: Graduate Diploma in Leather, Leather Goods and Footwear Management (GDLFM) pr...\\nRead More\\n11\\nNov 2024\\nOnline Application for Graduation 24th Convocation 2025\\nRead More\\n31\\nOct 2024\\nCRTEWU 104th Research Seminar\\nRead More\\nImportant Dates\\nView all\\nOctober\\n06\\nOctober 06, 2024: Submission of Final Grades\\nOctober\\n17\\nOctober 17, 2024: Orientation for Fall 2024\\nOctober\\n20\\nOctober 20, 2024: First Day of Classes for Fall 2024\\nJanuary\\n18\\nJanuary 18, 2025: Admission Test for Spring 2025\\nFebruary\\n09\\nFebruary 09-13, 2025: Final Examinations\\nOur Events\\nView all\\n01\\nSep, 2024\\nSeminar on Stress Management\\nRoom No. 126, S. M. Nousher Ali Lecture Gallery\\n01 Sep, 2024\\nRead More\\n13\\nAug, 2024\\nCounseling Session on Stress Management\\nEast West University\\n13 Aug, 2024\\nRead More\\n08\\nAug, 2024\\nNational Robo Fest\\nEast West University\\n08 Aug, 2024\\nRead More\\n06\\nAug, 2024\\nCricket Cup 2024\\nEast West University\\n06 Aug, 2024\\nRead More\\nEvery individual who has interest in education whether within the country or beyond is\\n                            warmly welcome to East West University community, preferably in person, and that will be a\\n                            privilege of mine.\\nProfessor Dr. Mohammed Farashuddin\\nChief Advisor, East West University\\nRecent News\\nView all\\n23\\nJan\\n2025\\nCRTEWU Hosts Seminar on Perceived Service Quality of Distric...\\nCRTEWU Hosts Seminar on Perceived Service Quality\\nThe Center for Research and Training at East West University (CRTEWU) successfully hosted a research seminar titled “Perceived Service Quality of District Public Libraries of Bangladesh: An Analysis through the Lens of LibQUAL+” on January 23, 2025, ...\\n22\\nJan\\n2025\\nHonda Presents GameCon Season 1 hosted by EWU Computer Progr...\\nHonda Presents GameCon Season 1 hosted by EWU Comp\\nThe East West University Computer Programming Club (EWUCoPC) successfully hosted\\nGameCon: Season 1\\n, an exhilarating gaming festival that brought together over 2000 participants from 60+ universities and colleges across Bangladesh. The event, sponsore...\\n21\\nJan\\n2025\\nEast West University Plants Betel Nut Tree Around the Campus\\nEast West University Plants Betel Nut Tree Around\\nEast West University (EWU) inaugurated the Betel nut tree plantation program around the campus at Aftabnagar in Dhaka. This significant event took place on the morning of January 21, 2025 at the ‘Shaeed Minar’ Premises, and was attended by esteemed m...\\n18\\nJan\\n2025\\nEast West University Successfully Conducts Admission Test fo...\\nEast West University Successfully Conducts Admissi\\nEast West University (EWU) proudly announces the successful completion of its admission test for the Spring Semester 2025, held on 18 January 2025 at the EWU Campus in Aftabnagar, Dhaka. The event saw the participation of over four thousand applicant...\\n17\\nJan\\n2025\\nCRTEWU Hosts a Research Seminar on Numerical Modeling of Tsu...\\nCRTEWU Hosts a Research Seminar on Numerical Model\\nThe Center for Research and Training at East West University (CRTEWU) successfully hosted a research seminar titled “Numerical Modeling of Tsunami and Storm Surges along the Coastal Belt of the Indian Ocean” on January 16, 2025, in the CRTEWU Seminar...\\n17\\nJan\\n2025\\nOrientation Program for Graduate Diploma in Leather, Leather...\\nOrientation Program for Graduate Diploma in Leathe\\nThe Executive Development Center (EDC) under the Skills for Industry Competitiveness and Innovation Program (SICIP) at East West University (EWU) successfully organized an Orientation Program for the Graduate Diploma in Leather, Leather Goods, and Fo...\\n15\\nJan\\n2025\\nDrama Nakshi Kanthar Maath along with Pitha Utshob organized...\\nDrama Nakshi Kanthar Maath along with Pitha Utshob\\nThe East West University Club for Performing Arts (ECPA) proudly presented their self-written drama adaptation of\\nNakshi Kanthar Maath\\n, inspired by the timeless poem by Poet Jashimuddin on 6\\nth\\nJanuary, 2025. Alongside the drama, a colorful\\nPitha Utsh...\\n13\\nJan\\n2025\\nEast West University Arranges a Merit Scholarship Awarding C...\\nEast West University Arranges a Merit Scholarship\\nEast West University (EWU) provided the Merit Scholarship Award to 219 students from the Summer and Fall Semester 2024 students for their excellent academic performance. Most of the scholarship recipients students were female. The ceremony took place...\\n05\\nJan\\n2025\\nNational Telco Warfare 2024 organized by East West Universit...\\nNational Telco Warfare 2024 organized by East West\\nEast West University Telecommunications Club has successfully hosted\\n\"The Royal Hat Presents National Telco Warfare 2024,\"\\nproudly powered by Flight Expert. The two-day event, held on December 26 and December 27, brought together over 500 participant...\\n05\\nJan\\n2025\\nProfessor Dr. Dilara Begum joined IFLA panel session on ‘How...\\nProfessor Dr. Dilara Begum joined IFLA panel sessi...\\nProfessor Dr. Dilara Begum\\n, Chairperson of the Department of Information Studies, East West University, attended the Governing Board meeting as an elected member of the International Federation of Library Associations and Institutions (IFLA) for the ...\\nEWU is committed to providing quality education and to nurturing creativity for\\n                        producing successful graduates who will serve our society and the world.\\nProfessor Shams Rahman\\nVice Chancellor\\nEWU Achievements\\nProf. Dr. Shamsun Nahar Khan has been invited as an invited speaker to deliver her talk at the International Conference\\nAchieved on:\\xa0 04 Feb, 2025\\nView Details\\nEWU Law Team Shines as Runner-Up in 29th Stetson International Environmental Moot Court Competition\\nAchieved on:\\xa0 28 Jan, 2025\\nView Details\\nEast West University Student Wins Crown at Marico’s \"Over The Wall - Season 3\" Competition\\nAchieved on:\\xa0 20 Jan, 2025\\nView Details\\nMahdin Shafiq Omi Recognized on Global Stage for Photography Excellence\\nAchieved on:\\xa0 15 Jan, 2025\\nView Details\\nECPA Secured 1st Runner-Up in Art Segment at SEU Cultural Fest\\nAchieved on:\\xa0 15 Jan, 2025\\nView Details\\nProfessor Dr. Dilara Begum attended an international conference in France\\nAchieved on:\\xa0 05 Jan, 2025\\nView Details\\nEast West University Debating Club Triumphs at 18th MGBSDC National’s 2024\\nAchieved on:\\xa0 03 Jan, 2025\\nView Details\\nAn English Department Student Wins Best Paper Award\\nAchieved on:\\xa0 22 Dec, 2024\\nView Details\\nCSE Students Won Two \"Best Paper Awards\" from Springer ICIDA 2024\\nAchieved on:\\xa0 22 Dec, 2024\\nView Details\\nProfessor Dr. Dilara Begum was invited as a speaker at an International Conference in Bangalore, India\\nAchieved on:\\xa0 10 Dec, 2024\\nView Details\\nView All\\nPartnerships and Affiliates\\nTo continue our founding mission to bring knowledge to Bangladesh\\nFollow Us\\nA/2, Jahurul Islam Avenue\\nJahurul Islam City, Aftabnagar\\nDhaka-1212, Bangladesh\\n09666775577, Ext. - 234\\n+8801755587224, +8801851933094 (Hotline)\\nadmissions@ewubd.edu\\ninfo@ewubd.edu\\nStudent\\nAcademic Calendar\\nCampus Life\\nPayment Procedure\\nConvocation\\nRules & Regulation\\nFaculty Search\\nGrading Policy\\nUniversity\\nDirectory\\nProctor Schedule\\nE-Tender\\nProcurement\\nGallery\\nJournal and Publications\\nArchives\\nQuick Links\\nApply Online\\nJobs at EWU\\nDegree Verification\\nContact Us\\nLocation Map\\nDeveloped and maintained by ICS, EWU\\nCopyright@ 2022 East West University\\n170,769,678  Total view, 12,077,087 Views Today\\nEnquire\\nTop\\n\\n'"
            ],
            "application/vnd.google.colaboratory.intrinsic+json": {
              "type": "string"
            }
          },
          "metadata": {},
          "execution_count": 14
        }
      ]
    },
    {
      "cell_type": "code",
      "source": [
        "ed.images"
      ],
      "metadata": {
        "colab": {
          "base_uri": "https://localhost:8080/"
        },
        "id": "vX2zin_r0p38",
        "outputId": "f6dfb116-5b90-4fe4-f919-9f42c48d3e6d"
      },
      "execution_count": null,
      "outputs": [
        {
          "output_type": "execute_result",
          "data": {
            "text/plain": [
              "['https://www.ewubd.edu/themes/east-west-university/assets/default/images/logo.png',\n",
              " 'https://www.ewubd.edu/themes/east-west-university/assets/default/images/students.png',\n",
              " 'https://www.ewubd.edu/themes/east-west-university/assets/default/images/icon/login-icon.png',\n",
              " 'https://www.ewubd.edu/themes/east-west-university/assets/default/images/logo.png',\n",
              " 'https://www.ewubd.edu/themes/east-west-university/assets/default/images/icon/graduation.png',\n",
              " 'https://www.ewubd.edu/themes/east-west-university/assets/default/images/icon/library.png',\n",
              " 'https://www.ewubd.edu/themes/east-west-university/assets/default/images/icon/scholar.png',\n",
              " 'https://www.ewubd.edu/themes/east-west-university/assets/default/images/icon/alumni-search.png',\n",
              " 'https://www.ewubd.edu/themes/east-west-university/assets/default/images/icon/icon-opac-200x150.png',\n",
              " 'https://www.ewubd.edu/themes/east-west-university/assets/default/images/Dr.-Fasaruddin_Photo1.jpg',\n",
              " 'https://www.ewubd.edu/storage/app/uploads/public/679/21b/9d0/67921b9d06cf7161130931.jpg',\n",
              " 'https://www.ewubd.edu/storage/app/uploads/public/679/0c1/9d0/6790c19d0cd18311601091.jpg',\n",
              " 'https://www.ewubd.edu/storage/app/uploads/public/678/f6f/597/678f6f597fb00027714293.jpg',\n",
              " 'https://www.ewubd.edu/storage/app/uploads/public/678/b76/6ea/678b766ea8d54264171288.jpg',\n",
              " 'https://www.ewubd.edu/storage/app/uploads/public/678/a41/0a7/678a410a78ccb600859237.jpg',\n",
              " 'https://www.ewubd.edu/storage/app/uploads/public/678/a3e/9e0/678a3e9e08e0c561048935.jpg',\n",
              " 'https://www.ewubd.edu/storage/app/uploads/public/678/75a/16d/67875a16df37e187643846.jpg',\n",
              " 'https://www.ewubd.edu/storage/app/uploads/public/678/4b9/2c3/6784b92c34518049200519.jpg',\n",
              " 'https://www.ewubd.edu/storage/app/uploads/public/677/a5e/b8c/677a5eb8cbebf584457737.jpg',\n",
              " 'https://www.ewubd.edu/storage/app/uploads/public/677/a5a/a49/677a5aa498b75356331816.jpeg',\n",
              " 'https://www.ewubd.edu/storage/app/media/authorities/Professor-Shams-Rahman.jpg',\n",
              " 'https://www.ewubd.edu/storage/app/uploads/public/67a/1e9/ec7/67a1e9ec7c8cb366787042.jpg',\n",
              " 'https://www.ewubd.edu/storage/app/uploads/public/679/888/6c1/6798886c16af0855085997.jpg',\n",
              " 'https://www.ewubd.edu/storage/app/uploads/public/678/e19/a87/678e19a875e1e953901745.jpeg',\n",
              " 'https://www.ewubd.edu/storage/app/uploads/public/678/75c/093/67875c0936b1f568508354.jpg',\n",
              " 'https://www.ewubd.edu/storage/app/uploads/public/678/75d/52a/67875d52a1a16209651427.jpg',\n",
              " 'https://www.ewubd.edu/storage/app/uploads/public/677/a5a/010/677a5a0100541595375438.jpeg',\n",
              " 'https://www.ewubd.edu/storage/app/uploads/public/677/6d9/eea/6776d9eea3314023577866.png',\n",
              " 'https://www.ewubd.edu/storage/app/uploads/public/676/82b/5cc/67682b5cc6247633451041.jpg',\n",
              " 'https://www.ewubd.edu/storage/app/uploads/public/676/82a/5a9/67682a5a91de9518237742.jpg',\n",
              " 'https://www.ewubd.edu/storage/app/uploads/public/675/811/8e2/6758118e2211e918895592.jpeg',\n",
              " 'https://www.ewubd.edu/storage/app/media/BBA/Partner/acbsp.jpg',\n",
              " 'https://www.ewubd.edu/storage/app/media/BBA/Partner/ca-border.jpg',\n",
              " 'https://www.ewubd.edu/storage/app/media/BBA/Partner/icmab-border.jpg',\n",
              " 'https://www.ewubd.edu/storage/app/media/BBA/Partner/acca-border.jpg',\n",
              " 'https://www.ewubd.edu/storage/app/media/BBA/Partner/BIOM.jpg',\n",
              " 'https://www.ewubd.edu/storage/app/media/BBA/Partner/ICSB.jpg',\n",
              " 'https://www.ewubd.edu/storage/app/media/BBA/Partner/Logo-of-Banglalink.jpg',\n",
              " 'https://www.ewubd.edu/storage/app/media/BBA/Partner/Logo-of-Macquarie-University.jpg',\n",
              " 'https://www.ewubd.edu/storage/app/media/BBA/Partner/Logo-of-USAID.jpg',\n",
              " 'https://www.ewubd.edu/storage/app/media/BBA/Partner/Logo-of-Asian-Institute-of-Technology.jpg',\n",
              " 'https://www.ewubd.edu/storage/app/media/BBA/Partner/CFA-UAP-Certificate_East-West-University.jpg',\n",
              " '/themes/east-west-university/assets/LG1.png',\n",
              " 'https://www.ewubd.edu/themes/east-west-university/assets/default/images/ewu_map.png']"
            ]
          },
          "metadata": {},
          "execution_count": 40
        }
      ]
    },
    {
      "cell_type": "code",
      "source": [
        "ed.links"
      ],
      "metadata": {
        "colab": {
          "base_uri": "https://localhost:8080/"
        },
        "id": "SR8mWUVq0uKu",
        "outputId": "4d4c94c7-e14b-4a65-afc7-6632a2e26dc8"
      },
      "execution_count": null,
      "outputs": [
        {
          "output_type": "execute_result",
          "data": {
            "text/plain": [
              "['https://result.ewubd.edu/',\n",
              " 'https://www.ewubd.edu/notice-details/crtewu-107th-research-seminar',\n",
              " 'https://www.ewubd.edu/storage/app/media/EDC-SICIP/Admission%20Notice_East%20West%20University.pdf',\n",
              " 'https://www.ewubd.edu/notice-details/extension-time-call-proposals-round-17-2',\n",
              " 'https://www.ewubd.edu/storage/app/media/crt/Call%20For%20Paper/2nd%20Call%20Vol%2012.pdf',\n",
              " 'https://www.ewubd.edu',\n",
              " '#kingster-mobile-menu',\n",
              " 'https://www.ewubd.edu',\n",
              " '#',\n",
              " 'https://fse.ewubd.edu',\n",
              " 'https://flass.ewubd.edu',\n",
              " 'https://fbe.ewubd.edu',\n",
              " '#',\n",
              " 'https://fse.ewubd.edu/computer-science-engineering',\n",
              " 'https://fse.ewubd.edu/electrical-electronic-engineering',\n",
              " 'https://fse.ewubd.edu/genetic-engineering-biotechnology',\n",
              " 'https://fse.ewubd.edu/pharmacy-department',\n",
              " 'https://fse.ewubd.edu/civil-engineering',\n",
              " 'https://fse.ewubd.edu/mathematical-physical-science',\n",
              " 'https://flass.ewubd.edu/english-department',\n",
              " 'https://flass.ewubd.edu/law-department',\n",
              " 'https://flass.ewubd.edu/social-relations-department',\n",
              " 'https://flass.ewubd.edu/information-studies-library-management',\n",
              " 'https://flass.ewubd.edu/sociology-department',\n",
              " 'https://fbe.ewubd.edu/business-administration',\n",
              " 'https://fbe.ewubd.edu/masters-of-business-administration',\n",
              " 'https://fbe.ewubd.edu/economics-department',\n",
              " 'https://alumni.ewubd.edu/',\n",
              " '#',\n",
              " '/career-counseling-center',\n",
              " '/ewu-sexual-harassment-elimination-and-prevention-policy',\n",
              " '/grades-rules-and-regulations',\n",
              " '/student-rules-regulation',\n",
              " 'https://portal.ewubd.edu/',\n",
              " '/',\n",
              " '/academic-calendar',\n",
              " '/daily-duty-schedule-proctors',\n",
              " '/payment-procedure',\n",
              " '/scholarships-financial-aid',\n",
              " '/degree-programs',\n",
              " '/campus-life',\n",
              " '/clubs',\n",
              " '#',\n",
              " '/history',\n",
              " '/vision-mission-ewu',\n",
              " '/syndicate',\n",
              " '/academic-council',\n",
              " '#',\n",
              " '/admin-office/office-of-the-chairperson-bot',\n",
              " '/admin-office/office-of-the-chief-advisor',\n",
              " '/admin-office/office-of-the-vice-chancellor',\n",
              " '/admin-office/office-of-the-pro-vice-chancellor',\n",
              " '/admin-office/office-of-the-treasurer',\n",
              " '/admin-office/deans-office',\n",
              " '/admin-office/office-of-the-registrar',\n",
              " '/admin-office/office-of-the-proctor',\n",
              " '/admin-office/library-personnel',\n",
              " '/admin-office/office-of-the-director-of-finance',\n",
              " '/admin-office/office-of-the-controller-of-examination',\n",
              " '/admin-office/office-of-the-hr-and-logistics',\n",
              " '/admin-office/information-and-communication-services',\n",
              " '/admin-office/office-of-the-internal-auditor',\n",
              " '/admin-office/center-for-research-and-training',\n",
              " '/admin-office/iqac-officials',\n",
              " '/admin-office/engineering-and-maintenance-department',\n",
              " '/admin-office/ewu-medical-centre',\n",
              " '/admin-office/office-of-the-students-welfare',\n",
              " '/department-administrative-official',\n",
              " '/newsletters',\n",
              " '/vc-newsletters',\n",
              " '#',\n",
              " '/convocation',\n",
              " '#',\n",
              " '#',\n",
              " '/convocation-notice-board',\n",
              " '/convocation-database',\n",
              " '/faq',\n",
              " '#',\n",
              " '/board-trustees',\n",
              " '/vice-chancellor',\n",
              " '/pro-vice-chancellor',\n",
              " '/treasurer',\n",
              " '/registrar',\n",
              " '#',\n",
              " '#',\n",
              " '/undergraduate-programs',\n",
              " 'http://admission.ewubd.edu',\n",
              " '/undergraduate-tuition-fees',\n",
              " '/undergraduate-dates-deadline',\n",
              " '#',\n",
              " '/graduate-programs',\n",
              " 'http://admission.ewubd.edu',\n",
              " '/graduate-programs-tuition-fees',\n",
              " '/graduate-dates-deadline',\n",
              " '#',\n",
              " 'https://www.ewubd.edu/diploma-programs/',\n",
              " 'http://admission.ewubd.edu',\n",
              " '#',\n",
              " '#',\n",
              " '#',\n",
              " '/scholarships-financial-aid',\n",
              " '/how-apply-financial-aids',\n",
              " '/important-dates-deadline',\n",
              " '/forms-and-document',\n",
              " '/admissions-faqs',\n",
              " '#',\n",
              " '/news',\n",
              " '/events',\n",
              " 'https://www.crtewu.org/',\n",
              " '/message-director-iqac',\n",
              " 'http://lib.ewubd.edu/',\n",
              " '/students-helpdesk',\n",
              " 'https://result.ewubd.edu/',\n",
              " 'https://www.ewubd.edu/notice-details/crtewu-107th-research-seminar',\n",
              " 'https://www.ewubd.edu/storage/app/media/EDC-SICIP/Admission%20Notice_East%20West%20University.pdf',\n",
              " 'https://www.ewubd.edu/notice-details/extension-time-call-proposals-round-17-2',\n",
              " 'https://www.ewubd.edu/storage/app/media/crt/Call%20For%20Paper/2nd%20Call%20Vol%2012.pdf',\n",
              " '#',\n",
              " 'https://fse.ewubd.edu',\n",
              " 'https://flass.ewubd.edu',\n",
              " 'https://fbe.ewubd.edu',\n",
              " '#',\n",
              " 'https://fse.ewubd.edu',\n",
              " 'https://fse.ewubd.edu/computer-science-engineering',\n",
              " 'https://fse.ewubd.edu/electrical-electronic-engineering',\n",
              " 'https://fse.ewubd.edu/genetic-engineering-biotechnology',\n",
              " 'https://fse.ewubd.edu/pharmacy-department',\n",
              " 'https://fse.ewubd.edu/civil-engineering',\n",
              " 'https://fse.ewubd.edu/mathematical-physical-science',\n",
              " 'https://flass.ewubd.edu',\n",
              " 'https://flass.ewubd.edu/english-department',\n",
              " 'https://flass.ewubd.edu/law-department',\n",
              " 'https://flass.ewubd.edu/social-relations-department',\n",
              " 'https://flass.ewubd.edu/information-studies-library-management',\n",
              " 'https://flass.ewubd.edu/sociology-department',\n",
              " 'https://fbe.ewubd.edu',\n",
              " 'https://fbe.ewubd.edu/business-administration',\n",
              " 'https://fbe.ewubd.edu/economics-department',\n",
              " 'https://alumni.ewubd.edu/',\n",
              " '#',\n",
              " '/career-counseling-center',\n",
              " '/ewu-sexual-harassment-elimination-and-prevention-policy',\n",
              " '/grades-rules-and-regulations',\n",
              " '/student-rules-regulation',\n",
              " 'https://portal.ewubd.edu/',\n",
              " '/academic-calendar',\n",
              " '/daily-duty-schedule-proctors',\n",
              " '/payment-procedure',\n",
              " '/scholarships-financial-aid',\n",
              " '/degree-programs',\n",
              " '/campus-life',\n",
              " '/clubs',\n",
              " 'https://mail.google.com/a/ewubd.edu',\n",
              " '#',\n",
              " 'https://www.ewubd.edu/backend/backend/auth/restore',\n",
              " 'https://www.ewubd.edu',\n",
              " 'https://www.ewubd.edu',\n",
              " '#',\n",
              " '/history',\n",
              " '/vision-mission-ewu',\n",
              " '/syndicate',\n",
              " '/academic-council',\n",
              " '#',\n",
              " '/admin-office/office-of-the-chairperson-bot',\n",
              " '/admin-office/office-of-the-chief-advisor',\n",
              " '/admin-office/office-of-the-vice-chancellor',\n",
              " '/admin-office/office-of-the-pro-vice-chancellor',\n",
              " '/admin-office/office-of-the-treasurer',\n",
              " '/admin-office/deans-office',\n",
              " '/admin-office/office-of-the-registrar',\n",
              " '/admin-office/office-of-the-proctor',\n",
              " '/admin-office/library-personnel',\n",
              " '/admin-office/office-of-the-director-of-finance',\n",
              " '/admin-office/office-of-the-controller-of-examination',\n",
              " '/admin-office/office-of-the-hr-and-logistics',\n",
              " '/admin-office/information-and-communication-services',\n",
              " '/admin-office/office-of-the-internal-auditor',\n",
              " '/admin-office/center-for-research-and-training',\n",
              " '/admin-office/iqac-officials',\n",
              " '/admin-office/engineering-and-maintenance-department',\n",
              " '/admin-office/ewu-medical-centre',\n",
              " '/admin-office/office-of-the-students-welfare',\n",
              " '/department-administrative-official',\n",
              " '/newsletters',\n",
              " '/vc-newsletters',\n",
              " '#',\n",
              " '/convocation',\n",
              " '#',\n",
              " '#',\n",
              " '/convocation-notice-board',\n",
              " '/convocation-database',\n",
              " '/faq',\n",
              " '#',\n",
              " '/board-trustees',\n",
              " '/vice-chancellor',\n",
              " '/pro-vice-chancellor',\n",
              " '/treasurer',\n",
              " '/registrar',\n",
              " '#',\n",
              " '/undergraduate-programs',\n",
              " 'http://admission.ewubd.edu',\n",
              " '/undergraduate-tuition-fees',\n",
              " '/undergraduate-dates-deadline',\n",
              " '#',\n",
              " '/graduate-programs',\n",
              " 'http://admission.ewubd.edu',\n",
              " '/graduate-programs-tuition-fees',\n",
              " '/graduate-dates-deadline',\n",
              " '#',\n",
              " 'https://www.ewubd.edu/diploma-programs/',\n",
              " 'http://admission.ewubd.edu',\n",
              " '#',\n",
              " '#',\n",
              " '#',\n",
              " '/scholarships-financial-aid',\n",
              " '/how-apply-financial-aids',\n",
              " '/important-dates-deadline',\n",
              " '/forms-and-document',\n",
              " '/admissions-faqs',\n",
              " '#',\n",
              " '/news',\n",
              " '/events',\n",
              " 'https://www.crtewu.org/',\n",
              " '/message-director-iqac',\n",
              " 'http://lib.ewubd.edu/',\n",
              " '/students-helpdesk',\n",
              " 'https://fbe.ewubd.edu/business-administration/news-details/department-business-administration-ewu-and-cfa-society-bangladesh-jointly-organizes-cfa-institute-university-affiliation-program-ceremony',\n",
              " 'https://www.ewubd.edu/news/east-west-university-signs-mou-asian-institute-technology-strengthen-academic-collaboration',\n",
              " 'https://www.ewubd.edu/achievement-details/bachelor-business-administration-bba-accounting-east-west-university-acca-accredited-programme',\n",
              " 'https://www.ewubd.edu/news/day-long-job-fair-held-east-west-university',\n",
              " 'https://www.ewubd.edu/news/ewu-observes-international-mother-language-day-multiple-events',\n",
              " 'https://www.ewubd.edu/news/east-west-university-observed-53rd-independence-day',\n",
              " '#home-carousel',\n",
              " '#home-carousel',\n",
              " 'https://admission.ewubd.edu',\n",
              " 'https://result.ewubd.edu',\n",
              " '/graduate-dates-deadline',\n",
              " 'https://www.ewubd.edu/scholarships-financial-aid#collapse-0',\n",
              " 'http://portal.ewubd.edu/',\n",
              " 'https://www.ewubd.edu/journal-and-publications',\n",
              " '/clubs',\n",
              " '/notice-board',\n",
              " '/institutional-quality-assurance-cell-iqac',\n",
              " '/ics',\n",
              " 'https://fbe.ewubd.edu/masters-of-business-administration/mba-emba-programs',\n",
              " 'https://admission.ewubd.edu/index.php?documentid=available.php',\n",
              " 'https://www.ewubd.edu/scholarships-financial-aid',\n",
              " '/degree-programs',\n",
              " 'https://ccc.ewubd.edu/',\n",
              " '/scholarships-financial-aid',\n",
              " 'https://alumni.ewubd.edu/',\n",
              " '/notice-details/crtewu-107th-research-seminar',\n",
              " '/notice-details/submission-admission-forms-revised-date-and-time-spring-2025',\n",
              " '/notice-details/crtewu-106th-seminar-numerical-modeling-various-coastal-processes',\n",
              " '/notice-details/online-advising-courses-spring-semester-2025-bpharm-mpharm-llb-and-llm-programs',\n",
              " '/notice-details/online-advising-courses-spring-semester-2025-except-mpharm-and-llm-programs',\n",
              " '/notice-details/rescheduled-crtewu-105th-knowledge-sharing-seminar',\n",
              " '/notice-details/crtewu-105th-knowledge-sharing-seminar',\n",
              " '/notice-details/online-application-graduation-24th-convocation-dec-2025',\n",
              " '/notice-details/financial-assistance-spring-2025',\n",
              " '/notice-details/call-applications-graduate-diploma-leather-leather-goods-and-footwear-management-gdlfm-program-batch-3-4',\n",
              " '/notice-details/online-application-graduation-24th-convocation-2025-11-24-007',\n",
              " '/notice-details/crtewu-104th-research-seminar-2',\n",
              " '/academic-calendar',\n",
              " '/events',\n",
              " '/single-event/seminar-stress-management',\n",
              " '/single-event/group-counseling-session-stress-management',\n",
              " '/single-event/national-robo-fest',\n",
              " '/single-event/cricket-cup-2024',\n",
              " 'https://www.ewubd.edu/office-employee/167',\n",
              " 'https://ewubd.edu/office-employee/professor-dr-mohammed-farashuddin',\n",
              " '/news',\n",
              " '/news/crtewu-hosts-seminar-perceived-service-quality-district-public-libraries-bangladesh',\n",
              " '/news/honda-presents-gamecon-season-1-hosted-ewu-computer-programming-club',\n",
              " '/news/east-west-university-plants-betel-nut-tree-around-campus',\n",
              " '/news/east-west-university-successfully-conducts-admission-test-spring-semester-2025',\n",
              " '/news/crtewu-hosts-research-seminar-numerical-modeling-tsunami-and-storm-surges',\n",
              " '/news/orientation-program-graduate-diploma-leather-leather-goods-and-footwear-management-held-east-west-university',\n",
              " '/news/drama-nakshi-kanthar-maath-along-pitha-utshob-organized-club-performing-arts-ecpa',\n",
              " '/news/east-west-university-arranges-merit-scholarship-awarding-ceremony',\n",
              " '/news/national-telco-warfare-2024-organized-east-west-university-telecommunications-club',\n",
              " '/news/professor-dr-dilara-begum-joined-ifla-panel-session-how-working-internationally-made-me-think-differently-about-ai',\n",
              " 'https://www.ewubd.edu/vice-chancellor',\n",
              " 'https://www.ewubd.edu/vice-chancellor',\n",
              " '/achievement-details/prof-dr-shamsun-nahar-khan-has-been-invited-invited-speaker-deliver-her-talk-international-conference',\n",
              " '/achievement-details/ewu-law-team-shines-runner-29th-stetson-international-environmental-moot-court-competition',\n",
              " '/achievement-details/east-west-university-student-wins-crown-maricos-over-wall-season-3-competition',\n",
              " '/achievement-details/mahdin-shafiq-omi-recognized-global-stage-photography-excellence',\n",
              " '/achievement-details/ecpa-secured-1st-runner-art-segment-seu-cultural-fest',\n",
              " '/achievement-details/professor-dr-dilara-begum-attended-international-conference-france',\n",
              " '/achievement-details/east-west-university-debating-club-triumphs-18th-mgbsdc-nationals-2024',\n",
              " '/achievement-details/english-department-student-wins-best-paper-award',\n",
              " '/achievement-details/cse-students-won-two-best-paper-awards-springer-icida-2024',\n",
              " '/achievement-details/professor-dr-dilara-begum-was-invited-speaker-international-conference-bangalore-india',\n",
              " '/achievements',\n",
              " 'https://www.facebook.com/myewu/',\n",
              " 'https://www.youtube.com/EastWestUniversity96',\n",
              " 'https://twitter.com/myewubd',\n",
              " 'https://www.instagram.com/eastwestuniversitybd/',\n",
              " 'https://www.ewubd.edu/',\n",
              " '#',\n",
              " '#',\n",
              " 'mailto:admissions@ewubd.edu',\n",
              " 'mailto:info@ewubd.edu',\n",
              " 'https://www.ewubd.edu/academic-calendar',\n",
              " 'https://www.ewubd.edu/campus-life',\n",
              " 'https://www.ewubd.edu/payment-procedure',\n",
              " 'https://www.ewubd.edu/convocation',\n",
              " 'https://www.ewubd.edu/student-rules-regulation',\n",
              " 'https://www.ewubd.edu/search-faculty',\n",
              " '/grades-rules-and-regulations',\n",
              " 'https://www.ewubd.edu/directory',\n",
              " 'https://www.ewubd.edu/daily-duty-schedule-proctors',\n",
              " 'http://etender.ewubd.edu/',\n",
              " 'https://www.ewubd.edu/tender',\n",
              " 'https://www.ewubd.edu/image-gallery',\n",
              " '/journal-and-publications',\n",
              " 'https://www.ewubd.edu/archives',\n",
              " 'http://admission.ewubd.edu/',\n",
              " '/career',\n",
              " 'https://www.ewubd.edu/degree-verification',\n",
              " '/enquire',\n",
              " '/maps',\n",
              " '/enquire',\n",
              " '#']"
            ]
          },
          "metadata": {},
          "execution_count": 41
        }
      ]
    },
    {
      "cell_type": "markdown",
      "source": [
        "## Lets use the data to make a brochure maker"
      ],
      "metadata": {
        "id": "kjeAQtoF1vfz"
      }
    },
    {
      "cell_type": "markdown",
      "source": [
        "As we can see There are a lot of links that the scrapper collected from the website. And some links are broken. For this example my terget is to create a brocure so i need info about the website. So lets use an LLM to find the relevent links and create an object that i can use to get all the info about the website. Lets define the prompt (system prompt and user prompt) for the llm."
      ],
      "metadata": {
        "id": "SedDmRExGEUf"
      }
    },
    {
      "cell_type": "code",
      "source": [
        "link_system_prompt = \"You are provided with a list of links found on a webpage. \\\n",
        "You are able to decide which of the links would be most relevant to include in a brochure about the company, \\\n",
        "such as links to an About page, or a Company page, or Careers/Jobs pages.\\n\"\n",
        "link_system_prompt += \"You should respond in JSON as in this example:\"\n",
        "link_system_prompt += \"\"\"\n",
        "{\n",
        "    \"links\": [\n",
        "        {\"type\": \"about page\", \"url\": \"https://full.url/goes/here/about\"},\n",
        "        {\"type\": \"careers page\": \"url\": \"https://another.full.url/careers\"}\n",
        "    ]\n",
        "}\n",
        "\"\"\"\n",
        "\n",
        "# here i am asking the model to go throw the links collected from the scrapper to find the relevant links and\n",
        "# output them in json format."
      ],
      "metadata": {
        "id": "G3SYinCvGCzx"
      },
      "execution_count": null,
      "outputs": []
    },
    {
      "cell_type": "code",
      "source": [
        "def get_links_user_prompt(website):\n",
        "    user_prompt = f\"Here is the list of links on the website of {website.url} - \"\n",
        "    user_prompt += \"please decide which of these are relevant web links for a brochure about the company, respond with the full https URL in JSON format. \\\n",
        "Do not include Terms of Service, Privacy, email links.\\n\"\n",
        "    user_prompt += \"Links (some might be relative links):\\n\"\n",
        "    user_prompt += \"\\n\".join(website.links)\n",
        "    return user_prompt\n",
        "# here i am prompting what kind of links are relevant to the website."
      ],
      "metadata": {
        "id": "OnDDpeu9GPvW"
      },
      "execution_count": null,
      "outputs": []
    },
    {
      "cell_type": "code",
      "source": [
        "# so user prompt will be\n",
        "print(get_links_user_prompt(ed))"
      ],
      "metadata": {
        "colab": {
          "base_uri": "https://localhost:8080/"
        },
        "id": "etfV6sJVGVxJ",
        "outputId": "55dff77f-b553-4e9e-f802-21d4da62a231",
        "collapsed": true
      },
      "execution_count": null,
      "outputs": [
        {
          "output_type": "stream",
          "name": "stdout",
          "text": [
            "Here is the list of links on the website of https://www.ewubd.edu/ - please decide which of these are relevant web links for a brochure about the company, respond with the full https URL in JSON format. Do not include Terms of Service, Privacy, email links.\n",
            "Links (some might be relative links):\n",
            "https://result.ewubd.edu/\n",
            "https://www.ewubd.edu/notice-details/crtewu-107th-research-seminar\n",
            "https://www.ewubd.edu/storage/app/media/EDC-SICIP/Admission%20Notice_East%20West%20University.pdf\n",
            "https://www.ewubd.edu/notice-details/extension-time-call-proposals-round-17-2\n",
            "https://www.ewubd.edu/storage/app/media/crt/Call%20For%20Paper/2nd%20Call%20Vol%2012.pdf\n",
            "https://www.ewubd.edu\n",
            "#kingster-mobile-menu\n",
            "https://www.ewubd.edu\n",
            "#\n",
            "https://fse.ewubd.edu\n",
            "https://flass.ewubd.edu\n",
            "https://fbe.ewubd.edu\n",
            "#\n",
            "https://fse.ewubd.edu/computer-science-engineering\n",
            "https://fse.ewubd.edu/electrical-electronic-engineering\n",
            "https://fse.ewubd.edu/genetic-engineering-biotechnology\n",
            "https://fse.ewubd.edu/pharmacy-department\n",
            "https://fse.ewubd.edu/civil-engineering\n",
            "https://fse.ewubd.edu/mathematical-physical-science\n",
            "https://flass.ewubd.edu/english-department\n",
            "https://flass.ewubd.edu/law-department\n",
            "https://flass.ewubd.edu/social-relations-department\n",
            "https://flass.ewubd.edu/information-studies-library-management\n",
            "https://flass.ewubd.edu/sociology-department\n",
            "https://fbe.ewubd.edu/business-administration\n",
            "https://fbe.ewubd.edu/masters-of-business-administration\n",
            "https://fbe.ewubd.edu/economics-department\n",
            "https://alumni.ewubd.edu/\n",
            "#\n",
            "/career-counseling-center\n",
            "/ewu-sexual-harassment-elimination-and-prevention-policy\n",
            "/grades-rules-and-regulations\n",
            "/student-rules-regulation\n",
            "https://portal.ewubd.edu/\n",
            "/\n",
            "/academic-calendar\n",
            "/daily-duty-schedule-proctors\n",
            "/payment-procedure\n",
            "/scholarships-financial-aid\n",
            "/degree-programs\n",
            "/campus-life\n",
            "/clubs\n",
            "#\n",
            "/history\n",
            "/vision-mission-ewu\n",
            "/syndicate\n",
            "/academic-council\n",
            "#\n",
            "/admin-office/office-of-the-chairperson-bot\n",
            "/admin-office/office-of-the-chief-advisor\n",
            "/admin-office/office-of-the-vice-chancellor\n",
            "/admin-office/office-of-the-pro-vice-chancellor\n",
            "/admin-office/office-of-the-treasurer\n",
            "/admin-office/deans-office\n",
            "/admin-office/office-of-the-registrar\n",
            "/admin-office/office-of-the-proctor\n",
            "/admin-office/library-personnel\n",
            "/admin-office/office-of-the-director-of-finance\n",
            "/admin-office/office-of-the-controller-of-examination\n",
            "/admin-office/office-of-the-hr-and-logistics\n",
            "/admin-office/information-and-communication-services\n",
            "/admin-office/office-of-the-internal-auditor\n",
            "/admin-office/center-for-research-and-training\n",
            "/admin-office/iqac-officials\n",
            "/admin-office/engineering-and-maintenance-department\n",
            "/admin-office/ewu-medical-centre\n",
            "/admin-office/office-of-the-students-welfare\n",
            "/department-administrative-official\n",
            "/newsletters\n",
            "/vc-newsletters\n",
            "#\n",
            "/convocation\n",
            "#\n",
            "#\n",
            "/convocation-notice-board\n",
            "/convocation-database\n",
            "/faq\n",
            "#\n",
            "/board-trustees\n",
            "/vice-chancellor\n",
            "/pro-vice-chancellor\n",
            "/treasurer\n",
            "/registrar\n",
            "#\n",
            "#\n",
            "/undergraduate-programs\n",
            "http://admission.ewubd.edu\n",
            "/undergraduate-tuition-fees\n",
            "/undergraduate-dates-deadline\n",
            "#\n",
            "/graduate-programs\n",
            "http://admission.ewubd.edu\n",
            "/graduate-programs-tuition-fees\n",
            "/graduate-dates-deadline\n",
            "#\n",
            "https://www.ewubd.edu/diploma-programs/\n",
            "http://admission.ewubd.edu\n",
            "#\n",
            "#\n",
            "#\n",
            "/scholarships-financial-aid\n",
            "/how-apply-financial-aids\n",
            "/important-dates-deadline\n",
            "/forms-and-document\n",
            "/admissions-faqs\n",
            "#\n",
            "/news\n",
            "/events\n",
            "https://www.crtewu.org/\n",
            "/message-director-iqac\n",
            "http://lib.ewubd.edu/\n",
            "/students-helpdesk\n",
            "https://result.ewubd.edu/\n",
            "https://www.ewubd.edu/notice-details/crtewu-107th-research-seminar\n",
            "https://www.ewubd.edu/storage/app/media/EDC-SICIP/Admission%20Notice_East%20West%20University.pdf\n",
            "https://www.ewubd.edu/notice-details/extension-time-call-proposals-round-17-2\n",
            "https://www.ewubd.edu/storage/app/media/crt/Call%20For%20Paper/2nd%20Call%20Vol%2012.pdf\n",
            "#\n",
            "https://fse.ewubd.edu\n",
            "https://flass.ewubd.edu\n",
            "https://fbe.ewubd.edu\n",
            "#\n",
            "https://fse.ewubd.edu\n",
            "https://fse.ewubd.edu/computer-science-engineering\n",
            "https://fse.ewubd.edu/electrical-electronic-engineering\n",
            "https://fse.ewubd.edu/genetic-engineering-biotechnology\n",
            "https://fse.ewubd.edu/pharmacy-department\n",
            "https://fse.ewubd.edu/civil-engineering\n",
            "https://fse.ewubd.edu/mathematical-physical-science\n",
            "https://flass.ewubd.edu\n",
            "https://flass.ewubd.edu/english-department\n",
            "https://flass.ewubd.edu/law-department\n",
            "https://flass.ewubd.edu/social-relations-department\n",
            "https://flass.ewubd.edu/information-studies-library-management\n",
            "https://flass.ewubd.edu/sociology-department\n",
            "https://fbe.ewubd.edu\n",
            "https://fbe.ewubd.edu/business-administration\n",
            "https://fbe.ewubd.edu/economics-department\n",
            "https://alumni.ewubd.edu/\n",
            "#\n",
            "/career-counseling-center\n",
            "/ewu-sexual-harassment-elimination-and-prevention-policy\n",
            "/grades-rules-and-regulations\n",
            "/student-rules-regulation\n",
            "https://portal.ewubd.edu/\n",
            "/academic-calendar\n",
            "/daily-duty-schedule-proctors\n",
            "/payment-procedure\n",
            "/scholarships-financial-aid\n",
            "/degree-programs\n",
            "/campus-life\n",
            "/clubs\n",
            "https://mail.google.com/a/ewubd.edu\n",
            "#\n",
            "https://www.ewubd.edu/backend/backend/auth/restore\n",
            "https://www.ewubd.edu\n",
            "https://www.ewubd.edu\n",
            "#\n",
            "/history\n",
            "/vision-mission-ewu\n",
            "/syndicate\n",
            "/academic-council\n",
            "#\n",
            "/admin-office/office-of-the-chairperson-bot\n",
            "/admin-office/office-of-the-chief-advisor\n",
            "/admin-office/office-of-the-vice-chancellor\n",
            "/admin-office/office-of-the-pro-vice-chancellor\n",
            "/admin-office/office-of-the-treasurer\n",
            "/admin-office/deans-office\n",
            "/admin-office/office-of-the-registrar\n",
            "/admin-office/office-of-the-proctor\n",
            "/admin-office/library-personnel\n",
            "/admin-office/office-of-the-director-of-finance\n",
            "/admin-office/office-of-the-controller-of-examination\n",
            "/admin-office/office-of-the-hr-and-logistics\n",
            "/admin-office/information-and-communication-services\n",
            "/admin-office/office-of-the-internal-auditor\n",
            "/admin-office/center-for-research-and-training\n",
            "/admin-office/iqac-officials\n",
            "/admin-office/engineering-and-maintenance-department\n",
            "/admin-office/ewu-medical-centre\n",
            "/admin-office/office-of-the-students-welfare\n",
            "/department-administrative-official\n",
            "/newsletters\n",
            "/vc-newsletters\n",
            "#\n",
            "/convocation\n",
            "#\n",
            "#\n",
            "/convocation-notice-board\n",
            "/convocation-database\n",
            "/faq\n",
            "#\n",
            "/board-trustees\n",
            "/vice-chancellor\n",
            "/pro-vice-chancellor\n",
            "/treasurer\n",
            "/registrar\n",
            "#\n",
            "/undergraduate-programs\n",
            "http://admission.ewubd.edu\n",
            "/undergraduate-tuition-fees\n",
            "/undergraduate-dates-deadline\n",
            "#\n",
            "/graduate-programs\n",
            "http://admission.ewubd.edu\n",
            "/graduate-programs-tuition-fees\n",
            "/graduate-dates-deadline\n",
            "#\n",
            "https://www.ewubd.edu/diploma-programs/\n",
            "http://admission.ewubd.edu\n",
            "#\n",
            "#\n",
            "#\n",
            "/scholarships-financial-aid\n",
            "/how-apply-financial-aids\n",
            "/important-dates-deadline\n",
            "/forms-and-document\n",
            "/admissions-faqs\n",
            "#\n",
            "/news\n",
            "/events\n",
            "https://www.crtewu.org/\n",
            "/message-director-iqac\n",
            "http://lib.ewubd.edu/\n",
            "/students-helpdesk\n",
            "https://fbe.ewubd.edu/business-administration/news-details/department-business-administration-ewu-and-cfa-society-bangladesh-jointly-organizes-cfa-institute-university-affiliation-program-ceremony\n",
            "https://www.ewubd.edu/news/east-west-university-signs-mou-asian-institute-technology-strengthen-academic-collaboration\n",
            "https://www.ewubd.edu/achievement-details/bachelor-business-administration-bba-accounting-east-west-university-acca-accredited-programme\n",
            "https://www.ewubd.edu/news/day-long-job-fair-held-east-west-university\n",
            "https://www.ewubd.edu/news/ewu-observes-international-mother-language-day-multiple-events\n",
            "https://www.ewubd.edu/news/east-west-university-observed-53rd-independence-day\n",
            "#home-carousel\n",
            "#home-carousel\n",
            "https://admission.ewubd.edu\n",
            "https://result.ewubd.edu\n",
            "/graduate-dates-deadline\n",
            "https://www.ewubd.edu/scholarships-financial-aid#collapse-0\n",
            "http://portal.ewubd.edu/\n",
            "https://www.ewubd.edu/journal-and-publications\n",
            "/clubs\n",
            "/notice-board\n",
            "/institutional-quality-assurance-cell-iqac\n",
            "/ics\n",
            "https://fbe.ewubd.edu/masters-of-business-administration/mba-emba-programs\n",
            "https://admission.ewubd.edu/index.php?documentid=available.php\n",
            "https://www.ewubd.edu/scholarships-financial-aid\n",
            "/degree-programs\n",
            "https://ccc.ewubd.edu/\n",
            "/scholarships-financial-aid\n",
            "https://alumni.ewubd.edu/\n",
            "/notice-details/crtewu-107th-research-seminar\n",
            "/notice-details/submission-admission-forms-revised-date-and-time-spring-2025\n",
            "/notice-details/crtewu-106th-seminar-numerical-modeling-various-coastal-processes\n",
            "/notice-details/online-advising-courses-spring-semester-2025-bpharm-mpharm-llb-and-llm-programs\n",
            "/notice-details/online-advising-courses-spring-semester-2025-except-mpharm-and-llm-programs\n",
            "/notice-details/rescheduled-crtewu-105th-knowledge-sharing-seminar\n",
            "/notice-details/crtewu-105th-knowledge-sharing-seminar\n",
            "/notice-details/online-application-graduation-24th-convocation-dec-2025\n",
            "/notice-details/financial-assistance-spring-2025\n",
            "/notice-details/call-applications-graduate-diploma-leather-leather-goods-and-footwear-management-gdlfm-program-batch-3-4\n",
            "/notice-details/online-application-graduation-24th-convocation-2025-11-24-007\n",
            "/notice-details/crtewu-104th-research-seminar-2\n",
            "/academic-calendar\n",
            "/events\n",
            "/single-event/seminar-stress-management\n",
            "/single-event/group-counseling-session-stress-management\n",
            "/single-event/national-robo-fest\n",
            "/single-event/cricket-cup-2024\n",
            "https://www.ewubd.edu/office-employee/167\n",
            "https://ewubd.edu/office-employee/professor-dr-mohammed-farashuddin\n",
            "/news\n",
            "/news/crtewu-hosts-seminar-perceived-service-quality-district-public-libraries-bangladesh\n",
            "/news/honda-presents-gamecon-season-1-hosted-ewu-computer-programming-club\n",
            "/news/east-west-university-plants-betel-nut-tree-around-campus\n",
            "/news/east-west-university-successfully-conducts-admission-test-spring-semester-2025\n",
            "/news/crtewu-hosts-research-seminar-numerical-modeling-tsunami-and-storm-surges\n",
            "/news/orientation-program-graduate-diploma-leather-leather-goods-and-footwear-management-held-east-west-university\n",
            "/news/drama-nakshi-kanthar-maath-along-pitha-utshob-organized-club-performing-arts-ecpa\n",
            "/news/east-west-university-arranges-merit-scholarship-awarding-ceremony\n",
            "/news/national-telco-warfare-2024-organized-east-west-university-telecommunications-club\n",
            "/news/professor-dr-dilara-begum-joined-ifla-panel-session-how-working-internationally-made-me-think-differently-about-ai\n",
            "https://www.ewubd.edu/vice-chancellor\n",
            "https://www.ewubd.edu/vice-chancellor\n",
            "/achievement-details/prof-dr-shamsun-nahar-khan-has-been-invited-invited-speaker-deliver-her-talk-international-conference\n",
            "/achievement-details/ewu-law-team-shines-runner-29th-stetson-international-environmental-moot-court-competition\n",
            "/achievement-details/east-west-university-student-wins-crown-maricos-over-wall-season-3-competition\n",
            "/achievement-details/mahdin-shafiq-omi-recognized-global-stage-photography-excellence\n",
            "/achievement-details/ecpa-secured-1st-runner-art-segment-seu-cultural-fest\n",
            "/achievement-details/professor-dr-dilara-begum-attended-international-conference-france\n",
            "/achievement-details/east-west-university-debating-club-triumphs-18th-mgbsdc-nationals-2024\n",
            "/achievement-details/english-department-student-wins-best-paper-award\n",
            "/achievement-details/cse-students-won-two-best-paper-awards-springer-icida-2024\n",
            "/achievement-details/professor-dr-dilara-begum-was-invited-speaker-international-conference-bangalore-india\n",
            "/achievements\n",
            "https://www.facebook.com/myewu/\n",
            "https://www.youtube.com/EastWestUniversity96\n",
            "https://twitter.com/myewubd\n",
            "https://www.instagram.com/eastwestuniversitybd/\n",
            "https://www.ewubd.edu/\n",
            "#\n",
            "#\n",
            "mailto:admissions@ewubd.edu\n",
            "mailto:info@ewubd.edu\n",
            "https://www.ewubd.edu/academic-calendar\n",
            "https://www.ewubd.edu/campus-life\n",
            "https://www.ewubd.edu/payment-procedure\n",
            "https://www.ewubd.edu/convocation\n",
            "https://www.ewubd.edu/student-rules-regulation\n",
            "https://www.ewubd.edu/search-faculty\n",
            "/grades-rules-and-regulations\n",
            "https://www.ewubd.edu/directory\n",
            "https://www.ewubd.edu/daily-duty-schedule-proctors\n",
            "http://etender.ewubd.edu/\n",
            "https://www.ewubd.edu/tender\n",
            "https://www.ewubd.edu/image-gallery\n",
            "/journal-and-publications\n",
            "https://www.ewubd.edu/archives\n",
            "http://admission.ewubd.edu/\n",
            "/career\n",
            "https://www.ewubd.edu/degree-verification\n",
            "/enquire\n",
            "/maps\n",
            "/enquire\n",
            "#\n"
          ]
        }
      ]
    },
    {
      "cell_type": "code",
      "source": [
        "#now we send the prompts to the llm\n",
        "def get_links(url):\n",
        "    website = WebsiteScraper(url)\n",
        "    response = client.chat.completions.create(\n",
        "        model=MODEL_LLAMA,\n",
        "        messages=[\n",
        "            {\"role\": \"system\", \"content\": link_system_prompt},\n",
        "            {\"role\": \"user\", \"content\": get_links_user_prompt(website)}\n",
        "      ],\n",
        "        response_format={\"type\": \"json_object\"}\n",
        "    )\n",
        "    result = response.choices[0].message.content\n",
        "    return json.loads(result)"
      ],
      "metadata": {
        "id": "oU0YBozBGbOI"
      },
      "execution_count": null,
      "outputs": []
    },
    {
      "cell_type": "code",
      "source": [
        "get_links(\"https://www.ewubd.edu/\")"
      ],
      "metadata": {
        "colab": {
          "base_uri": "https://localhost:8080/"
        },
        "id": "AVoxml8SGlSX",
        "outputId": "8871998c-a46b-4d85-a71b-bf3cf714cb90"
      },
      "execution_count": null,
      "outputs": [
        {
          "output_type": "execute_result",
          "data": {
            "text/plain": [
              "{'links': [{'type': 'about page', 'url': 'https://www.ewubd.edu/'},\n",
              "  {'type': 'admission page', 'url': 'http://admission.ewubd.edu'},\n",
              "  {'type': 'career page', 'url': 'https://www.ewubd.edu/career'},\n",
              "  {'type': 'alumni page', 'url': 'https://alumni.ewubd.edu/'},\n",
              "  {'type': 'scholarships page',\n",
              "   'url': 'https://www.ewubd.edu/scholarships-financial-aid'},\n",
              "  {'type': 'academic calendar',\n",
              "   'url': 'https://www.ewubd.edu/academic-calendar'},\n",
              "  {'type': 'campus life', 'url': 'https://www.ewubd.edu/campus-life'}]}"
            ]
          },
          "metadata": {},
          "execution_count": 19
        }
      ]
    },
    {
      "cell_type": "markdown",
      "source": [
        "Now we have relevent links that we can use to go throw and get information (If you use open ai it may give better result. I am using a small model so it gave me small list of relevent links)"
      ],
      "metadata": {
        "id": "xPSjLjXb2oJN"
      }
    },
    {
      "cell_type": "code",
      "source": [
        "#here we go throw each links and get the page content for all the links\n",
        "\n",
        "def get_all_details(url):\n",
        "    result = \"Landing page:\\n\"\n",
        "    result += WebsiteScraper(url).get_contents()\n",
        "    links = get_links(url)\n",
        "    # print(\"Found links:\", links)\n",
        "    for link in links[\"links\"]:\n",
        "        print(\"Processing link:\", link)\n",
        "        result += f\"\\n\\n{link['type']}\\n\"\n",
        "        result += WebsiteScraper(link[\"url\"]).get_contents()\n",
        "    return result"
      ],
      "metadata": {
        "id": "4jzIGpKOhX_a"
      },
      "execution_count": null,
      "outputs": []
    },
    {
      "cell_type": "code",
      "source": [
        "get_all_details(\"https://www.ewubd.edu/\")"
      ],
      "metadata": {
        "colab": {
          "base_uri": "https://localhost:8080/",
          "height": 278
        },
        "id": "51DG2bqQhh1y",
        "outputId": "d2d03e2d-ce5b-474a-c306-aa27c036a232",
        "collapsed": true
      },
      "execution_count": null,
      "outputs": [
        {
          "output_type": "stream",
          "name": "stdout",
          "text": [
            "Processing link: {'type': 'about page', 'url': 'https://www.ewubd.edu/'}\n",
            "Processing link: {'type': 'admission page', 'url': 'http://admission.ewubd.edu'}\n",
            "Processing link: {'type': 'career page', 'url': 'https://www.ewubd.edu/career'}\n",
            "Processing link: {'type': 'academic calendar', 'url': 'https://www.ewubd.edu/academic-calendar'}\n",
            "Processing link: {'type': 'campus life', 'url': 'https://www.ewubd.edu/campus-life'}\n",
            "Processing link: {'type': 'scholarships and financial aid', 'url': 'https://www.ewubd.edu/scholarships-financial-aid'}\n",
            "Processing link: {'type': 'degree programs', 'url': 'https://www.ewubd.edu/degree-programs'}\n",
            "Processing link: {'type': 'alumni', 'url': 'https://alumni.ewubd.edu/'}\n",
            "Processing link: {'type': 'library', 'url': 'http://lib.ewubd.edu/'}\n",
            "Processing link: {'type': 'result', 'url': 'https://result.ewubd.edu/'}\n"
          ]
        },
        {
          "output_type": "execute_result",
          "data": {
            "text/plain": [
              "'Landing page:\\nWebpage Title:\\nEast West University\\nWebpage Contents:\\nAdmission Test Results: Spring 2025\\nCRTEWU 107th Research Seminar\\nCall for Applications: Graduate Diploma in Leather, Leather Goods and Footwear Management (GDLFM) program of batch 3 & 4 (Deadline: 18 Dec. 2024)\\nExtension of Time: Call for Proposals-Round 17\\n2nd Call for Papers: East West Journal of Business and Social Studies: Vol.12, 2024\\nHome\\nFaculties\\nFaculty of Sciences and Engineering\\nFaculty of Liberal Arts and Social Sciences\\nFaculty of Business and Economics\\nDepartments\\nCSE\\nEEE\\nGEB\\nPharmacy\\nCivil Engineering\\nMathematical & Physical Sciences\\nEnglish\\nLaw\\nSocial Relations\\nInformation Studies\\nSociology\\nBusiness Administration\\nMBA & EMBA Programs\\nEconomics\\nAlumni\\nStudents\\nDept. of Student\\'s Welfare\\nSexual Harassment\\nGrades, Rules & Regulations\\nRules & Regulation\\nStudent Portal (Grade Report)\\nSearch Course\\nAcademic Calendar\\nProctor Schedule\\nPayment Procedure\\nScholarships & Financial Assistance\\nDegree Programs\\nCampus Life\\nClubs\\nAbout\\nHistory\\nVision &\\n                                                    Mission\\nSyndicate\\nAcademic\\n                                                    Council\\nOffice\\nChairperson, BoT\\nChief Advisor\\nVice Chancellor\\nPro Vice Chancellor\\nTreasurer\\nDean\\'s Office\\nRegistrar\\nProctor\\nLibrary personnel\\nDirector of Finance\\nController of Examination\\nHR & Logistics\\nInformation & Communication Services\\nInternal Auditor\\nCRT\\nIQAC\\nEngineering & Maintenance Department\\nEWU Medical Centre\\nStudent\\'s Welfare\\nDepartment Admin\\nNewsletter\\nVC Newsletter\\nConvocation\\nConvocation\\nConvocation Registration Form\\nConvocation Rules & Guidelines\\nUrgent Notice\\nConvocation Database\\nFAQ\\nAuthority\\nBoard of Trustees\\nVice Chancellor\\nPro-Vice Chancellor\\nTreasurer\\nRegistrar\\nAdmissions\\nUndergraduate\\nUndergraduate\\n                                                    Programs\\nApply\\n                                                    Online\\nTuition\\n                                                    Fees\\nDates\\n                                                    & Deadline\\nGraduate\\nGraduate\\n                                                    Programs\\nApply\\n                                                    Online\\nTuition\\n                                                    Fees\\nDates\\n                                                    & Deadline\\nDiploma\\nDiploma Programs\\nApply\\n                                                    Online\\nTuition Fees\\nDates & Deadline\\nFinancial Assistance\\nScholarships\\n                                                    & Financial Assistance\\nHow to\\n                                                    Apply\\nImportant\\n                                                    Dates & Deadline\\nForms &\\n                                                    Document\\nFAQ\\nNews & Events\\nNews\\nEvents\\nCRT\\nIQAC\\nLibrary\\nHelpdesk\\nAdmission Test Results: Spring 2025\\nCRTEWU 107th Research Seminar\\nCall for Applications: Graduate Diploma in Leather, Leather Goods and Footwear Management (GDLFM) program of batch 3 & 4 (Deadline: 18 Dec. 2024)\\nExtension of Time: Call for Proposals-Round 17\\n2nd Call for Papers: East West Journal of Business and Social Studies: Vol.12, 2024\\nFaculties\\nFaculty of Sciences and Engineering\\nFaculty of Liberal Arts and Social Sciences\\nFaculty of Business and Economics\\nDepartments\\nFaculty of Sciences and Engineering\\nDepartment of Computer Science & Engineering\\nDepartment of Electrical and Electronic Engineering\\nDepartment of Genetic Engineering & Biotechnology\\nDepartment of Pharmacy\\nDepartment of Civil Engineering\\nDepartment of Mathematical & Physical Sciences\\nFaculty of Liberal Arts and Social Sciences\\nDepartment of English\\nDepartment of Law\\nDepartment of Social Relations\\nDepartment of Information Studies\\nDepartment of Sociology\\nFaculty of Business and Economics\\nDepartment of Business Administration\\nDepartment of Economics\\nAlumni\\nStudent\\nCareer Counseling Center\\nSexual Harassment\\nGrades, Rules and Regulations\\nRules & Regulation\\nStudent Portal (Grade Report)\\nAcademic Calendar\\nProctor Schedule\\nPayment Procedure\\nScholarships & Financial Assistance\\nDegree Programs\\nCampus Life\\nClubs\\nJoin a community of the world’s brightest minds and prepare to tackle its greatest problems. Here, your ideas will be heard, supported, questioned, tested, and honed as you form a network of lifelong friends, colleagues, and collaborators.\\nEmail\\nUsername\\nPassword\\nLogin\\nLost Your Password?\\nHome\\nAbout\\nHistory\\nVision &\\n                                                    Mission\\nSyndicate\\nAcademic\\n                                                    Council\\nOffice\\nOffice of The\\n                                                                    Chairperson, BoT\\nOffice of The Chief Advisor\\nOffice of The Vice\\n                                                                    Chancellor\\nOffice of The Pro\\n                                                                    Vice Chancellor\\nOffice of The Treasurer\\nDean\\'s Office\\nOffice of The Registrar\\nOffice of The Proctor\\nLibrary personnel\\nOffice of The\\n                                                                    Director of Finance\\nOffice of The\\n                                                                    Controller of Examination\\nOffice of The HR &\\n                                                                    Logistics\\nInformation\\n                                                                    & Communication Services\\nOffice of The\\n                                                                    Internal Auditor\\nCenter for\\n                                                                    Research & Training (CRT)\\nOffice of The IQAC\\nEngineering\\n                                                                    & Maintenance Department\\nEWU Medical Centre\\nOffice of The\\n                                                                    Student\\'s Welfare\\nOffice of The\\n                                                                    Department Admin\\nNewsletter\\nVC Newsletter\\nConvocation\\nConvocation\\nConvocation Registration Form\\nConvocation Rules & Guidelines\\nUrgent Notice\\nConvocation\\n                                                        Database\\nFAQ\\nAuthority\\nBoard of Trustees\\nVice Chancellor\\nPro-Vice Chancellor\\nTreasurer\\nRegistrar\\nAdmissions\\nUndergraduate\\nUndergraduate\\n                                                            Programs\\nApply\\n                                                            Online\\nTuition\\n                                                            Fees\\nDates\\n                                                            & Deadline\\nGraduate\\nGraduate\\n                                                            Programs\\nApply\\n                                                            Online\\nTuition\\n                                                            Fees\\nDates\\n                                                            & Deadline\\nDiploma\\nDiploma Programs\\nApply\\n                                                            Online\\nTuition Fees\\nDates & Deadline\\nFinancial Assistance\\nScholarships\\n                                                            & Financial Assistance\\nHow to\\n                                                            Apply\\nImportant\\n                                                            Dates & Deadline\\nForms &\\n                                                            Document\\nFAQ\\nNews & Events\\nNews\\nEvents\\nCRT\\nIQAC\\nLibrary\\nHelpdesk\\nView Details\\nView Details\\nView Details\\nView Details\\nView Details\\nView Details\\nPrevious\\nNext\\nUndergraduate & Graduate Admission\\nSpring 2025\\nApplication Deadline:\\n16-Jan-2025\\n2025-01-16 23:59:59\\nDays\\nHour\\nMins\\nSecs\\nApply Online\\nAdmission Test Results:\\nSpring 2025\\nView More\\nGraduate\\nAdmission:\\nSpring 2025\\nApplication Deadline:\\n28-Feb-2025\\n2025-02-28 23:59:59\\nDays\\nHour\\nMins\\nSecs\\nRead More\\nGenerous Scholarships\\n50% - 100% is available\\nduring admission\\nView More\\nStudent Panel\\nPublications\\nClubs\\nNotice\\nIQAC\\nICS\\nApply for Admission MBA/EMBA Programs: Spring 2025. MBA Application Deadline: January 17, 2025. EMBA Application Deadline: February 13, 2025\\nView More\\nGenerous Scholarships from 50%-100% is available during admission.\\nApply\\n                                    for admission\\nGenerous Scholarships and Financial Assistance: 11 Crores\\nView\\n                                    More\\nDegree Program\\nJoin a community of the world’s brightest minds and prepared.\\nStudent\\'s Welfare\\nDepartment of Student\\'s Welfare.\\nScholarship\\nScholarships & Financial Aid.\\nAlumni\\nOur alumni is our strength\\nSearch Course\\nSelect Department\\nDepartment of Computer Science & Engineering\\nDepartment of Business Administration\\nDepartment of English\\nDepartment of Economics\\nDepartment of Law\\nDepartment of Electrical and Electronic Engineering\\nDepartment of Social Relations\\nDepartment of Electronics and Communications Engineering\\nDepartment of MBA/EMBA\\nDepartment  of Genetic Engineering and Biotechnology\\nDepartment of Information Studies\\nDepartment  of Pharmacy\\nDepartment of Sociology\\nDepartment of Civil Engineering\\nDepartment of Mathematical and Physical Sciences\\nSelect Course\\nSearch\\n                        Course\\nStudent Enrolled 10k+\\nPHD Professors 105+\\nProgram Offered 29\\nNational Awards 10+\\nNotice\\n19\\nJan 2025\\nCRTEWU 107th Research Seminar\\nRead More\\n16\\nJan 2025\\nSubmission of Admission Forms (Revised date and time): Spring 2025\\nRead More\\n12\\nJan 2025\\nCRTEWU 106th Seminar on “Numerical Modeling of Various Coastal Processes”\\nRead More\\n03\\nJan 2025\\nOnline Advising of Courses for Spring Semester 2025 (B.Pharm, M.Pharm, LLB and LLM Programs)\\nRead More\\n03\\nJan 2025\\nOnline Advising of Courses for Spring Semester 2025 (except M.Pharm and LL.M Programs)\\nRead More\\n18\\nDec 2024\\nRescheduled CRTEWU 105th knowledge Sharing Seminar\\nRead More\\n17\\nDec 2024\\nCRTEWU 105th knowledge Sharing Seminar\\nRead More\\n02\\nDec 2024\\nOnline Application for Graduation 24th Convocation 2025\\nRead More\\n01\\nDec 2024\\nFinancial Assistance, Spring 2025\\nRead More\\n30\\nNov 2024\\nCall for Applications: Graduate Diploma in Leather, Leather Goods and Footwear Management (GDLFM) pr...\\nRead More\\n11\\nNov 2024\\nOnline Application for Graduation 24th Convocation 2025\\nRead More\\n31\\nOct 2024\\nCRTEWU 104th Research Seminar\\nRead More\\nImportant Dates\\nView all\\nOctober\\n06\\nOctober 06, 2024: Submission of Final Grades\\nOctober\\n17\\nOctober 17, 2024: Orientation for Fall 2024\\nOctober\\n20\\nOctober 20, 2024: First Day of Classes for Fall 2024\\nJanuary\\n18\\nJanuary 18, 2025: Admission Test for Spring 2025\\nFebruary\\n09\\nFebruary 09-13, 2025: Final Examinations\\nOur Events\\nView all\\n01\\nSep, 2024\\nSeminar on Stress Management\\nRoom No. 126, S. M. Nousher Ali Lecture Gallery\\n01 Sep, 2024\\nRead More\\n13\\nAug, 2024\\nCounseling Session on Stress Management\\nEast West University\\n13 Aug, 2024\\nRead More\\n08\\nAug, 2024\\nNational Robo Fest\\nEast West University\\n08 Aug, 2024\\nRead More\\n06\\nAug, 2024\\nCricket Cup 2024\\nEast West University\\n06 Aug, 2024\\nRead More\\nEvery individual who has interest in education whether within the country or beyond is\\n                            warmly welcome to East West University community, preferably in person, and that will be a\\n                            privilege of mine.\\nProfessor Dr. Mohammed Farashuddin\\nChief Advisor, East West University\\nRecent News\\nView all\\n23\\nJan\\n2025\\nCRTEWU Hosts Seminar on Perceived Service Quality of Distric...\\nCRTEWU Hosts Seminar on Perceived Service Quality\\nThe Center for Research and Training at East West University (CRTEWU) successfully hosted a research seminar titled “Perceived Service Quality of District Public Libraries of Bangladesh: An Analysis through the Lens of LibQUAL+” on January 23, 2025, ...\\n22\\nJan\\n2025\\nHonda Presents GameCon Season 1 hosted by EWU Computer Progr...\\nHonda Presents GameCon Season 1 hosted by EWU Comp\\nThe East West University Computer Programming Club (EWUCoPC) successfully hosted\\nGameCon: Season 1\\n, an exhilarating gaming festival that brought together over 2000 participants from 60+ universities and colleges across Bangladesh. The event, sponsore...\\n21\\nJan\\n2025\\nEast West University Plants Betel Nut Tree Around the Campus\\nEast West University Plants Betel Nut Tree Around\\nEast West University (EWU) inaugurated the Betel nut tree plantation program around the campus at Aftabnagar in Dhaka. This significant event took place on the morning of January 21, 2025 at the ‘Shaeed Minar’ Premises, and was attended by esteemed m...\\n18\\nJan\\n2025\\nEast West University Successfully Conducts Admission Test fo...\\nEast West University Successfully Conducts Admissi\\nEast West University (EWU) proudly announces the successful completion of its admission test for the Spring Semester 2025, held on 18 January 2025 at the EWU Campus in Aftabnagar, Dhaka. The event saw the participation of over four thousand applicant...\\n17\\nJan\\n2025\\nCRTEWU Hosts a Research Seminar on Numerical Modeling of Tsu...\\nCRTEWU Hosts a Research Seminar on Numerical Model\\nThe Center for Research and Training at East West University (CRTEWU) successfully hosted a research seminar titled “Numerical Modeling of Tsunami and Storm Surges along the Coastal Belt of the Indian Ocean” on January 16, 2025, in the CRTEWU Seminar...\\n17\\nJan\\n2025\\nOrientation Program for Graduate Diploma in Leather, Leather...\\nOrientation Program for Graduate Diploma in Leathe\\nThe Executive Development Center (EDC) under the Skills for Industry Competitiveness and Innovation Program (SICIP) at East West University (EWU) successfully organized an Orientation Program for the Graduate Diploma in Leather, Leather Goods, and Fo...\\n15\\nJan\\n2025\\nDrama Nakshi Kanthar Maath along with Pitha Utshob organized...\\nDrama Nakshi Kanthar Maath along with Pitha Utshob\\nThe East West University Club for Performing Arts (ECPA) proudly presented their self-written drama adaptation of\\nNakshi Kanthar Maath\\n, inspired by the timeless poem by Poet Jashimuddin on 6\\nth\\nJanuary, 2025. Alongside the drama, a colorful\\nPitha Utsh...\\n13\\nJan\\n2025\\nEast West University Arranges a Merit Scholarship Awarding C...\\nEast West University Arranges a Merit Scholarship\\nEast West University (EWU) provided the Merit Scholarship Award to 219 students from the Summer and Fall Semester 2024 students for their excellent academic performance. Most of the scholarship recipients students were female. The ceremony took place...\\n05\\nJan\\n2025\\nNational Telco Warfare 2024 organized by East West Universit...\\nNational Telco Warfare 2024 organized by East West\\nEast West University Telecommunications Club has successfully hosted\\n\"The Royal Hat Presents National Telco Warfare 2024,\"\\nproudly powered by Flight Expert. The two-day event, held on December 26 and December 27, brought together over 500 participant...\\n05\\nJan\\n2025\\nProfessor Dr. Dilara Begum joined IFLA panel session on ‘How...\\nProfessor Dr. Dilara Begum joined IFLA panel sessi...\\nProfessor Dr. Dilara Begum\\n, Chairperson of the Department of Information Studies, East West University, attended the Governing Board meeting as an elected member of the International Federation of Library Associations and Institutions (IFLA) for the ...\\nEWU is committed to providing quality education and to nurturing creativity for\\n                        producing successful graduates who will serve our society and the world.\\nProfessor Shams Rahman\\nVice Chancellor\\nEWU Achievements\\nProf. Dr. Shamsun Nahar Khan has been invited as an invited speaker to deliver her talk at the International Conference\\nAchieved on:\\xa0 04 Feb, 2025\\nView Details\\nEWU Law Team Shines as Runner-Up in 29th Stetson International Environmental Moot Court Competition\\nAchieved on:\\xa0 28 Jan, 2025\\nView Details\\nEast West University Student Wins Crown at Marico’s \"Over The Wall - Season 3\" Competition\\nAchieved on:\\xa0 20 Jan, 2025\\nView Details\\nMahdin Shafiq Omi Recognized on Global Stage for Photography Excellence\\nAchieved on:\\xa0 15 Jan, 2025\\nView Details\\nECPA Secured 1st Runner-Up in Art Segment at SEU Cultural Fest\\nAchieved on:\\xa0 15 Jan, 2025\\nView Details\\nProfessor Dr. Dilara Begum attended an international conference in France\\nAchieved on:\\xa0 05 Jan, 2025\\nView Details\\nEast West University Debating Club Triumphs at 18th MGBSDC National’s 2024\\nAchieved on:\\xa0 03 Jan, 2025\\nView Details\\nAn English Department Student Wins Best Paper Award\\nAchieved on:\\xa0 22 Dec, 2024\\nView Details\\nCSE Students Won Two \"Best Paper Awards\" from Springer ICIDA 2024\\nAchieved on:\\xa0 22 Dec, 2024\\nView Details\\nProfessor Dr. Dilara Begum was invited as a speaker at an International Conference in Bangalore, India\\nAchieved on:\\xa0 10 Dec, 2024\\nView Details\\nView All\\nPartnerships and Affiliates\\nTo continue our founding mission to bring knowledge to Bangladesh\\nFollow Us\\nA/2, Jahurul Islam Avenue\\nJahurul Islam City, Aftabnagar\\nDhaka-1212, Bangladesh\\n09666775577, Ext. - 234\\n+8801755587224, +8801851933094 (Hotline)\\nadmissions@ewubd.edu\\ninfo@ewubd.edu\\nStudent\\nAcademic Calendar\\nCampus Life\\nPayment Procedure\\nConvocation\\nRules & Regulation\\nFaculty Search\\nGrading Policy\\nUniversity\\nDirectory\\nProctor Schedule\\nE-Tender\\nProcurement\\nGallery\\nJournal and Publications\\nArchives\\nQuick Links\\nApply Online\\nJobs at EWU\\nDegree Verification\\nContact Us\\nLocation Map\\nDeveloped and maintained by ICS, EWU\\nCopyright@ 2022 East West University\\n170,771,885  Total view, 12,078,376 Views Today\\nEnquire\\nTop\\n\\n\\n\\nabout page\\nWebpage Title:\\nEast West University\\nWebpage Contents:\\nAdmission Test Results: Spring 2025\\nCRTEWU 107th Research Seminar\\nCall for Applications: Graduate Diploma in Leather, Leather Goods and Footwear Management (GDLFM) program of batch 3 & 4 (Deadline: 18 Dec. 2024)\\nExtension of Time: Call for Proposals-Round 17\\n2nd Call for Papers: East West Journal of Business and Social Studies: Vol.12, 2024\\nHome\\nFaculties\\nFaculty of Sciences and Engineering\\nFaculty of Liberal Arts and Social Sciences\\nFaculty of Business and Economics\\nDepartments\\nCSE\\nEEE\\nGEB\\nPharmacy\\nCivil Engineering\\nMathematical & Physical Sciences\\nEnglish\\nLaw\\nSocial Relations\\nInformation Studies\\nSociology\\nBusiness Administration\\nMBA & EMBA Programs\\nEconomics\\nAlumni\\nStudents\\nDept. of Student\\'s Welfare\\nSexual Harassment\\nGrades, Rules & Regulations\\nRules & Regulation\\nStudent Portal (Grade Report)\\nSearch Course\\nAcademic Calendar\\nProctor Schedule\\nPayment Procedure\\nScholarships & Financial Assistance\\nDegree Programs\\nCampus Life\\nClubs\\nAbout\\nHistory\\nVision &\\n                                                    Mission\\nSyndicate\\nAcademic\\n                                                    Council\\nOffice\\nChairperson, BoT\\nChief Advisor\\nVice Chancellor\\nPro Vice Chancellor\\nTreasurer\\nDean\\'s Office\\nRegistrar\\nProctor\\nLibrary personnel\\nDirector of Finance\\nController of Examination\\nHR & Logistics\\nInformation & Communication Services\\nInternal Auditor\\nCRT\\nIQAC\\nEngineering & Maintenance Department\\nEWU Medical Centre\\nStudent\\'s Welfare\\nDepartment Admin\\nNewsletter\\nVC Newsletter\\nConvocation\\nConvocation\\nConvocation Registration Form\\nConvocation Rules & Guidelines\\nUrgent Notice\\nConvocation Database\\nFAQ\\nAuthority\\nBoard of Trustees\\nVice Chancellor\\nPro-Vice Chancellor\\nTreasurer\\nRegistrar\\nAdmissions\\nUndergraduate\\nUndergraduate\\n                                                    Programs\\nApply\\n                                                    Online\\nTuition\\n                                                    Fees\\nDates\\n                                                    & Deadline\\nGraduate\\nGraduate\\n                                                    Programs\\nApply\\n                                                    Online\\nTuition\\n                                                    Fees\\nDates\\n                                                    & Deadline\\nDiploma\\nDiploma Programs\\nApply\\n                                                    Online\\nTuition Fees\\nDates & Deadline\\nFinancial Assistance\\nScholarships\\n                                                    & Financial Assistance\\nHow to\\n                                                    Apply\\nImportant\\n                                                    Dates & Deadline\\nForms &\\n                                                    Document\\nFAQ\\nNews & Events\\nNews\\nEvents\\nCRT\\nIQAC\\nLibrary\\nHelpdesk\\nAdmission Test Results: Spring 2025\\nCRTEWU 107th Research Seminar\\nCall for Applications: Graduate Diploma in Leather, Leather Goods and Footwear Management (GDLFM) program of batch 3 & 4 (Deadline: 18 Dec. 2024)\\nExtension of Time: Call for Proposals-Round 17\\n2nd Call for Papers: East West Journal of Business and Social Studies: Vol.12, 2024\\nFaculties\\nFaculty of Sciences and Engineering\\nFaculty of Liberal Arts and Social Sciences\\nFaculty of Business and Economics\\nDepartments\\nFaculty of Sciences and Engineering\\nDepartment of Computer Science & Engineering\\nDepartment of Electrical and Electronic Engineering\\nDepartment of Genetic Engineering & Biotechnology\\nDepartment of Pharmacy\\nDepartment of Civil Engineering\\nDepartment of Mathematical & Physical Sciences\\nFaculty of Liberal Arts and Social Sciences\\nDepartment of English\\nDepartment of Law\\nDepartment of Social Relations\\nDepartment of Information Studies\\nDepartment of Sociology\\nFaculty of Business and Economics\\nDepartment of Business Administration\\nDepartment of Economics\\nAlumni\\nStudent\\nCareer Counseling Center\\nSexual Harassment\\nGrades, Rules and Regulations\\nRules & Regulation\\nStudent Portal (Grade Report)\\nAcademic Calendar\\nProctor Schedule\\nPayment Procedure\\nScholarships & Financial Assistance\\nDegree Programs\\nCampus Life\\nClubs\\nJoin a community of the world’s brightest minds and prepare to tackle its greatest problems. Here, your ideas will be heard, supported, questioned, tested, and honed as you form a network of lifelong friends, colleagues, and collaborators.\\nEmail\\nUsername\\nPassword\\nLogin\\nLost Your Password?\\nHome\\nAbout\\nHistory\\nVision &\\n                                                    Mission\\nSyndicate\\nAcademic\\n                                                    Council\\nOffice\\nOffice of The\\n                                                                    Chairperson, BoT\\nOffice of The Chief Advisor\\nOffice of The Vice\\n                                                                    Chancellor\\nOffice of The Pro\\n                                                                    Vice Chancellor\\nOffice of The Treasurer\\nDean\\'s Office\\nOffice of The Registrar\\nOffice of The Proctor\\nLibrary personnel\\nOffice of The\\n                                                                    Director of Finance\\nOffice of The\\n                                                                    Controller of Examination\\nOffice of The HR &\\n                                                                    Logistics\\nInformation\\n                                                                    & Communication Services\\nOffice of The\\n                                                                    Internal Auditor\\nCenter for\\n                                                                    Research & Training (CRT)\\nOffice of The IQAC\\nEngineering\\n                                                                    & Maintenance Department\\nEWU Medical Centre\\nOffice of The\\n                                                                    Student\\'s Welfare\\nOffice of The\\n                                                                    Department Admin\\nNewsletter\\nVC Newsletter\\nConvocation\\nConvocation\\nConvocation Registration Form\\nConvocation Rules & Guidelines\\nUrgent Notice\\nConvocation\\n                                                        Database\\nFAQ\\nAuthority\\nBoard of Trustees\\nVice Chancellor\\nPro-Vice Chancellor\\nTreasurer\\nRegistrar\\nAdmissions\\nUndergraduate\\nUndergraduate\\n                                                            Programs\\nApply\\n                                                            Online\\nTuition\\n                                                            Fees\\nDates\\n                                                            & Deadline\\nGraduate\\nGraduate\\n                                                            Programs\\nApply\\n                                                            Online\\nTuition\\n                                                            Fees\\nDates\\n                                                            & Deadline\\nDiploma\\nDiploma Programs\\nApply\\n                                                            Online\\nTuition Fees\\nDates & Deadline\\nFinancial Assistance\\nScholarships\\n                                                            & Financial Assistance\\nHow to\\n                                                            Apply\\nImportant\\n                                                            Dates & Deadline\\nForms &\\n                                                            Document\\nFAQ\\nNews & Events\\nNews\\nEvents\\nCRT\\nIQAC\\nLibrary\\nHelpdesk\\nView Details\\nView Details\\nView Details\\nView Details\\nView Details\\nView Details\\nPrevious\\nNext\\nUndergraduate & Graduate Admission\\nSpring 2025\\nApplication Deadline:\\n16-Jan-2025\\n2025-01-16 23:59:59\\nDays\\nHour\\nMins\\nSecs\\nApply Online\\nAdmission Test Results:\\nSpring 2025\\nView More\\nGraduate\\nAdmission:\\nSpring 2025\\nApplication Deadline:\\n28-Feb-2025\\n2025-02-28 23:59:59\\nDays\\nHour\\nMins\\nSecs\\nRead More\\nGenerous Scholarships\\n50% - 100% is available\\nduring admission\\nView More\\nStudent Panel\\nPublications\\nClubs\\nNotice\\nIQAC\\nICS\\nApply for Admission MBA/EMBA Programs: Spring 2025. MBA Application Deadline: January 17, 2025. EMBA Application Deadline: February 13, 2025\\nView More\\nGenerous Scholarships from 50%-100% is available during admission.\\nApply\\n                                    for admission\\nGenerous Scholarships and Financial Assistance: 11 Crores\\nView\\n                                    More\\nDegree Program\\nJoin a community of the world’s brightest minds and prepared.\\nStudent\\'s Welfare\\nDepartment of Student\\'s Welfare.\\nScholarship\\nScholarships & Financial Aid.\\nAlumni\\nOur alumni is our strength\\nSearch Course\\nSelect Department\\nDepartment of Computer Science & Engineering\\nDepartment of Business Administration\\nDepartment of English\\nDepartment of Economics\\nDepartment of Law\\nDepartment of Electrical and Electronic Engineering\\nDepartment of Social Relations\\nDepartment of Electronics and Communications Engineering\\nDepartment of MBA/EMBA\\nDepartment  of Genetic Engineering and Biotechnology\\nDepartment of Information Studies\\nDepartment  of Pharmacy\\nDepartment of Sociology\\nDepartment of Civil Engineering\\nDepartment of Mathematical and Physical Sciences\\nSelect Course\\nSearch\\n                        Course\\nStudent Enrolled 10k+\\nPHD Professors 105+\\nProgram Offered 29\\nNational Awards 10+\\nNotice\\n19\\nJan 2025\\nCRTEWU 107th Research Seminar\\nRead More\\n16\\nJan 2025\\nSubmission of Admission Forms (Revised date and time): Spring 2025\\nRead More\\n12\\nJan 2025\\nCRTEWU 106th Seminar on “Numerical Modeling of Various Coastal Processes”\\nRead More\\n03\\nJan 2025\\nOnline Advising of Courses for Spring Semester 2025 (B.Pharm, M.Pharm, LLB and LLM Programs)\\nRead More\\n03\\nJan 2025\\nOnline Advising of Courses for Spring Semester 2025 (except M.Pharm and LL.M Programs)\\nRead More\\n18\\nDec 2024\\nRescheduled CRTEWU 105th knowledge Sharing Seminar\\nRead More\\n17\\nDec 2024\\nCRTEWU 105th knowledge Sharing Seminar\\nRead More\\n02\\nDec 2024\\nOnline Application for Graduation 24th Convocation 2025\\nRead More\\n01\\nDec 2024\\nFinancial Assistance, Spring 2025\\nRead More\\n30\\nNov 2024\\nCall for Applications: Graduate Diploma in Leather, Leather Goods and Footwear Management (GDLFM) pr...\\nRead More\\n11\\nNov 2024\\nOnline Application for Graduation 24th Convocation 2025\\nRead More\\n31\\nOct 2024\\nCRTEWU 104th Research Seminar\\nRead More\\nImportant Dates\\nView all\\nOctober\\n06\\nOctober 06, 2024: Submission of Final Grades\\nOctober\\n17\\nOctober 17, 2024: Orientation for Fall 2024\\nOctober\\n20\\nOctober 20, 2024: First Day of Classes for Fall 2024\\nJanuary\\n18\\nJanuary 18, 2025: Admission Test for Spring 2025\\nFebruary\\n09\\nFebruary 09-13, 2025: Final Examinations\\nOur Events\\nView all\\n01\\nSep, 2024\\nSeminar on Stress Management\\nRoom No. 126, S. M. Nousher Ali Lecture Gallery\\n01 Sep, 2024\\nRead More\\n13\\nAug, 2024\\nCounseling Session on Stress Management\\nEast West University\\n13 Aug, 2024\\nRead More\\n08\\nAug, 2024\\nNational Robo Fest\\nEast West University\\n08 Aug, 2024\\nRead More\\n06\\nAug, 2024\\nCricket Cup 2024\\nEast West University\\n06 Aug, 2024\\nRead More\\nEvery individual who has interest in education whether within the country or beyond is\\n                            warmly welcome to East West University community, preferably in person, and that will be a\\n                            privilege of mine.\\nProfessor Dr. Mohammed Farashuddin\\nChief Advisor, East West University\\nRecent News\\nView all\\n23\\nJan\\n2025\\nCRTEWU Hosts Seminar on Perceived Service Quality of Distric...\\nCRTEWU Hosts Seminar on Perceived Service Quality\\nThe Center for Research and Training at East West University (CRTEWU) successfully hosted a research seminar titled “Perceived Service Quality of District Public Libraries of Bangladesh: An Analysis through the Lens of LibQUAL+” on January 23, 2025, ...\\n22\\nJan\\n2025\\nHonda Presents GameCon Season 1 hosted by EWU Computer Progr...\\nHonda Presents GameCon Season 1 hosted by EWU Comp\\nThe East West University Computer Programming Club (EWUCoPC) successfully hosted\\nGameCon: Season 1\\n, an exhilarating gaming festival that brought together over 2000 participants from 60+ universities and colleges across Bangladesh. The event, sponsore...\\n21\\nJan\\n2025\\nEast West University Plants Betel Nut Tree Around the Campus\\nEast West University Plants Betel Nut Tree Around\\nEast West University (EWU) inaugurated the Betel nut tree plantation program around the campus at Aftabnagar in Dhaka. This significant event took place on the morning of January 21, 2025 at the ‘Shaeed Minar’ Premises, and was attended by esteemed m...\\n18\\nJan\\n2025\\nEast West University Successfully Conducts Admission Test fo...\\nEast West University Successfully Conducts Admissi\\nEast West University (EWU) proudly announces the successful completion of its admission test for the Spring Semester 2025, held on 18 January 2025 at the EWU Campus in Aftabnagar, Dhaka. The event saw the participation of over four thousand applicant...\\n17\\nJan\\n2025\\nCRTEWU Hosts a Research Seminar on Numerical Modeling of Tsu...\\nCRTEWU Hosts a Research Seminar on Numerical Model\\nThe Center for Research and Training at East West University (CRTEWU) successfully hosted a research seminar titled “Numerical Modeling of Tsunami and Storm Surges along the Coastal Belt of the Indian Ocean” on January 16, 2025, in the CRTEWU Seminar...\\n17\\nJan\\n2025\\nOrientation Program for Graduate Diploma in Leather, Leather...\\nOrientation Program for Graduate Diploma in Leathe\\nThe Executive Development Center (EDC) under the Skills for Industry Competitiveness and Innovation Program (SICIP) at East West University (EWU) successfully organized an Orientation Program for the Graduate Diploma in Leather, Leather Goods, and Fo...\\n15\\nJan\\n2025\\nDrama Nakshi Kanthar Maath along with Pitha Utshob organized...\\nDrama Nakshi Kanthar Maath along with Pitha Utshob\\nThe East West University Club for Performing Arts (ECPA) proudly presented their self-written drama adaptation of\\nNakshi Kanthar Maath\\n, inspired by the timeless poem by Poet Jashimuddin on 6\\nth\\nJanuary, 2025. Alongside the drama, a colorful\\nPitha Utsh...\\n13\\nJan\\n2025\\nEast West University Arranges a Merit Scholarship Awarding C...\\nEast West University Arranges a Merit Scholarship\\nEast West University (EWU) provided the Merit Scholarship Award to 219 students from the Summer and Fall Semester 2024 students for their excellent academic performance. Most of the scholarship recipients students were female. The ceremony took place...\\n05\\nJan\\n2025\\nNational Telco Warfare 2024 organized by East West Universit...\\nNational Telco Warfare 2024 organized by East West\\nEast West University Telecommunications Club has successfully hosted\\n\"The Royal Hat Presents National Telco Warfare 2024,\"\\nproudly powered by Flight Expert. The two-day event, held on December 26 and December 27, brought together over 500 participant...\\n05\\nJan\\n2025\\nProfessor Dr. Dilara Begum joined IFLA panel session on ‘How...\\nProfessor Dr. Dilara Begum joined IFLA panel sessi...\\nProfessor Dr. Dilara Begum\\n, Chairperson of the Department of Information Studies, East West University, attended the Governing Board meeting as an elected member of the International Federation of Library Associations and Institutions (IFLA) for the ...\\nEWU is committed to providing quality education and to nurturing creativity for\\n                        producing successful graduates who will serve our society and the world.\\nProfessor Shams Rahman\\nVice Chancellor\\nEWU Achievements\\nProf. Dr. Shamsun Nahar Khan has been invited as an invited speaker to deliver her talk at the International Conference\\nAchieved on:\\xa0 04 Feb, 2025\\nView Details\\nEWU Law Team Shines as Runner-Up in 29th Stetson International Environmental Moot Court Competition\\nAchieved on:\\xa0 28 Jan, 2025\\nView Details\\nEast West University Student Wins Crown at Marico’s \"Over The Wall - Season 3\" Competition\\nAchieved on:\\xa0 20 Jan, 2025\\nView Details\\nMahdin Shafiq Omi Recognized on Global Stage for Photography Excellence\\nAchieved on:\\xa0 15 Jan, 2025\\nView Details\\nECPA Secured 1st Runner-Up in Art Segment at SEU Cultural Fest\\nAchieved on:\\xa0 15 Jan, 2025\\nView Details\\nProfessor Dr. Dilara Begum attended an international conference in France\\nAchieved on:\\xa0 05 Jan, 2025\\nView Details\\nEast West University Debating Club Triumphs at 18th MGBSDC National’s 2024\\nAchieved on:\\xa0 03 Jan, 2025\\nView Details\\nAn English Department Student Wins Best Paper Award\\nAchieved on:\\xa0 22 Dec, 2024\\nView Details\\nCSE Students Won Two \"Best Paper Awards\" from Springer ICIDA 2024\\nAchieved on:\\xa0 22 Dec, 2024\\nView Details\\nProfessor Dr. Dilara Begum was invited as a speaker at an International Conference in Bangalore, India\\nAchieved on:\\xa0 10 Dec, 2024\\nView Details\\nView All\\nPartnerships and Affiliates\\nTo continue our founding mission to bring knowledge to Bangladesh\\nFollow Us\\nA/2, Jahurul Islam Avenue\\nJahurul Islam City, Aftabnagar\\nDhaka-1212, Bangladesh\\n09666775577, Ext. - 234\\n+8801755587224, +8801851933094 (Hotline)\\nadmissions@ewubd.edu\\ninfo@ewubd.edu\\nStudent\\nAcademic Calendar\\nCampus Life\\nPayment Procedure\\nConvocation\\nRules & Regulation\\nFaculty Search\\nGrading Policy\\nUniversity\\nDirectory\\nProctor Schedule\\nE-Tender\\nProcurement\\nGallery\\nJournal and Publications\\nArchives\\nQuick Links\\nApply Online\\nJobs at EWU\\nDegree Verification\\nContact Us\\nLocation Map\\nDeveloped and maintained by ICS, EWU\\nCopyright@ 2022 East West University\\n170,771,896  Total view, 12,078,382 Views Today\\nEnquire\\nTop\\n\\n\\n\\nadmission page\\nWebpage Title:\\nEast West University - Online Admission Form\\nWebpage Contents:\\nHome\\nSign In\\nAdmission Eligibility\\n|\\nImportant Dates\\n|\\nApplication Form\\n|\\nPayment System\\n|\\nApplication Process Flow\\n|\\nInstruction & Guideline\\n|\\nContacts\\nï¿½\\nBefore start please read the\\nInstructions\\nand\\nAdmission Eligibility\\ncarefully.\\nYou will require a\\npassport size colored  photographs (240 W * 300 H pixels)\\nto be uploaded later.\\nYou will require a\\nscnned signature (300 W * 80 H pixels)\\nto be uploaded later.\\nYou can pay application fee online using BKash\\n.\\t(\\nOnline processing fee will be charged.\\n)\\nYou/somebody on your behalf can also deposit the\\napplication  fee\\nin cash at East West University Admission office, Aftabnagar, Dhaka.\\nAdmission Eligibility for Undergraduate Program (except B.Pharm.):\\nMinimum GPA of 3.00 in both SSC and HSC Examinations (Minimum GPA 2.40 in Diploma in Engineering under Bangladesh Technical Eduation Board). or\\nCandidates must have passed University of London and Cambridge GCE ‘O’ Level in at least five subjects and ‘A’ Level in at least two subjects. Only the best five subjects in ‘O’ Level and best two subjects in ‘A’ Level will be considered. Out of these seven subjects, a candidate must have at least 4B’s or GPA of 4.00 in the four subjects and 3 C’s or GPA of 3.5 in the remaining three subjects. (in the scale of A=5, B=4, C=3, D=2 and E=1)\\nAmerican High School Diploma (GED diploma is not acceptable), AND\\nAcceptable EWU Admission Test Score.\\nTotal GPA of 5.00 in both SSC and HSC Examinations for the  children of Freedom Fighter.\\nThe final selection of candidates for admission in the Undergraduate Programs at EWU will be based on the Admission Test scores obtained with 75% from admission test, 10% from SSC/O-level and 15% from HSC/A-level.\\nAdmission Eligibility for Bachelor of Pharmacy (B.Pharm) program:\\nCandidate must be a citizen of Bangladesh. Foreign students can only apply against Government allocated seats.\\nCandidate must have SSC/ or equivalent & HSC/ or equivalent examinations in both Science groups with a minimum aggregate GPA of 8.00 (on a total scale of 10) and not less than a GPA of 3.50 (on a scale of 5) on any examination. Candidate must have 4 (on scale of 5) both Chemistry, Biology & 3.50 (on scale of 5) Physics, Mathematics in both SSC/ or equivalent and HSC/ or equivalent examinations.\\nHowever, candidates who failed in Mathematics or did not take Mathematics at the HSC/ “A” level or recognized equivalent examinations may be admitted, but they need to take an extra course (3 credits) on Mathematics relevant to B. Pharm. Curriculum.\\nCandidate must have a GPA of 4.0 (on a scale of 5) in  Chemistry & Biology separately and a minimum GPA of 3.50 in Physics & Mathematics (on a scale of 5) in HSC/recognized equivalent (except A level) examination. Candidate must have a ‘B’ grade in Chemistry & Biology separately and a” C\" grade in Mathematics &  Physics both in \"O\" & “A” level examination.\\nStudent eligible to get admission in the Department of Pharmacy in 2025 must have passed their HSC or recognized equivalent examination in 2023 or 2024.\\nForeign students must have passed 12 academic years. Students must collect the equivalent certificate from the Pharmacy Council of Bangladesh (PCB) by providing a specified fee.\\nAdmission should be based on a competitive written test. In addition to the written test, an oral test may be taken for further assessment.\\nNewly admitted students must complete their online pre-registration process in PCB within the first three months of their first semester through the Department of Pharmacy of EWU.\\n* ”Recognized equivalent” means Intermediate and Secondary Education Board, Bangladesh; Bangladesh Madrasah Education Board; Diploma in Pharmacy Course conducted by Pharmacy Council of Bangladesh.\\nCopyright @ East West University, All rights reserved\\n\\n\\n\\ncareer page\\nWebpage Title:\\nCareer\\nWebpage Contents:\\nAdmission Test Results: Spring 2025\\nCRTEWU 107th Research Seminar\\nCall for Applications: Graduate Diploma in Leather, Leather Goods and Footwear Management (GDLFM) program of batch 3 & 4 (Deadline: 18 Dec. 2024)\\nExtension of Time: Call for Proposals-Round 17\\n2nd Call for Papers: East West Journal of Business and Social Studies: Vol.12, 2024\\nHome\\nFaculties\\nFaculty of Sciences and Engineering\\nFaculty of Liberal Arts and Social Sciences\\nFaculty of Business and Economics\\nDepartments\\nCSE\\nEEE\\nGEB\\nPharmacy\\nCivil Engineering\\nMathematical & Physical Sciences\\nEnglish\\nLaw\\nSocial Relations\\nInformation Studies\\nSociology\\nBusiness Administration\\nMBA & EMBA Programs\\nEconomics\\nAlumni\\nStudents\\nDept. of Student\\'s Welfare\\nSexual Harassment\\nGrades, Rules & Regulations\\nRules & Regulation\\nStudent Portal (Grade Report)\\nSearch Course\\nAcademic Calendar\\nProctor Schedule\\nPayment Procedure\\nScholarships & Financial Assistance\\nDegree Programs\\nCampus Life\\nClubs\\nAbout\\nHistory\\nVision &\\n                                                    Mission\\nSyndicate\\nAcademic\\n                                                    Council\\nOffice\\nChairperson, BoT\\nChief Advisor\\nVice Chancellor\\nPro Vice Chancellor\\nTreasurer\\nDean\\'s Office\\nRegistrar\\nProctor\\nLibrary personnel\\nDirector of Finance\\nController of Examination\\nHR & Logistics\\nInformation & Communication Services\\nInternal Auditor\\nCRT\\nIQAC\\nEngineering & Maintenance Department\\nEWU Medical Centre\\nStudent\\'s Welfare\\nDepartment Admin\\nNewsletter\\nVC Newsletter\\nConvocation\\nConvocation\\nConvocation Registration Form\\nConvocation Rules & Guidelines\\nUrgent Notice\\nConvocation Database\\nFAQ\\nAuthority\\nBoard of Trustees\\nVice Chancellor\\nPro-Vice Chancellor\\nTreasurer\\nRegistrar\\nAdmissions\\nUndergraduate\\nUndergraduate\\n                                                    Programs\\nApply\\n                                                    Online\\nTuition\\n                                                    Fees\\nDates\\n                                                    & Deadline\\nGraduate\\nGraduate\\n                                                    Programs\\nApply\\n                                                    Online\\nTuition\\n                                                    Fees\\nDates\\n                                                    & Deadline\\nDiploma\\nDiploma Programs\\nApply\\n                                                    Online\\nTuition Fees\\nDates & Deadline\\nFinancial Assistance\\nScholarships\\n                                                    & Financial Assistance\\nHow to\\n                                                    Apply\\nImportant\\n                                                    Dates & Deadline\\nForms &\\n                                                    Document\\nFAQ\\nNews & Events\\nNews\\nEvents\\nCRT\\nIQAC\\nLibrary\\nHelpdesk\\nAdmission Test Results: Spring 2025\\nCRTEWU 107th Research Seminar\\nCall for Applications: Graduate Diploma in Leather, Leather Goods and Footwear Management (GDLFM) program of batch 3 & 4 (Deadline: 18 Dec. 2024)\\nExtension of Time: Call for Proposals-Round 17\\n2nd Call for Papers: East West Journal of Business and Social Studies: Vol.12, 2024\\nFaculties\\nFaculty of Sciences and Engineering\\nFaculty of Liberal Arts and Social Sciences\\nFaculty of Business and Economics\\nDepartments\\nFaculty of Sciences and Engineering\\nDepartment of Computer Science & Engineering\\nDepartment of Electrical and Electronic Engineering\\nDepartment of Genetic Engineering & Biotechnology\\nDepartment of Pharmacy\\nDepartment of Civil Engineering\\nDepartment of Mathematical & Physical Sciences\\nFaculty of Liberal Arts and Social Sciences\\nDepartment of English\\nDepartment of Law\\nDepartment of Social Relations\\nDepartment of Information Studies\\nDepartment of Sociology\\nFaculty of Business and Economics\\nDepartment of Business Administration\\nDepartment of Economics\\nAlumni\\nStudent\\nCareer Counseling Center\\nSexual Harassment\\nGrades, Rules and Regulations\\nRules & Regulation\\nStudent Portal (Grade Report)\\nAcademic Calendar\\nProctor Schedule\\nPayment Procedure\\nScholarships & Financial Assistance\\nDegree Programs\\nCampus Life\\nClubs\\nJoin a community of the world’s brightest minds and prepare to tackle its greatest problems. Here, your ideas will be heard, supported, questioned, tested, and honed as you form a network of lifelong friends, colleagues, and collaborators.\\nEmail\\nUsername\\nPassword\\nLogin\\nLost Your Password?\\nHome\\nAbout\\nHistory\\nVision &\\n                                                    Mission\\nSyndicate\\nAcademic\\n                                                    Council\\nOffice\\nOffice of The\\n                                                                    Chairperson, BoT\\nOffice of The Chief Advisor\\nOffice of The Vice\\n                                                                    Chancellor\\nOffice of The Pro\\n                                                                    Vice Chancellor\\nOffice of The Treasurer\\nDean\\'s Office\\nOffice of The Registrar\\nOffice of The Proctor\\nLibrary personnel\\nOffice of The\\n                                                                    Director of Finance\\nOffice of The\\n                                                                    Controller of Examination\\nOffice of The HR &\\n                                                                    Logistics\\nInformation\\n                                                                    & Communication Services\\nOffice of The\\n                                                                    Internal Auditor\\nCenter for\\n                                                                    Research & Training (CRT)\\nOffice of The IQAC\\nEngineering\\n                                                                    & Maintenance Department\\nEWU Medical Centre\\nOffice of The\\n                                                                    Student\\'s Welfare\\nOffice of The\\n                                                                    Department Admin\\nNewsletter\\nVC Newsletter\\nConvocation\\nConvocation\\nConvocation Registration Form\\nConvocation Rules & Guidelines\\nUrgent Notice\\nConvocation\\n                                                        Database\\nFAQ\\nAuthority\\nBoard of Trustees\\nVice Chancellor\\nPro-Vice Chancellor\\nTreasurer\\nRegistrar\\nAdmissions\\nUndergraduate\\nUndergraduate\\n                                                            Programs\\nApply\\n                                                            Online\\nTuition\\n                                                            Fees\\nDates\\n                                                            & Deadline\\nGraduate\\nGraduate\\n                                                            Programs\\nApply\\n                                                            Online\\nTuition\\n                                                            Fees\\nDates\\n                                                            & Deadline\\nDiploma\\nDiploma Programs\\nApply\\n                                                            Online\\nTuition Fees\\nDates & Deadline\\nFinancial Assistance\\nScholarships\\n                                                            & Financial Assistance\\nHow to\\n                                                            Apply\\nImportant\\n                                                            Dates & Deadline\\nForms &\\n                                                            Document\\nFAQ\\nNews & Events\\nNews\\nEvents\\nCRT\\nIQAC\\nLibrary\\nHelpdesk\\nCareer\\nHome/Career\\nCurrent Vacancy at EWU\\nCurrently no vacancy available...\\nVacancy Announcement\\nWhy Join EWU\\nArchive\\nTo continue our founding mission to bring knowledge to Bangladesh\\nFollow Us\\nA/2, Jahurul Islam Avenue\\nJahurul Islam City, Aftabnagar\\nDhaka-1212, Bangladesh\\n09666775577, Ext. - 234\\n+8801755587224, +8801851933094 (Hotline)\\nadmissions@ewubd.edu\\ninfo@ewubd.edu\\nStudent\\nAcademic Calendar\\nCampus Life\\nPayment Procedure\\nConvocation\\nRules & Regulation\\nFaculty Search\\nGrading Policy\\nUniversity\\nDirectory\\nProctor Schedule\\nE-Tender\\nProcurement\\nGallery\\nJournal and Publications\\nArchives\\nQuick Links\\nApply Online\\nJobs at EWU\\nDegree Verification\\nContact Us\\nLocation Map\\nDeveloped and maintained by ICS, EWU\\nCopyright@ 2022 East West University\\n170,771,899  Total view, 12,078,384 Views Today\\nEnquire\\nTop\\n\\n\\n\\nacademic calendar\\nWebpage Title:\\nAcademic Calendar\\nWebpage Contents:\\nAdmission Test Results: Spring 2025\\nCRTEWU 107th Research Seminar\\nCall for Applications: Graduate Diploma in Leather, Leather Goods and Footwear Management (GDLFM) program of batch 3 & 4 (Deadline: 18 Dec. 2024)\\nExtension of Time: Call for Proposals-Round 17\\n2nd Call for Papers: East West Journal of Business and Social Studies: Vol.12, 2024\\nHome\\nFaculties\\nFaculty of Sciences and Engineering\\nFaculty of Liberal Arts and Social Sciences\\nFaculty of Business and Economics\\nDepartments\\nCSE\\nEEE\\nGEB\\nPharmacy\\nCivil Engineering\\nMathematical & Physical Sciences\\nEnglish\\nLaw\\nSocial Relations\\nInformation Studies\\nSociology\\nBusiness Administration\\nMBA & EMBA Programs\\nEconomics\\nAlumni\\nStudents\\nDept. of Student\\'s Welfare\\nSexual Harassment\\nGrades, Rules & Regulations\\nRules & Regulation\\nStudent Portal (Grade Report)\\nSearch Course\\nAcademic Calendar\\nProctor Schedule\\nPayment Procedure\\nScholarships & Financial Assistance\\nDegree Programs\\nCampus Life\\nClubs\\nAbout\\nHistory\\nVision &\\n                                                    Mission\\nSyndicate\\nAcademic\\n                                                    Council\\nOffice\\nChairperson, BoT\\nChief Advisor\\nVice Chancellor\\nPro Vice Chancellor\\nTreasurer\\nDean\\'s Office\\nRegistrar\\nProctor\\nLibrary personnel\\nDirector of Finance\\nController of Examination\\nHR & Logistics\\nInformation & Communication Services\\nInternal Auditor\\nCRT\\nIQAC\\nEngineering & Maintenance Department\\nEWU Medical Centre\\nStudent\\'s Welfare\\nDepartment Admin\\nNewsletter\\nVC Newsletter\\nConvocation\\nConvocation\\nConvocation Registration Form\\nConvocation Rules & Guidelines\\nUrgent Notice\\nConvocation Database\\nFAQ\\nAuthority\\nBoard of Trustees\\nVice Chancellor\\nPro-Vice Chancellor\\nTreasurer\\nRegistrar\\nAdmissions\\nUndergraduate\\nUndergraduate\\n                                                    Programs\\nApply\\n                                                    Online\\nTuition\\n                                                    Fees\\nDates\\n                                                    & Deadline\\nGraduate\\nGraduate\\n                                                    Programs\\nApply\\n                                                    Online\\nTuition\\n                                                    Fees\\nDates\\n                                                    & Deadline\\nDiploma\\nDiploma Programs\\nApply\\n                                                    Online\\nTuition Fees\\nDates & Deadline\\nFinancial Assistance\\nScholarships\\n                                                    & Financial Assistance\\nHow to\\n                                                    Apply\\nImportant\\n                                                    Dates & Deadline\\nForms &\\n                                                    Document\\nFAQ\\nNews & Events\\nNews\\nEvents\\nCRT\\nIQAC\\nLibrary\\nHelpdesk\\nAdmission Test Results: Spring 2025\\nCRTEWU 107th Research Seminar\\nCall for Applications: Graduate Diploma in Leather, Leather Goods and Footwear Management (GDLFM) program of batch 3 & 4 (Deadline: 18 Dec. 2024)\\nExtension of Time: Call for Proposals-Round 17\\n2nd Call for Papers: East West Journal of Business and Social Studies: Vol.12, 2024\\nFaculties\\nFaculty of Sciences and Engineering\\nFaculty of Liberal Arts and Social Sciences\\nFaculty of Business and Economics\\nDepartments\\nFaculty of Sciences and Engineering\\nDepartment of Computer Science & Engineering\\nDepartment of Electrical and Electronic Engineering\\nDepartment of Genetic Engineering & Biotechnology\\nDepartment of Pharmacy\\nDepartment of Civil Engineering\\nDepartment of Mathematical & Physical Sciences\\nFaculty of Liberal Arts and Social Sciences\\nDepartment of English\\nDepartment of Law\\nDepartment of Social Relations\\nDepartment of Information Studies\\nDepartment of Sociology\\nFaculty of Business and Economics\\nDepartment of Business Administration\\nDepartment of Economics\\nAlumni\\nStudent\\nCareer Counseling Center\\nSexual Harassment\\nGrades, Rules and Regulations\\nRules & Regulation\\nStudent Portal (Grade Report)\\nAcademic Calendar\\nProctor Schedule\\nPayment Procedure\\nScholarships & Financial Assistance\\nDegree Programs\\nCampus Life\\nClubs\\nJoin a community of the world’s brightest minds and prepare to tackle its greatest problems. Here, your ideas will be heard, supported, questioned, tested, and honed as you form a network of lifelong friends, colleagues, and collaborators.\\nEmail\\nUsername\\nPassword\\nLogin\\nLost Your Password?\\nHome\\nAbout\\nHistory\\nVision &\\n                                                    Mission\\nSyndicate\\nAcademic\\n                                                    Council\\nOffice\\nOffice of The\\n                                                                    Chairperson, BoT\\nOffice of The Chief Advisor\\nOffice of The Vice\\n                                                                    Chancellor\\nOffice of The Pro\\n                                                                    Vice Chancellor\\nOffice of The Treasurer\\nDean\\'s Office\\nOffice of The Registrar\\nOffice of The Proctor\\nLibrary personnel\\nOffice of The\\n                                                                    Director of Finance\\nOffice of The\\n                                                                    Controller of Examination\\nOffice of The HR &\\n                                                                    Logistics\\nInformation\\n                                                                    & Communication Services\\nOffice of The\\n                                                                    Internal Auditor\\nCenter for\\n                                                                    Research & Training (CRT)\\nOffice of The IQAC\\nEngineering\\n                                                                    & Maintenance Department\\nEWU Medical Centre\\nOffice of The\\n                                                                    Student\\'s Welfare\\nOffice of The\\n                                                                    Department Admin\\nNewsletter\\nVC Newsletter\\nConvocation\\nConvocation\\nConvocation Registration Form\\nConvocation Rules & Guidelines\\nUrgent Notice\\nConvocation\\n                                                        Database\\nFAQ\\nAuthority\\nBoard of Trustees\\nVice Chancellor\\nPro-Vice Chancellor\\nTreasurer\\nRegistrar\\nAdmissions\\nUndergraduate\\nUndergraduate\\n                                                            Programs\\nApply\\n                                                            Online\\nTuition\\n                                                            Fees\\nDates\\n                                                            & Deadline\\nGraduate\\nGraduate\\n                                                            Programs\\nApply\\n                                                            Online\\nTuition\\n                                                            Fees\\nDates\\n                                                            & Deadline\\nDiploma\\nDiploma Programs\\nApply\\n                                                            Online\\nTuition Fees\\nDates & Deadline\\nFinancial Assistance\\nScholarships\\n                                                            & Financial Assistance\\nHow to\\n                                                            Apply\\nImportant\\n                                                            Dates & Deadline\\nForms &\\n                                                            Document\\nFAQ\\nNews & Events\\nNews\\nEvents\\nCRT\\nIQAC\\nLibrary\\nHelpdesk\\nAcademic Calendar\\nHome/Academic Calendar\\n2025\\n2024\\n2023\\n2022\\n2021\\n2020\\n2019\\nUndergraduate\\nSpring 2025\\nSpring 2025 (Schedule of Final Exam)\\nGraduate\\nSpring 2025\\nPharmacy-PPHS-Law\\nB. Pharm/LL.B: Spring 2025\\nM. Pharm/LL.M: Spring 2025\\nUndergraduate\\nSpring 2024\\nSpring 2024 (Schedule of Final Exam)\\nSummer 2024\\nSummer 2024 (Schedule of Final Exam)\\nFall 2024\\nSchedule of Final Exam: Fall 2024\\nGraduate\\nSpring 2024\\nSummer 2024\\nFall 2024\\nPharmacy-PPHS-Law\\nB. Pharm/PPHS/LL.B: Spring 2024\\nM. Pharm/LL.M: Spring 2024\\nB. Pharm/PPHS/LL.B: Fall 2024\\nLL.M: Fall 2024\\nM. Pharm: Fall 2024\\nUndergraduate\\nSpring-2023\\nSpring 2023 (Exam Schedule)\\nSummer 2023\\nSummer 2023 (Exam Schedule)\\nFall 2023\\nFall 2023 (Exam Schedule)\\nGraduate\\nSpring 2023\\nSummer 2023\\nFall 2023\\nPharmacy-PPHS-Law\\nB. Pharm/PPHS: Spring 2023\\nM. Pharm: Spring 2023\\nB. Pharm/PPHS: Fall 2023\\nM. Pharm: Fall 2023\\nDiploma\\nSpring-2023 (PGDED)\\nSummer 2023 (PGDED)\\nFall 2023 (PGDED)\\nUndergraduate\\nSpring 2022\\nSpring 2022 (Exam Schedule)\\nSummer 2022\\nSummer 2022 (Exam Schedule)\\nFall 2022\\nFall 2022 (Exam Schedule)\\nGraduate\\nSpring 2022\\nSummer 2022\\nFall 2022\\nPharmacy\\nB. Pharm: Spring 2022\\nM. Pharm: Spring 2022\\nM. Pharm: Fall 2022\\nB. Pharm: Fall 2022\\nDiploma\\nFall 2022 (PGDED)\\nUndergraduate\\nSpring 2021\\nSpring 2021 (Exam Schedule)\\nSummer 2021\\nSummer 2021 (Exam Schedule)\\nFall 2021\\nFall 2021 (Exam Schedule)\\nGraduate\\nSpring 2021\\nSummer 2021\\nFall 2021\\nPharmacy\\nB. Pharm: Spring 2021\\nM. Pharm: Spring 2021\\nB. Pharm: Fall 2021\\nM. Pharm: Fall 2021\\nUndergraduate\\nSpring 2020 (Exam Schedule)\\nSpring 2020\\nSummer 2020\\nSummer 2020 (Exam Schedule)\\nFall 2020\\nFall 2020 (Exam Schedule)\\nGraduate\\nSpring 2020\\nSummer 2020\\nFall 2020\\nPharmacy\\nB. Pharm: Spring 2020\\nM. Pharm: Spring 2020\\nM. Pharm: Fall 2020\\nB. Pharm: Fall 2020\\nUndergraduate\\nSpring-2019 Exam Schedule\\nSpring-2019\\nSummer-2019 Exam Schedule\\nSummer-2019\\nFall-2019\\nFall 2019 - Exam Schedule\\nGraduate\\nSpring-2019\\nSummer-2019\\nFall 2019\\nPharmacy\\nM. Pharm: Spring-2019\\nB. Pharm: Spring-2019\\nB. Pharm: Fall-2019\\nM. Pharm: Fall-2019\\nTo continue our founding mission to bring knowledge to Bangladesh\\nFollow Us\\nA/2, Jahurul Islam Avenue\\nJahurul Islam City, Aftabnagar\\nDhaka-1212, Bangladesh\\n09666775577, Ext. - 234\\n+8801755587224, +8801851933094 (Hotline)\\nadmissions@ewubd.edu\\ninfo@ewubd.edu\\nStudent\\nAcademic Calendar\\nCampus Life\\nPayment Procedure\\nConvocation\\nRules & Regulation\\nFaculty Search\\nGrading Policy\\nUniversity\\nDirectory\\nProctor Schedule\\nE-Tender\\nProcurement\\nGallery\\nJournal and Publications\\nArchives\\nQuick Links\\nApply Online\\nJobs at EWU\\nDegree Verification\\nContact Us\\nLocation Map\\nDeveloped and maintained by ICS, EWU\\nCopyright@ 2022 East West University\\n170,771,903  Total view, 12,078,386 Views Today\\nEnquire\\nTop\\n\\n\\n\\ncampus life\\nWebpage Title:\\nCampus Life\\nWebpage Contents:\\nAdmission Test Results: Spring 2025\\nCRTEWU 107th Research Seminar\\nCall for Applications: Graduate Diploma in Leather, Leather Goods and Footwear Management (GDLFM) program of batch 3 & 4 (Deadline: 18 Dec. 2024)\\nExtension of Time: Call for Proposals-Round 17\\n2nd Call for Papers: East West Journal of Business and Social Studies: Vol.12, 2024\\nHome\\nFaculties\\nFaculty of Sciences and Engineering\\nFaculty of Liberal Arts and Social Sciences\\nFaculty of Business and Economics\\nDepartments\\nCSE\\nEEE\\nGEB\\nPharmacy\\nCivil Engineering\\nMathematical & Physical Sciences\\nEnglish\\nLaw\\nSocial Relations\\nInformation Studies\\nSociology\\nBusiness Administration\\nMBA & EMBA Programs\\nEconomics\\nAlumni\\nStudents\\nDept. of Student\\'s Welfare\\nSexual Harassment\\nGrades, Rules & Regulations\\nRules & Regulation\\nStudent Portal (Grade Report)\\nSearch Course\\nAcademic Calendar\\nProctor Schedule\\nPayment Procedure\\nScholarships & Financial Assistance\\nDegree Programs\\nCampus Life\\nClubs\\nAbout\\nHistory\\nVision &\\n                                                    Mission\\nSyndicate\\nAcademic\\n                                                    Council\\nOffice\\nChairperson, BoT\\nChief Advisor\\nVice Chancellor\\nPro Vice Chancellor\\nTreasurer\\nDean\\'s Office\\nRegistrar\\nProctor\\nLibrary personnel\\nDirector of Finance\\nController of Examination\\nHR & Logistics\\nInformation & Communication Services\\nInternal Auditor\\nCRT\\nIQAC\\nEngineering & Maintenance Department\\nEWU Medical Centre\\nStudent\\'s Welfare\\nDepartment Admin\\nNewsletter\\nVC Newsletter\\nConvocation\\nConvocation\\nConvocation Registration Form\\nConvocation Rules & Guidelines\\nUrgent Notice\\nConvocation Database\\nFAQ\\nAuthority\\nBoard of Trustees\\nVice Chancellor\\nPro-Vice Chancellor\\nTreasurer\\nRegistrar\\nAdmissions\\nUndergraduate\\nUndergraduate\\n                                                    Programs\\nApply\\n                                                    Online\\nTuition\\n                                                    Fees\\nDates\\n                                                    & Deadline\\nGraduate\\nGraduate\\n                                                    Programs\\nApply\\n                                                    Online\\nTuition\\n                                                    Fees\\nDates\\n                                                    & Deadline\\nDiploma\\nDiploma Programs\\nApply\\n                                                    Online\\nTuition Fees\\nDates & Deadline\\nFinancial Assistance\\nScholarships\\n                                                    & Financial Assistance\\nHow to\\n                                                    Apply\\nImportant\\n                                                    Dates & Deadline\\nForms &\\n                                                    Document\\nFAQ\\nNews & Events\\nNews\\nEvents\\nCRT\\nIQAC\\nLibrary\\nHelpdesk\\nAdmission Test Results: Spring 2025\\nCRTEWU 107th Research Seminar\\nCall for Applications: Graduate Diploma in Leather, Leather Goods and Footwear Management (GDLFM) program of batch 3 & 4 (Deadline: 18 Dec. 2024)\\nExtension of Time: Call for Proposals-Round 17\\n2nd Call for Papers: East West Journal of Business and Social Studies: Vol.12, 2024\\nFaculties\\nFaculty of Sciences and Engineering\\nFaculty of Liberal Arts and Social Sciences\\nFaculty of Business and Economics\\nDepartments\\nFaculty of Sciences and Engineering\\nDepartment of Computer Science & Engineering\\nDepartment of Electrical and Electronic Engineering\\nDepartment of Genetic Engineering & Biotechnology\\nDepartment of Pharmacy\\nDepartment of Civil Engineering\\nDepartment of Mathematical & Physical Sciences\\nFaculty of Liberal Arts and Social Sciences\\nDepartment of English\\nDepartment of Law\\nDepartment of Social Relations\\nDepartment of Information Studies\\nDepartment of Sociology\\nFaculty of Business and Economics\\nDepartment of Business Administration\\nDepartment of Economics\\nAlumni\\nStudent\\nCareer Counseling Center\\nSexual Harassment\\nGrades, Rules and Regulations\\nRules & Regulation\\nStudent Portal (Grade Report)\\nAcademic Calendar\\nProctor Schedule\\nPayment Procedure\\nScholarships & Financial Assistance\\nDegree Programs\\nCampus Life\\nClubs\\nJoin a community of the world’s brightest minds and prepare to tackle its greatest problems. Here, your ideas will be heard, supported, questioned, tested, and honed as you form a network of lifelong friends, colleagues, and collaborators.\\nEmail\\nUsername\\nPassword\\nLogin\\nLost Your Password?\\nHome\\nAbout\\nHistory\\nVision &\\n                                                    Mission\\nSyndicate\\nAcademic\\n                                                    Council\\nOffice\\nOffice of The\\n                                                                    Chairperson, BoT\\nOffice of The Chief Advisor\\nOffice of The Vice\\n                                                                    Chancellor\\nOffice of The Pro\\n                                                                    Vice Chancellor\\nOffice of The Treasurer\\nDean\\'s Office\\nOffice of The Registrar\\nOffice of The Proctor\\nLibrary personnel\\nOffice of The\\n                                                                    Director of Finance\\nOffice of The\\n                                                                    Controller of Examination\\nOffice of The HR &\\n                                                                    Logistics\\nInformation\\n                                                                    & Communication Services\\nOffice of The\\n                                                                    Internal Auditor\\nCenter for\\n                                                                    Research & Training (CRT)\\nOffice of The IQAC\\nEngineering\\n                                                                    & Maintenance Department\\nEWU Medical Centre\\nOffice of The\\n                                                                    Student\\'s Welfare\\nOffice of The\\n                                                                    Department Admin\\nNewsletter\\nVC Newsletter\\nConvocation\\nConvocation\\nConvocation Registration Form\\nConvocation Rules & Guidelines\\nUrgent Notice\\nConvocation\\n                                                        Database\\nFAQ\\nAuthority\\nBoard of Trustees\\nVice Chancellor\\nPro-Vice Chancellor\\nTreasurer\\nRegistrar\\nAdmissions\\nUndergraduate\\nUndergraduate\\n                                                            Programs\\nApply\\n                                                            Online\\nTuition\\n                                                            Fees\\nDates\\n                                                            & Deadline\\nGraduate\\nGraduate\\n                                                            Programs\\nApply\\n                                                            Online\\nTuition\\n                                                            Fees\\nDates\\n                                                            & Deadline\\nDiploma\\nDiploma Programs\\nApply\\n                                                            Online\\nTuition Fees\\nDates & Deadline\\nFinancial Assistance\\nScholarships\\n                                                            & Financial Assistance\\nHow to\\n                                                            Apply\\nImportant\\n                                                            Dates & Deadline\\nForms &\\n                                                            Document\\nFAQ\\nNews & Events\\nNews\\nEvents\\nCRT\\nIQAC\\nLibrary\\nHelpdesk\\nCampus Life\\nHome/Campus Life\\nEvent and Traditions\\nTransportations\\nParking\\nThe Campus Experience\\nStudents’ Welfare Department is a rendezvous for the students of East West University to enter into the various aspects of their life. The primary objective of the Students’ Welfare Department is to emphasize the wholeness of the university experience through synchronized development of body, mind and spirit. It emphasizes enhancing student experience through ‘out of classroom learning’ and through extra curricular programs .\\nCafeteria\\nView Google Photos Album\\nRead More\\nStudents Activities\\nView Google Photos Album\\nRead More\\nCommon Room\\nView Google Photos Album\\nRead More\\nCareer Counseling Center\\nAll About EWUCCC\\nRead More\\nIndoor Games\\nIndoor Games\\nRead More\\nPrayers Room\\nPrayers Room\\nRead More\\nTo continue our founding mission to bring knowledge to Bangladesh\\nFollow Us\\nA/2, Jahurul Islam Avenue\\nJahurul Islam City, Aftabnagar\\nDhaka-1212, Bangladesh\\n09666775577, Ext. - 234\\n+8801755587224, +8801851933094 (Hotline)\\nadmissions@ewubd.edu\\ninfo@ewubd.edu\\nStudent\\nAcademic Calendar\\nCampus Life\\nPayment Procedure\\nConvocation\\nRules & Regulation\\nFaculty Search\\nGrading Policy\\nUniversity\\nDirectory\\nProctor Schedule\\nE-Tender\\nProcurement\\nGallery\\nJournal and Publications\\nArchives\\nQuick Links\\nApply Online\\nJobs at EWU\\nDegree Verification\\nContact Us\\nLocation Map\\nDeveloped and maintained by ICS, EWU\\nCopyright@ 2022 East West University\\n170,771,905  Total view, 12,078,387 Views Today\\nEnquire\\nTop\\n\\n\\n\\nscholarships and financial aid\\nWebpage Title:\\nScholarships and Financial Assistance\\nWebpage Contents:\\nAdmission Test Results: Spring 2025\\nCRTEWU 107th Research Seminar\\nCall for Applications: Graduate Diploma in Leather, Leather Goods and Footwear Management (GDLFM) program of batch 3 & 4 (Deadline: 18 Dec. 2024)\\nExtension of Time: Call for Proposals-Round 17\\n2nd Call for Papers: East West Journal of Business and Social Studies: Vol.12, 2024\\nHome\\nFaculties\\nFaculty of Sciences and Engineering\\nFaculty of Liberal Arts and Social Sciences\\nFaculty of Business and Economics\\nDepartments\\nCSE\\nEEE\\nGEB\\nPharmacy\\nCivil Engineering\\nMathematical & Physical Sciences\\nEnglish\\nLaw\\nSocial Relations\\nInformation Studies\\nSociology\\nBusiness Administration\\nMBA & EMBA Programs\\nEconomics\\nAlumni\\nStudents\\nDept. of Student\\'s Welfare\\nSexual Harassment\\nGrades, Rules & Regulations\\nRules & Regulation\\nStudent Portal (Grade Report)\\nSearch Course\\nAcademic Calendar\\nProctor Schedule\\nPayment Procedure\\nScholarships & Financial Assistance\\nDegree Programs\\nCampus Life\\nClubs\\nAbout\\nHistory\\nVision &\\n                                                    Mission\\nSyndicate\\nAcademic\\n                                                    Council\\nOffice\\nChairperson, BoT\\nChief Advisor\\nVice Chancellor\\nPro Vice Chancellor\\nTreasurer\\nDean\\'s Office\\nRegistrar\\nProctor\\nLibrary personnel\\nDirector of Finance\\nController of Examination\\nHR & Logistics\\nInformation & Communication Services\\nInternal Auditor\\nCRT\\nIQAC\\nEngineering & Maintenance Department\\nEWU Medical Centre\\nStudent\\'s Welfare\\nDepartment Admin\\nNewsletter\\nVC Newsletter\\nConvocation\\nConvocation\\nConvocation Registration Form\\nConvocation Rules & Guidelines\\nUrgent Notice\\nConvocation Database\\nFAQ\\nAuthority\\nBoard of Trustees\\nVice Chancellor\\nPro-Vice Chancellor\\nTreasurer\\nRegistrar\\nAdmissions\\nUndergraduate\\nUndergraduate\\n                                                    Programs\\nApply\\n                                                    Online\\nTuition\\n                                                    Fees\\nDates\\n                                                    & Deadline\\nGraduate\\nGraduate\\n                                                    Programs\\nApply\\n                                                    Online\\nTuition\\n                                                    Fees\\nDates\\n                                                    & Deadline\\nDiploma\\nDiploma Programs\\nApply\\n                                                    Online\\nTuition Fees\\nDates & Deadline\\nFinancial Assistance\\nScholarships\\n                                                    & Financial Assistance\\nHow to\\n                                                    Apply\\nImportant\\n                                                    Dates & Deadline\\nForms &\\n                                                    Document\\nFAQ\\nNews & Events\\nNews\\nEvents\\nCRT\\nIQAC\\nLibrary\\nHelpdesk\\nAdmission Test Results: Spring 2025\\nCRTEWU 107th Research Seminar\\nCall for Applications: Graduate Diploma in Leather, Leather Goods and Footwear Management (GDLFM) program of batch 3 & 4 (Deadline: 18 Dec. 2024)\\nExtension of Time: Call for Proposals-Round 17\\n2nd Call for Papers: East West Journal of Business and Social Studies: Vol.12, 2024\\nFaculties\\nFaculty of Sciences and Engineering\\nFaculty of Liberal Arts and Social Sciences\\nFaculty of Business and Economics\\nDepartments\\nFaculty of Sciences and Engineering\\nDepartment of Computer Science & Engineering\\nDepartment of Electrical and Electronic Engineering\\nDepartment of Genetic Engineering & Biotechnology\\nDepartment of Pharmacy\\nDepartment of Civil Engineering\\nDepartment of Mathematical & Physical Sciences\\nFaculty of Liberal Arts and Social Sciences\\nDepartment of English\\nDepartment of Law\\nDepartment of Social Relations\\nDepartment of Information Studies\\nDepartment of Sociology\\nFaculty of Business and Economics\\nDepartment of Business Administration\\nDepartment of Economics\\nAlumni\\nStudent\\nCareer Counseling Center\\nSexual Harassment\\nGrades, Rules and Regulations\\nRules & Regulation\\nStudent Portal (Grade Report)\\nAcademic Calendar\\nProctor Schedule\\nPayment Procedure\\nScholarships & Financial Assistance\\nDegree Programs\\nCampus Life\\nClubs\\nJoin a community of the world’s brightest minds and prepare to tackle its greatest problems. Here, your ideas will be heard, supported, questioned, tested, and honed as you form a network of lifelong friends, colleagues, and collaborators.\\nEmail\\nUsername\\nPassword\\nLogin\\nLost Your Password?\\nHome\\nAbout\\nHistory\\nVision &\\n                                                    Mission\\nSyndicate\\nAcademic\\n                                                    Council\\nOffice\\nOffice of The\\n                                                                    Chairperson, BoT\\nOffice of The Chief Advisor\\nOffice of The Vice\\n                                                                    Chancellor\\nOffice of The Pro\\n                                                                    Vice Chancellor\\nOffice of The Treasurer\\nDean\\'s Office\\nOffice of The Registrar\\nOffice of The Proctor\\nLibrary personnel\\nOffice of The\\n                                                                    Director of Finance\\nOffice of The\\n                                                                    Controller of Examination\\nOffice of The HR &\\n                                                                    Logistics\\nInformation\\n                                                                    & Communication Services\\nOffice of The\\n                                                                    Internal Auditor\\nCenter for\\n                                                                    Research & Training (CRT)\\nOffice of The IQAC\\nEngineering\\n                                                                    & Maintenance Department\\nEWU Medical Centre\\nOffice of The\\n                                                                    Student\\'s Welfare\\nOffice of The\\n                                                                    Department Admin\\nNewsletter\\nVC Newsletter\\nConvocation\\nConvocation\\nConvocation Registration Form\\nConvocation Rules & Guidelines\\nUrgent Notice\\nConvocation\\n                                                        Database\\nFAQ\\nAuthority\\nBoard of Trustees\\nVice Chancellor\\nPro-Vice Chancellor\\nTreasurer\\nRegistrar\\nAdmissions\\nUndergraduate\\nUndergraduate\\n                                                            Programs\\nApply\\n                                                            Online\\nTuition\\n                                                            Fees\\nDates\\n                                                            & Deadline\\nGraduate\\nGraduate\\n                                                            Programs\\nApply\\n                                                            Online\\nTuition\\n                                                            Fees\\nDates\\n                                                            & Deadline\\nDiploma\\nDiploma Programs\\nApply\\n                                                            Online\\nTuition Fees\\nDates & Deadline\\nFinancial Assistance\\nScholarships\\n                                                            & Financial Assistance\\nHow to\\n                                                            Apply\\nImportant\\n                                                            Dates & Deadline\\nForms &\\n                                                            Document\\nFAQ\\nNews & Events\\nNews\\nEvents\\nCRT\\nIQAC\\nLibrary\\nHelpdesk\\nScholarships & Financial Assistance\\nHome/Admissions/Scholarships & Financial Assistance\\nGenerous Scholarships and Financial Assistance: 11 Crores\\nAnnual scholarships\\nTypes of scholarships: MERIT SCHOLARSHIP OF DIFFERENT CATAGORIES & TERUSTEE’S SCHOLARSHIP\\nFinancial Assistance:\\nGeneral\\nFamily Concession\\nFreedom Fighter’s Scholarship\\nThe Medha Lalon Fund\\nAssistance for EWU Employees\\nScholarships and Financial Assistance (Effective from Spring Semester 2025 onwards)\\nSince its inception, East West University has been awarding merit scholarships and need-based financial assistance to deserving students. Each year, the university distributes around 9% of its total earnings among 20% or more of its regular students. According to the provision of the Private University Act, 2010, private universities are required to provide scholarships to 6 (six) percent of their enrolled students who are meritorious but come from less well-to do families (of which 3 percent is reserved for the wards of freedom fighters). Since its inception, the founders of East West University have adopted a policy of not paying any profit or dividend to themselves and of using a good proportion of its operating surplus towards nurturing merit and providing financial support to students in need. In the last twenty-seven years, the scholarship and financial assistance policy adopted by East West University has become a source of great encouragement to meritorious and financially constrained students.\\nBenefits to students are awarded in the following ways:\\n1. Merit Scholarships\\nEWU has generous merit scholarships/financial assistance programs. Due to the crisis caused by the COVID-19 pandemic and emergent financial constraints of many students, particularly their parent’s/guardian’s of East West University (EWU), since Spring 2020, the EWU authority provided 20% waiver on Tuition and remission of Student Activity Fee to all students. This 20% waiver of tuition continued until 2023. In addition, a sum of Taka 22,87,61,468/- (Twenty Two Crore Eighty Seven Lac Sixty One Thousand Four Hundred and Sixty Eight) was awarded in 2023-2024. Full-year tuition waiver merit scholarships (for a maximum of one-fourth of the total credit requirements of the program for undergraduate students) were awarded to:\\ni) Top scorers in undergraduate admission tests with a minimum score of 75% marks: 5 (five) from the Faculty of Business and Economics, 4 (four) from the Faculty of Sciences and Engineering, and 2 (two) from the Faculty of Liberal Arts and Social Sciences.\\nTop scorers in graduate admission tests with a minimum score of 75% marks: One from MBA program provided that at least 20 students get admitted to the program. The continuation of this scholarship is contingent upon maintaining a minimum CGPA of 3.50 and abiding by the rules and regulations and the University’s Code of Conduct for students at all times.\\nii) Candidates securing A+ in all subjects (including the 4th subject) in the most recent SSC & HSC examinations will be awarded 100% Tuition Free Merit Scholarship at entry level in Undergraduate Programs for 4 (four) years subject to qualifying in the admission test, maintenance of minimum GPA 3.50 in each semester as a regular student (all Undergraduate students must register at least 3 courses (9 credits) in a semester; this credit requirement is 4 courses (12 credits) in a semester for the students of B.Pharm and LL.B Programs) and abiding by the rules and regulations and the University’s Code of Conduct for students at all time;\\niii) Candidates securing 7 (seven) A’s in O-level Examination (at one sitting) and 3 (three) A’s in A-level Examination (in one year) will be awarded 100% Tuition Free Merit Scholarship at entry level in Undergraduate Programs for 4 (four) years subject to qualifying in the admission test, maintenance of minimum GPA 3.50 in each semester as a regular student (all Undergraduate students must register at least 3 courses (9 credits) in a semester; this credit requirement is 4 courses (12 credits) in a semester for the students of B.Pharm and LL.B Programs) and abiding by the rules and regulations and the University’s Code of Conduct for students at all time;\\niv) District Quota: One poor and meritorious student from each district securing GPA 5.00 in the most recent SSC and HSC examination will be awarded a full-tuition free Merit Scholarship with lodging for four years of study in Undergraduate programs at EWU subject to qualifying in the admission test. The continuation of this scholarship is contingent upon maintaining a minimum CGPA of 2.60 as a regular student and abiding by the rules and regulations and the University’s Code of Conduct for students at all time.\\nv) Candidates scoring GPA 5.00 (including the 4th subject) in the immediate past SSC (2022) & HSC (2024) examinations, will be awarded 50% waiver of Tuition Fee as Merit Scholarship at entry level in the undergraduate programs for the first 1 (one) year subject to fulfillment of the following requirements:\\na. Qualifying in the EWU Admission Test.\\nb. Maintenance of minimum GPA of 3.50 in each semester as a regular student (all Undergraduate students must register at least 3 courses (9 credits) in a semester; this credit requirement is 4 courses (12 credits) in a semester for the students of B.Pharm and LL.B Programs).\\nc. Abiding by the East West University Disciplinary Code for Students at all times;\\nvi) 100% Tuition Free Merit Scholarship will be awarded to the students who receive Undergraduate degree from EWU with CGPA 4.00 for a maximum of two years of studies in Graduate Programs at EWU subject to maintenance of CGPA 3.50 at all times as a regular student to continue the scholarship. EWU provides the same benefits under the same terms and conditions to the students having first classes in both Honors and Masters from public Universities who get admission to Graduate programs on a case by case basis.\\nvii) A committee has been formed to assess and recommend scholarship/ financial aid to students who are from overseas and who come from other educational backgrounds.\\nviii) Top 10% students (10% of the actual number of students of each batch of each department enrolled during the immediate past year) who have completed at least one-fourth of the total credit requirements of the undergraduate program during the immediate past year with a CGPA of 3.90 and above will get full-tuition free Merit Scholarship for an equal number of credits to be adjusted in the next three consecutive semesters.\\nIn the case of a batch where 6 or fewer students fulfill the scholarship requirement (i.e., completed at least one fourth of the degree requirement with a CGPA of 3.90 or above), only the top student will be entitled to receive one scholarship. The award will go to the best performer among the students securing CGPA 3.90 or above. For calculation of the number of scholarships in each batch, the number will be rounded up if the fraction is 0.5 or above.\\nMerit Scholarships are extendable, subject to fulfillment of requirements (viii) above. To continue Merit Scholarships, all Undergraduate students must register at least 3 courses (9 credits) in a semester; this credit requirement is 4 courses (12 credits) in a semester for the students of B.Pharm and LL.B Programs. The Merit Scholarship will be discontinued if any students violate the East West University Disciplinary Code for Students and/or if his/her CGPA falls below 3.50 calculated on the basis of the grades earned in the last one year. To be eligible for Merit Scholarship, a student of the undergraduate program must earn credits in the last one year as mentioned in the table below:\\nTable- 1\\nUndergraduate Programs\\nRequired Credits for Degree\\nRequired Credits for Scholarship\\nRequired Credits for Scholarship\\nBachelor of Business Administration\\n123/130\\n30 credits\\n(admitted upto Fall 2024)\\n33 credits\\n(admitted from Spring 2025)\\nBSS in Economics\\n123/130\\n30 credits\\n(admitted upto Spring 2024)\\n33 credits\\n(admitted from Fall 2024)\\nBA in English\\n123/130\\n30 credits\\n(admitted upto Spring 2024)\\n33 credits\\n(admitted from Fall 2024)\\nBSS in Sociology\\n123/130\\n30 credits\\n(admitted upto Fall 2024)\\n33 credits\\n(admitted from Spring 2025, tentatively)\\nBachelor of Laws (LL.B)\\n135/130\\n33 credits\\nBSS in Information Studies\\n123\\n30 credits\\nBSS in Population and Public Health Sciences (PPHS)\\n123/130\\n30 credits\\n(admitted upto Spring 2024)\\n33 credits\\n(admitted from Fall 2024)\\nB.Sc. in CSE\\n140\\n35 credits\\nB.Sc. in ICE\\n140\\n35 credits\\nB.Sc. in EEE\\n140\\n35 credits\\nBachelor of Pharmacy\\n158\\n39 credits\\nB.Sc. in GEB\\n133/140\\n33 credits\\n(admitted upto Spring 2025)\\n35 credits\\n(admitted from Summer 2025, tentatively)\\nB.Sc. in Civil Engineering\\n156.5\\n37 credits\\nB.Sc. (Hons.) in Mathematics\\n130\\n33 credits\\nB.Sc. in Data Science and Analytics\\n130\\n33 credits\\nScholarship\\xa0Requirement for Graduate Programs for the students admitted in Spring 2024 and onward\\xa0are\\xa0as follows:\\na.\\nBachelor degree with CGPA 4.00 out of 4.00 from EWU and other reputed universities: 100% scholarship will be awarded to complete the graduation within the stipulated time.\\nb.\\nBachelor degree with CGPA 3.90-3.99 out of 4.00 from EWU and other reputed universities: 75% scholarship will be awarded to complete the graduation within the stipulated time.\\nc.\\nBachelor degree with CGPA 3.80-3.89 out of 4.00 from other reputed universities: 50% scholarship will be awarded to complete the graduation within the stipulated time.\\nd.\\nTo continue the scholarship a minimum CGPA of 3.50 must be maintained in each semester as a regular student (must register at least 06 credits in each semester) during the above period.\\nThe application of other reputed universities will be\\xa0assessed and\\xa0recommended by EWU.\\n2. Trustee’s Scholarship\\nA Trustee member may award 500% tuition fee waiver to five students (100% each) or more than five students distributing this 500% at his/her discretion in each semester or a Trustee member may award a maximum of up to 45 credits tuition fee waiver in each semester or higher as per requirements under his/her discretionary quota. The unutilized credits of any semester can be carried forward to other semester(s) within the same academic calendar year.\\n3. Financial Assistance\\n(a) General\\nAt the beginning of each semester, the university considers applications on prescribed forms for granting financial assistance to deserving students on a need-cum-merit basis. Undergraduate applicants who have completed at least 12 credits in the immediate past semester with a minimum CGPA of 2.60 and with demonstrated financial need are offered financial assistance to cover part of the tuition fees. The actual amount depends on the number of applicants and the availability of funds. This is by far the largest component of the funding support both in terms of the amount of money as well as the number of recipients. Financial assistance is also extendable on the fulfilment of the above mentioned requirements.\\nSimilarly, applicants of graduate programs who have completed 6 credits in the immediate past semester with a minimum CGPA of 2.80 and have proof of financial need are offered financial assistance to cover part of the tuition fees.\\n(b) Family Concession\\nWhen two siblings (sons and/or daughters of the same parents) and husband-wife study simultaneously at East West University, the second sibling/spouse is entitled to a half-tuition fee waiver. However, both must be admitted full-time into regular programs and both the sibling/ husband-wife must study within the normal study time (the stipulated time for completing a degree) required for the programs in which they are enrolled. The benefit commences on the date of admission of the second sibling/ spouse and ceases on the discontinuation of the study of any one of them in EWU, after his/her Graduation/Dismissal/ Suspension/Voluntary Withdrawal etc. or for any other reasons. This benefit may be extended up to the third sibling under the above-mentioned conditions.\\nIf either of the siblings/spouses maintains a minimum CGPA of 2.60, while the other maintains a minimum passing CGPA (2.00 up to summer 2023), (2.25 from Fall 2023 and onward) for Undergraduate Programs, 2.60 for Graduate Programs, the sibling/spouse benefit will be awarded and continued for the one who maintains the CGPA of 2.60. In the case of the newly admitted students, if the first sibling/spouse can maintain the minimum CGPA of 2.60. the sibling/spouse benefit would be awarded to the second sibling/spouse provided the first sibling/ spouse is not currently receiving any merit scholarship/ financial assistance from EWU. When both the siblings/ husband-wife (both are newly admitted students) are admitted in the first semester at a time, sibling/spouse benefit will be awarded to the second sibling/spouse without applying the credit and CGPA requirements for them in the first semester. Credit and CGPA requirements will be applicable for them from the second semester. Scholarship / Financial Assistance / Sibling / Spouse benefits or any other financial benefits at EWU are not awarded simultaneously.\\nHowever, a winner of the Merit Scholarship may enjoy the Scholarship by surrendering the sibling/spouse or other benefits. i.e. any one out of two siblings/husband-wife will be entitled to get either merit scholarship (if eligible) or half tuition fee waiver or financial assistance (if eligible) whichever they prefer. The benefit will be awarded at the time of registration of courses of both the siblings/husband-wife.\\n(c) Freedom Fighters’ Scholarship\\nAs a mark of respect to the valiant Freedom Fighters of the War of Liberation and Independence, the university reserves 3% admission quota for the wards of Freedom Fighters of all categories, subject to their fulfilment of the minimum admission requirements at East West University. The university also considers maximum 100% tuition waiver scholarship to the wards of wounded, deceased and financially distressed Freedom Fighters, subject to the fulfilment of the following requirements:\\nThe candidate must qualify in the EWU admission test; the candidate must provide proof that his/her parent was a Freedom Fighter. The tuition fee waiver as above will then be continued provided that the CGPA in each semester remains 2.60 or more.\\nTo continue financial assistance, (all Undergraduate students must register at least 3 courses (9 credits) in a semester; this credit requirement is 4 courses (12 credits) in a semester for the students of B.Pharm and LL.B Programs), and for the students of graduate programs this requirement is at least two courses (6 credits). Financial assistance is discontinued if any student of the undergraduate or the graduate program violates the East West University Disciplinary Code for Students.\\nSuch types of scholarships/ financial assistance, including family concession and freedom fighter scholarships, are not available to those students who have already spent the regular study time required for the programs for which they are enrolled (e.g. Bachelor’s degree program students are not eligible for any scholarship/financial aid beyond the four years that are required to complete the course as a regular student). Students, who have already completed the required minimum total credits for a degree, will not be eligible for any scholarship/ financial assistance. Students availing the advantage of retaking any course any time will not be eligible for any scholarship. No student of the university is entitled to benefit from more than one scholarships/financial assistance schemes at any point in time.\\n4. Benefit for EWU Employees\\nIf the children of the employees of EWU study at EWU, only one child of an employee will be granted 50% tuition fee waiver during the entire tenure of the employee’s service at EWU subject to the fulfillment of admission and all other criteria. Granting of this tuition fee waiver will be effective on admission of the student but its continuation will be subject to the fulfillment of financial assistance requirements.\\nEmployees of EWU who study at EWU will be granted 50% tuition fee waiver but they have to maintain a minimum passing CGPA of the respective degree/ program for continuation of the financial benefit which is provided by the university. Other academic and financial aid requirements which are applicable to the students will also be applicable to the employees of EWU. Like other students, employees of EWU who study at EWU have to register for minimum course/credits in each semester. Financial benefit which is provided by the university to its employees for studying at EWU will continue until the respective employees remain in service at EWU.\\n5. The Medha Lalon Scholarship\\nIn order to be able to extend further support towards nurturing merit, particularly to the students from middle-class background, to the female students, and to the students from outside the metropolis, the Board of Directors of East West University set up in 2002 a scheme called the East West University Medha Lalon Fund with an initial endowment of Taka one and a half crore. The Board has also sanctioned an amount of Taka one crore thirty lakhs from the operating surplus of the university for the Fund. This is in addition to the disbursement each year of regular components such as the merit scholarships and financial assistance. Several philanthropic persons/ organizations have contributed a combined amount of Taka twenty-seven and a half lakh to the Medha Lalon Fund. This needcum-merit based financial assistance is awarded from the annual earnings of the East West University Medha Lalon Fund deposited in a lucrative five-year interest earning Scholarship Deposit Account of Mercantile Bank Ltd.\\nThe CGPA requirement for awarding the Dean’s List Scholarship is 3.75 (Taka 55,000 is awarded to each eligible student which is to be adjusted in the next one year) and the CGPA requirement for awarding Medha Lalon Scholarship is 3.50 (Taka 45,000 is awarded to each eligible student which is to be adjusted in the next one year). To be eligible for Dean’s List and Medha Lalon Scholarship a student of the undergraduate program must earn credits as mentioned in the\\nTable-1\\n, in the last one year.\\nFor continuation of this Dean’s List and Medha Lalon Scholarship (all Undergraduate students must register at least 3 courses (9 credits) in a semester; this credit requirement is 4 courses (12 credits) in a semester for the students of B.Pharm and LL.B Programs). This scholarship is discontinued if any student of the undergraduate programs violates the East West University Disciplinary Code for students and/or if his/her CGPA falls below 2.75 calculated based on the grades earned in the last one year.\\nThe following Dean’s List and Medha Lalon Scholarships are currently being offered:\\nTable- 2\\nSl.\\nName of Scholarship\\nName of Sponsors\\nAmount in Taka\\n1\\nSujat Ali Mazumder Scholarship\\nMr. Jalaluddin Ahmed (deceased)\\nTk. 45,000 a year\\n2\\nAnjuman Ara Begum Scholarship\\nMr. Jalaluddin Ahmed (deceased)\\nTk. 45,000 a year\\n3\\nS.M. Sahiruddin Scholarship\\nMr. S. M. Nousher Ali (deceased)\\nTk. 45,000 a year\\n4\\nRowshan Ara Begum Scholarship\\nMr. S. M. Nousher Ali (deceased)\\nTk. 45,000 a year\\n5\\nSanuwar Bakht Chaudhury Scholarship\\nMr. Farooque B. Chaudhury\\nTk. 45,000 a year\\n6\\nSofia Khatun Scholarship\\nMr. Farooque B. Chaudhury\\nTk. 45,000 a year\\n7\\nLutful Bari Md. Munsur Chaudhury Scholarship\\nDr. Rafiqul Huda Chaudhury\\nTk. 45,000 a year\\n8\\nShamsunnessa Begum Scholarship\\nDr. Rafiqul Huda Chaudhury\\nTk. 45,000 a year\\n9\\nSherifa Chowdhury Scholarship\\nSyed Manzur Elahi\\nTk. 45,000 a year\\n10\\nSherifunnesa Begum Scholarship\\nSyed Manzur Elahi\\nTk. 45,000 a year\\n11\\nM. Mahtabuddin Scholarship\\nProfessor Dr. Mohammed Farashuddin\\nTk. 45,000 a year\\n12\\nChamak Chand Scholarship\\nProfessor Dr. Mohammed Farashuddin\\nTk. 45,000 a year\\n13\\nM. Sujat Ali Scholarship\\nMr. Mohammad Zahedul Haque, R.Ph\\nTk. 45,000 a year\\n14\\nShakina Khatun Scholarship\\nMr. Mohammad Zahedul Haque, R.Ph\\nTk. 45,000 a year\\n15\\nMujibur Rahman Lasker Scholarship\\nDr. Saidur Rahman Lasker (deceased)\\nTk. 45,000 a year\\n16\\nKhodeza Abu Taher Scholarship\\nDr. Saidur Rahman Lasker (deceased)\\nTk. 45,000 a year\\n17\\nMoulvi Muhammad Shamsher Ali Scholarship\\nDr. Muhammad Abdul Mannan\\nTk. 45,000 a year\\n18\\nMomena Khatun Scholarship\\nDr. Muhammad Abdul Mannan\\nTk. 45,000 a year\\n19\\nAbu Ahmed Abdul Hafiz Scholarship\\nMr. Shelley A. Mubdi\\nTk. 45,000 a year\\n20\\nSyeda Shaher Banu Chaudhurani Scholarship\\nMr. Shelley A. Mubdi\\nTk. 45,000 a year\\n21\\nAbdul Kaher Scholarship\\nMr. M. A. Mumin (deceased)\\nTk. 45,000 a year\\n22\\nHabiba Banu Scholarship\\nMr. M. A. Mumin (deceased)\\nTk. 45,000 a year\\n23\\nAlhajj Abdur Rahman-Begum Walida Rahman Scholarship\\nDr. Khalilur Rahman\\nTk. 45,000 a year\\n24\\nJustice Nurul Huda-Begum Sufia Huda Scholarship\\nDr. Khalilur Rahman\\nTk. 45,000 a year\\n25\\nMA Haque Scholarship\\nMr. H. N. Ashequr Rahman\\nTk. 45,000 a year\\n26\\nAbdur Rahman Scholarship\\nMr. H. N. Ashequr Rahman\\nTk. 45,000 a year\\n27\\nAbdul Jabbar Scholarship\\nMrs. Razia Samad (deceased)\\nTk. 45,000 a year\\n28\\nAbdus Samad Scholarship\\nMrs. Razia Samad (deceased)\\nTk. 45,000 a year\\n29\\nEast West University Scholarship\\nEast West University\\nTk. 45,000 a year\\n30\\nEast West University Scholarship\\nEast West University\\nTk. 45,000 a year\\n31\\nEast West University Scholarship\\nEast West University\\nTk. 45,000 a year\\n32\\nEast West University Scholarship\\nEast West University\\nTk. 45,000 a year\\n33\\nEast West University Scholarship\\nEast West University\\nTk. 45,000 a year\\n34\\nEast West University Scholarship\\nEast West University\\nTk. 45,000 a year\\n35\\nEast West University Scholarship\\nEast West University\\nTk. 45,000 a year\\n36\\nEast West University Scholarship\\nEast West University\\nTk. 45,000 a year\\n37\\nEast West University Scholarship\\nEast West University\\nTk. 45,000 a year\\n38\\nEast West University Scholarship\\nEast West University\\nTk. 45,000 a year\\n39\\nDutch-Bangla Bank Ltd. Scholarship\\nDutch-Bangla Bank Ltd.\\nTk. 45,000 a year\\n40\\nDutch-Bangla Bank Ltd. Scholarship\\nDutch-Bangla Bank Ltd.\\nTk. 45,000 a year\\n41\\nDutch-Bangla Bank Ltd. Scholarship\\nDutch-Bangla Bank Ltd.\\nTk. 45,000 a year\\n42\\nSuraiya Farashuddin Scholarship\\nMrs. Suraiya Farashuddin\\nTk. 45,000 a year\\n43\\nSuraiya Farashuddin Scholarship\\nMrs. Suraiya Farashuddin\\nTk. 45,000 a year\\n44\\nStandard Chartered Bank Scholarship\\nStandard Chartered Bank\\nTk. 45,000 a year\\n45\\nStandard Chartered Bank Scholarship\\nStandard Chartered Bank\\nTk. 45,000 a year\\n46\\nEakub H. Chowdhury Scholarship\\nSamson H. Chowdhury (deceased)\\nTk. 45,000 a year\\n47\\nEakub H. Chowdhury Scholarship\\nSamson H. Chowdhury (deceased)\\nTk. 45,000 a year\\n48\\nMercantile Bank Limited Scholarship\\nMercantile Bank Limited\\nTk. 45,000 a year\\n49\\nMercantile Bank Limited Scholarship\\nMercantile Bank Limited\\nTk. 45,000 a year\\n50\\nNaushaba-Kalim Sharafi Scholarship\\nProfessor Naushaba Kalim Sharafi\\nTk. 45,000 a year\\n51\\nMutual Trust Bank Ltd. Scholarship\\nMutual Trust Bank Ltd.\\nTk. 45,000 a year\\n52\\nMutual Trust Bank Ltd. Scholarship\\nMutual Trust Bank Ltd.\\nTk. 45,000 a year\\n53\\nPrime Bank Ltd. Scholarship\\nPrime Bank Ltd.\\nTk. 45,000 a year\\n54\\nPrime Bank Ltd. Scholarship\\nPrime Bank Ltd.\\nTk. 45,000 a year\\n55\\nEastern Bank Ltd. Scholarship\\nEastern Bank Ltd.\\nTk. 45,000 a year\\n56\\nEastern Bank Ltd. Scholarship\\nEastern Bank Ltd.\\nTk. 45,000 a year\\n57\\nTM International Bangladesh Ltd. (AKTEL) Scholarship\\nTM International Bangladesh Ltd. (AKTEL)\\nTk. 45,000 a year\\n58\\nRakibur Raza Education Scholarship\\nDr. Ishfaqur Raza\\nTk. 45,000 a year\\n59\\nDr. Ameerul Haque Scholarship\\nMrs. Roshen Ara Haque\\nTk. 45,000 a year\\n60\\nDr. Ameerul Haque Scholarship\\nMrs. Roshen Ara Haque\\nTk. 45,000 a year\\n61\\nM. A. Mumin Scholarship\\nMr. Mansoor Mumin\\nTk.1,80,000 a year\\n62\\nSyed and Nasim Amanatullah Scholarship\\nSyed and Nasim Amanatullah\\nTk. 45,000 a year\\nIn addition, Mrs. Rehana Akhtar Khanam, a former UN official has arranged scholarships for students from lower-middle-class families at East West University (EWU). She has created a fund in the name of her parents, ‘Abdul Latif Khan-Jahanara Khanam Chowdhury Scholarship Fund, East West University’ and donated 50 (fifty) lac taka to the fund. The earnings from this fund will be given as a new scholarship to the poor students of EWU besides the existing scholarships.\\nThe East West University Medha Lalon Scholarship is administered by the Financial Assistance Committee of the university. To acquire such assistance, students must apply on a prescribed form. Applications are processed based on information provided by the applicants and according to the criteria set by the university, which are subject to change at its discretion. The selection of scholars and financial assistance beneficiaries is done through a computerized system that ensures full transparency.\\nAs is evident from the table below, the university policy is rather generous in nurturing merit since an increasing percentage of tuition revenue gets ploughed back and goes to deserving students. It is worth noting that the university, as a matter of policy, encourages enrolment of mofussil and rural students who are also, beneficiaries of the scholarship and financial assistance awards. Furthermore, the university has also been consciously endeavoring to increase the proportion of female students who benefit from scholarship and financial assistance programs.\\nThe table below shows the number of recipients/ beneficiaries of various scholarships, financial assistance programs and the amount of scholarships/ financial assistance distributed during the last five years.\\nFinancial Assistance\\nScholarships & Financial Assistance\\nHow to Apply\\nImportant Dates & Deadline\\nForms & Document\\nFAQ\\nTo continue our founding mission to bring knowledge to Bangladesh\\nFollow Us\\nA/2, Jahurul Islam Avenue\\nJahurul Islam City, Aftabnagar\\nDhaka-1212, Bangladesh\\n09666775577, Ext. - 234\\n+8801755587224, +8801851933094 (Hotline)\\nadmissions@ewubd.edu\\ninfo@ewubd.edu\\nStudent\\nAcademic Calendar\\nCampus Life\\nPayment Procedure\\nConvocation\\nRules & Regulation\\nFaculty Search\\nGrading Policy\\nUniversity\\nDirectory\\nProctor Schedule\\nE-Tender\\nProcurement\\nGallery\\nJournal and Publications\\nArchives\\nQuick Links\\nApply Online\\nJobs at EWU\\nDegree Verification\\nContact Us\\nLocation Map\\nDeveloped and maintained by ICS, EWU\\nCopyright@ 2022 East West University\\n170,771,907  Total view, 12,078,388 Views Today\\nEnquire\\nTop\\n\\n\\n\\ndegree programs\\nWebpage Title:\\nDegree Programs\\nWebpage Contents:\\nAdmission Test Results: Spring 2025\\nCRTEWU 107th Research Seminar\\nCall for Applications: Graduate Diploma in Leather, Leather Goods and Footwear Management (GDLFM) program of batch 3 & 4 (Deadline: 18 Dec. 2024)\\nExtension of Time: Call for Proposals-Round 17\\n2nd Call for Papers: East West Journal of Business and Social Studies: Vol.12, 2024\\nHome\\nFaculties\\nFaculty of Sciences and Engineering\\nFaculty of Liberal Arts and Social Sciences\\nFaculty of Business and Economics\\nDepartments\\nCSE\\nEEE\\nGEB\\nPharmacy\\nCivil Engineering\\nMathematical & Physical Sciences\\nEnglish\\nLaw\\nSocial Relations\\nInformation Studies\\nSociology\\nBusiness Administration\\nMBA & EMBA Programs\\nEconomics\\nAlumni\\nStudents\\nDept. of Student\\'s Welfare\\nSexual Harassment\\nGrades, Rules & Regulations\\nRules & Regulation\\nStudent Portal (Grade Report)\\nSearch Course\\nAcademic Calendar\\nProctor Schedule\\nPayment Procedure\\nScholarships & Financial Assistance\\nDegree Programs\\nCampus Life\\nClubs\\nAbout\\nHistory\\nVision &\\n                                                    Mission\\nSyndicate\\nAcademic\\n                                                    Council\\nOffice\\nChairperson, BoT\\nChief Advisor\\nVice Chancellor\\nPro Vice Chancellor\\nTreasurer\\nDean\\'s Office\\nRegistrar\\nProctor\\nLibrary personnel\\nDirector of Finance\\nController of Examination\\nHR & Logistics\\nInformation & Communication Services\\nInternal Auditor\\nCRT\\nIQAC\\nEngineering & Maintenance Department\\nEWU Medical Centre\\nStudent\\'s Welfare\\nDepartment Admin\\nNewsletter\\nVC Newsletter\\nConvocation\\nConvocation\\nConvocation Registration Form\\nConvocation Rules & Guidelines\\nUrgent Notice\\nConvocation Database\\nFAQ\\nAuthority\\nBoard of Trustees\\nVice Chancellor\\nPro-Vice Chancellor\\nTreasurer\\nRegistrar\\nAdmissions\\nUndergraduate\\nUndergraduate\\n                                                    Programs\\nApply\\n                                                    Online\\nTuition\\n                                                    Fees\\nDates\\n                                                    & Deadline\\nGraduate\\nGraduate\\n                                                    Programs\\nApply\\n                                                    Online\\nTuition\\n                                                    Fees\\nDates\\n                                                    & Deadline\\nDiploma\\nDiploma Programs\\nApply\\n                                                    Online\\nTuition Fees\\nDates & Deadline\\nFinancial Assistance\\nScholarships\\n                                                    & Financial Assistance\\nHow to\\n                                                    Apply\\nImportant\\n                                                    Dates & Deadline\\nForms &\\n                                                    Document\\nFAQ\\nNews & Events\\nNews\\nEvents\\nCRT\\nIQAC\\nLibrary\\nHelpdesk\\nAdmission Test Results: Spring 2025\\nCRTEWU 107th Research Seminar\\nCall for Applications: Graduate Diploma in Leather, Leather Goods and Footwear Management (GDLFM) program of batch 3 & 4 (Deadline: 18 Dec. 2024)\\nExtension of Time: Call for Proposals-Round 17\\n2nd Call for Papers: East West Journal of Business and Social Studies: Vol.12, 2024\\nFaculties\\nFaculty of Sciences and Engineering\\nFaculty of Liberal Arts and Social Sciences\\nFaculty of Business and Economics\\nDepartments\\nFaculty of Sciences and Engineering\\nDepartment of Computer Science & Engineering\\nDepartment of Electrical and Electronic Engineering\\nDepartment of Genetic Engineering & Biotechnology\\nDepartment of Pharmacy\\nDepartment of Civil Engineering\\nDepartment of Mathematical & Physical Sciences\\nFaculty of Liberal Arts and Social Sciences\\nDepartment of English\\nDepartment of Law\\nDepartment of Social Relations\\nDepartment of Information Studies\\nDepartment of Sociology\\nFaculty of Business and Economics\\nDepartment of Business Administration\\nDepartment of Economics\\nAlumni\\nStudent\\nCareer Counseling Center\\nSexual Harassment\\nGrades, Rules and Regulations\\nRules & Regulation\\nStudent Portal (Grade Report)\\nAcademic Calendar\\nProctor Schedule\\nPayment Procedure\\nScholarships & Financial Assistance\\nDegree Programs\\nCampus Life\\nClubs\\nJoin a community of the world’s brightest minds and prepare to tackle its greatest problems. Here, your ideas will be heard, supported, questioned, tested, and honed as you form a network of lifelong friends, colleagues, and collaborators.\\nEmail\\nUsername\\nPassword\\nLogin\\nLost Your Password?\\nHome\\nAbout\\nHistory\\nVision &\\n                                                    Mission\\nSyndicate\\nAcademic\\n                                                    Council\\nOffice\\nOffice of The\\n                                                                    Chairperson, BoT\\nOffice of The Chief Advisor\\nOffice of The Vice\\n                                                                    Chancellor\\nOffice of The Pro\\n                                                                    Vice Chancellor\\nOffice of The Treasurer\\nDean\\'s Office\\nOffice of The Registrar\\nOffice of The Proctor\\nLibrary personnel\\nOffice of The\\n                                                                    Director of Finance\\nOffice of The\\n                                                                    Controller of Examination\\nOffice of The HR &\\n                                                                    Logistics\\nInformation\\n                                                                    & Communication Services\\nOffice of The\\n                                                                    Internal Auditor\\nCenter for\\n                                                                    Research & Training (CRT)\\nOffice of The IQAC\\nEngineering\\n                                                                    & Maintenance Department\\nEWU Medical Centre\\nOffice of The\\n                                                                    Student\\'s Welfare\\nOffice of The\\n                                                                    Department Admin\\nNewsletter\\nVC Newsletter\\nConvocation\\nConvocation\\nConvocation Registration Form\\nConvocation Rules & Guidelines\\nUrgent Notice\\nConvocation\\n                                                        Database\\nFAQ\\nAuthority\\nBoard of Trustees\\nVice Chancellor\\nPro-Vice Chancellor\\nTreasurer\\nRegistrar\\nAdmissions\\nUndergraduate\\nUndergraduate\\n                                                            Programs\\nApply\\n                                                            Online\\nTuition\\n                                                            Fees\\nDates\\n                                                            & Deadline\\nGraduate\\nGraduate\\n                                                            Programs\\nApply\\n                                                            Online\\nTuition\\n                                                            Fees\\nDates\\n                                                            & Deadline\\nDiploma\\nDiploma Programs\\nApply\\n                                                            Online\\nTuition Fees\\nDates & Deadline\\nFinancial Assistance\\nScholarships\\n                                                            & Financial Assistance\\nHow to\\n                                                            Apply\\nImportant\\n                                                            Dates & Deadline\\nForms &\\n                                                            Document\\nFAQ\\nNews & Events\\nNews\\nEvents\\nCRT\\nIQAC\\nLibrary\\nHelpdesk\\nDegree Programs\\nHome/Degree Programs\\nChoose your level of study\\nUndergraduate\\nGraduate\\nB. Sc. in ICE\\nB. Sc. in CSE\\nB. Sc. in EEE\\nB. Pharm.\\nB. Sc. in GEB\\nB.Sc. in Civil Engineering\\nB.Sc. (Hons.) in Mathematics\\nB.Sc. in Data Science and Analytics\\nBBA\\nBSS in Economics\\nBA in English\\nBSS in Sociology\\nBSS in Information Studies\\nLL.B (Hon’s)\\nMS in CSE\\nM. Pharm.\\nM. S. in Data Science and Analytics\\nMBA\\nEMBA\\nMDS\\nMSS in Economics\\nMA in English\\nMA in TESOL\\nLL.M (1 Year)\\nMPRHGD\\nPPDM\\nPGDED\\nTo continue our founding mission to bring knowledge to Bangladesh\\nFollow Us\\nA/2, Jahurul Islam Avenue\\nJahurul Islam City, Aftabnagar\\nDhaka-1212, Bangladesh\\n09666775577, Ext. - 234\\n+8801755587224, +8801851933094 (Hotline)\\nadmissions@ewubd.edu\\ninfo@ewubd.edu\\nStudent\\nAcademic Calendar\\nCampus Life\\nPayment Procedure\\nConvocation\\nRules & Regulation\\nFaculty Search\\nGrading Policy\\nUniversity\\nDirectory\\nProctor Schedule\\nE-Tender\\nProcurement\\nGallery\\nJournal and Publications\\nArchives\\nQuick Links\\nApply Online\\nJobs at EWU\\nDegree Verification\\nContact Us\\nLocation Map\\nDeveloped and maintained by ICS, EWU\\nCopyright@ 2022 East West University\\n170,771,913  Total view, 12,078,391 Views Today\\nEnquire\\nTop\\n\\n\\n\\nalumni\\nWebpage Title:\\nAlumni | East West University\\nWebpage Contents:\\n\\n\\n\\n\\nlibrary\\nWebpage Title:\\nDr. S. R. Lasker Library | Gateway to knowledge\\nWebpage Contents:\\nDr. S. R. Lasker Library Facebook\\nDr. S. R. Lasker Library Twitter\\nDr. S. R. Lasker Library Google+\\nDr. S. R. Lasker Library Twitter\\nDr. S. R. Lasker Library RSS\\nHome\\nEWU Home\\nAbout Us\\nWelcome Message\\nAt a glance\\nLibrary\\'s Journey in the Digital Age\\nVision and Mission\\nObjectives\\nBasic Information\\nCollection Overview\\nLibrary Committee\\nEvents\\nLibrary sections\\nImage Albums\\nGuides\\nDownloadable guides\\nMembership Rules\\nEntrance Rules\\nBorrowing Rules\\nPurchase Suggestion\\nCOVID-19 Protocols for Visiting the Library\\nCitation style [PDF View]\\nFlipping Book View\\nEBSCO Discovery\\nSubmit Course Outlines\\nFAQ\\nResources\\nE-Resources\\nE-Books\\nE-Journals\\nE-Magazines\\nConference Proceedings\\nLibrary Consortium of Bangladesh (LiCoB)\\nUGC Digital Library\\nInstitutional Subscription\\nRegistered (free)\\nOpen Access\\nInstitutional Repository\\nCOnnecting REpositories (CORE)\\nOpen Access Theses and Dissertations (OATD)\\nNewspaper\\nPrint Journals\\nFind Articles\\nOnline Catalogue\\nLiberation War\\nOther Resource List\\nDept. wise book list\\nTheses Lists\\nUdergraduate\\nGraduate\\nNew Arrival List\\nPrint Journal List\\nMPRHGD Lists\\nBooks in German Corner\\nList of Books and CDs in Liberation War Corner\\nReference Materials\\nOnline Encyclopedia\\nUseful Websites\\nDept. Wise Resources\\nBusiness Administration\\nCSE\\nCivil Engineering\\nECE\\nEEE\\nEconomics\\nEnglish\\nGEB\\nInformation Studies\\nLaw\\nMPS\\nPharmacy\\nSocial Relations\\nSociology\\nServices\\nPurchase Suggestion\\nBorrowing Privileges\\nRenew Library Materials\\nSocial Networks\\nMy Athens\\nAccessible Resources\\nAdmin Login\\nUser login\\nRegister\\nRenew\\nInformation Literacy Program\\nArticle Request\\nNews Clippings\\nPhotocopy Service\\nCitation Management\\nInstant Reference Service\\nWi-Fi Service\\nServices: A - Z\\nTraining/Workshop\\nRegistration\\nLibrary Membership - Online Application\\nRenew Library Membership\\nInformation Literacy Program\\nMy Athens\\nMyAthens Renew\\nMyAthens Password Request Service for Existing User\\nDownload\\nBook Requisition Form\\nBook Shelving Location\\nCirculation Section\\nReserve Section\\nMPRHGD List\\nMACR21 Manual\\nDSpace License Agreement Form\\nMy Account\\nKoha Staff Login\\nOPAC Account\\nMyAthens\\nRepository\\nWebsite Login\\nRequest New Password\\nContacts\\nFeedback/Suggestions/Help\\nLibrary Officials\\nSections\\nWhatsApp\\nVisitors Request Form\\n***\\nEWU Library will henceforth be known as the \"Dr. S\\u200b. R\\u200b. Lasker\\u200b Library\"***\\nJoin the Dr. S. R. Lasker Library\\'s Online Information Literacy Program***\\nEWU Library organized an awards ceremony on the occasion of National Library Day 2023\\nObserving National Library Day 2020\\nObserving National Library Day 2020\\nCelebrated International Open Access Week from 21 October 2019 to 24 October 2019\\nWorkshop on Following the Research Workflow using Elsevier’s Tool\\nSearch and Browse Library Resources and Other Resources\\nLibrary Catalog\\nFederated Search\\nRepository\\nGoogle Scholar\\nSemantic Scholar\\nWebsite\\nLibrary Catalog\\nTitle\\nAuthor\\nSubject\\nISBN\\nSeries\\nCall Number\\nAdvanced Search\\n|\\nVisit Online Catalogue\\nWorldWideScience:\\nSearch 106 Open Access Scientific Database\\xa0|\\nAbout WorldWideScience\\nAdvanced Search\\nOnline research tool that “pulls together” almost all of our Library resources (books, e-books, journal articles, etc.) using a single search box. For detailed information please click\\nhere\\n.\\nSearch for institutional resources\\nBrowse Institutional Repository\\nSearch AI-powered research tool for scientific literature\\nSearch form\\nSearch\\nWelcome to Dr. S. R. Lasker Library\\nDr. S. R. Lasker Library is one of the pioneer libraries in Bangladesh in terms of comprehensive collections, variety of services, up to date technology,\\xa0professionally skilled manpower,\\xa0user education, service marketing etc. The Library is an integral part of the university and designed to meet the information, research, and curriculum needs of its students, faculty and staff members.\\nStart Prezi and Know pros and cons of the\\nLibrary\\nFeatured Newly Arrived Books\\nTitle (Click to see original content):\\nIndustrial sociology : a comprehensive approach\\nTitle (Click to see original content):\\nPartition as border-making : East Bengal, East Pakistan and Bangladesh\\nTitle (Click to see original content):\\nStatistics for business & economics\\nTitle (Click to see original content):\\nচতুর্থ শিল্প বিপ্লব\\nTitle (Click to see original content):\\nWhen the earth trembled : towards a theory and people\\'s history of the Bangladesh liberation movement and lessons for today\\nTitle (Click to see original content):\\nMarkets, morals and development : rethinking economics from a developing country perspective\\nTitle (Click to see original content):\\nBangladesh\\'s changing mediascape : from state control to market forces\\nTitle (Click to see original content):\\nNumerical methods\\nTitle (Click to see original content):\\nPower electronics handbook\\nTitle (Click to see original content):\\nCriminology, Penology & Victimology\\nTitle (Click to see original content):\\nSociology\\nTitle (Click to see original content):\\nStructural analysis\\nTitle (Click to see original content):\\nBusiness correspondence and report writing : a practical approach to business & technical communication\\nTitle (Click to see original content):\\nWastewater engineering: treatment and reuse\\nTitle (Click to see original content):\\nPrinciples of foundation engineering\\nAll newly arrived books\\nRevised Library Hours\\nDear all,\\nGreetings from Dr. S. R. Lasker Library.\\nWe would like to inform you the following changes to library hours as per the Academic Calendar:\\nRead more\\nTags:\\nnotice\\nResearchRabbit: Citation-Based Literature Mapping Tool\\nAre you tired of jumping between databases and drowning in citations when researching for an essay, project, or literature review? ResearchRabbit is here to be your friendly guide out of the rabbit hole!\\nRead more\\nTags:\\nnews\\nnotice\\nservice\\nDaylong Event on Modern Information Profession: Redesigning for a Sustainable Future\\nDr. S. R. Lasker Library, EWU organized a daylong event titled\\nRead more\\nTags:\\nnews\\nevents\\nCelebration of Peer Review Week (PRW) 2024 by Dr. S. R. Lasker Library\\nPeer Review Week (PRW)\\n2024 took place from September 23 to 27 this year, featuring the theme: \"Innovation and Technology in Peer Review.\"\\nRead more\\nTags:\\nnews\\nevents\\nnotice\\nCelebration of International Literacy Day (ILD) 2024 by Dr. S. R. Lasker Library\\nUNESCO created International Literacy Day in 1967 to bring attention to this issue and it has been celebrated annually on 8th September ever since.\\nRead more\\nTags:\\nnews\\nevents\\nIEEE Authorship & Xplore Training Session 2024 at Dr. S. R. Lasker Library, East West University\\nIEEE Authorship & Xplore Training Session was arranged at\\nDr. S. R. Lasker Library\\n, East West University on 27 May 2024 with the expert of IEEE Xplore database service providers.\\nRead more\\nTags:\\nnews\\nevents\\nPages\\n1\\n2\\n3\\n4\\n5\\n6\\n7\\n8\\n9\\n…\\nnext ›\\nlast »\\nNew Resources and Services\\nResearchRabbit: Citation-Based Literature Mapping Tool\\nTrial Access to ABI/INFORM Collection\\nTrial access to HeinOnline database in East West University\\nGenerative AI Tools and Resources\\nQuick Links and Useful Sites\\nQuick Links\\nUseful Sites\\nInst. Repository\\nE-Resources\\nRenew Books\\nMy Account\\nMember Registration\\nIL Registration\\nOnline Catalogue\\nMy Athens\\nPurchase\\xa0Suggestion\\nLiberation War Corner\\nOnline Masters in Library and Information Science\\n12th Annual International Conference on Pharmacy and Pharmaceutical Sciences 5-8 May 2025 Athens, Greece\\nEdHat International Research Conference on Law & International Relations, 2nd December 2024, Sri Lanka\\nW3School Online Web Tutorials\\nInternational Conference on Science, Engineering & Technology (ICSET-24), December 2-3, 2024\\nSee more\\nGoogle Custom Search\\nAll\\nE-books\\nE-Journals\\nSearch All Library resources such as Website, Repository, Digital Library, Library Catalogue, HINARI, AGORA, ARDI,\\nGOALI, OARE, etc. Use quotation mark for more specific result.\\nSearch Ebooks\\nSearch E-books from\\nthese databases\\nby title. Use \" \" for more specific result.\\nSearch E-Journals\\nSearch E-Journals from\\nthese databases\\nby title. Use \" \" for more specific result.\\nNotice-News-Event-Image albums\\nNotice\\nNews\\nEvent\\nAlbums\\nRevised Library Hours\\nResearchRabbit: Citation-Based Literature Mapping Tool\\nCelebration of Peer Review Week (PRW) 2024 by Dr. S. R. Lasker Library\\nLibrary Closure Notice for Eid Holidays\\nSee all notices\\nCelebration of International Open Access Week 2024 by Dr. S. R. Lasker Library\\nResearchRabbit: Citation-Based Literature Mapping Tool\\nDaylong Event on Modern Information Profession: Redesigning for a Sustainable Future\\nCelebration of Peer Review Week (PRW) 2024 by Dr. S. R. Lasker Library\\nAll news\\nMedia coverage\\nCelebration of International Open Access Week 2024 by Dr. S. R. Lasker Library\\nDaylong Event on Modern Information Profession: Redesigning for a Sustainable Future\\nCelebration of Peer Review Week (PRW) 2024 by Dr. S. R. Lasker Library\\nCelebration of International Literacy Day (ILD) 2024 by Dr. S. R. Lasker Library\\nSee all events\\nObserving National Library Day 2020 at East West University Library\\nEWU Library Observed International Open Access Week 2019\\nKnowledge Sharing Session on Introduction to LaTeX\\nCelebrated International Day of Peace 2019 with a series of program\\nWorkshop on Following the Research Workflow using Elsevier’s Tool\\nAll Image Albums\\nLibrary Timings\\nRegular\\nSemester Break\\nRamadan\\nSunday - Thursday :\\n8:30am - 10:00pm\\nFriday :\\n08:30am - 5:00pm (1:00pm-2:00pm break)\\nSaturday :\\n5:00pm - 10:00pm\\nNB:\\nServices start after 15\\nminutes\\nlibrary opens\\xa0 & stops 15 minutes before library closes\\nClosed on Holidays as per Academic Calendar\\nThe day after \\xa0semester final\\nlast\\nexam to day before first class of new semester\\nSunday - Thursday\\n:\\n8:30am - 05:00pm\\nFriday and Saturday will be remain closed during this period.\\nNB:\\nServices start after 15 minutes library opens\\xa0 & stops 15 minutes before library closes\\nClosed on Holidays as per Academic Calendar\\nSunday - Thursday :\\n8:30 am - 5:30 pm\\nFriday :\\n10\\n:\\n00 am\\n- 5:\\n00 pm\\n(1:\\n00 pm-2\\n:\\n00 pm\\nprayer break)\\nSaturday :\\n2:30 pm - 5:30 pm\\nNB:\\nServices start after 15 minutes library opens\\xa0 & stops 15 minutes before library closes\\nClosed on Holidays as per\\nAcademic Calendar\\nOff Campus/Remote Access to E-Resources\\nLogin\\nRegister\\nRenew\\nAccess Management System developed by\\xa0Eduserv\\xa0that simplifies remote/off campus access to the subscribed e-resources.\\nContact for this Service : 353\\nVirtual/Instant Reference Service\\nWhatsApp\\nZoho Chat\\nContact Us\\nUsers can get their answers immediately via WhatsApp messages\\n[+8801302107368]\\nService Hours: From 9:00 AM To 5:00 PM [Sunday to Thursday]\\nN.B. Requests received beyond the service hours will be served on the next service day.\\nSunday - Thursday: 3.00pm-5.00pm\\nZoho\\xa0Chat is closed till its maintenance\\nPHONE\\xa0 09666775577\\nEmail\\n|\\nFeeedback\\nLibrarian, Head of Library: Ext. 235\\nCirculation & Information: Ext. 210\\nPurchase Suggestion: Ext. 265\\nE-Resource Service: Ext. 353\\nOnline Services/Website: 353\\nSubscribed Print Newspaper\\nImage Albums\\nObserving National Library Day 2020 at East West University Library\\nEWU Library Observed International Open Access Week 2019\\nKnowledge Sharing Session on Introduction to LaTeX\\nCelebrated International Day of Peace 2019 with a series of program\\nWorkshop on Following the Research Workflow using Elsevier’s Tool\\nPrize giving ceremony of quiz contest on the occassion of National Library Day 2019\\nUPL book fair at East West University\\nNational Library Day 2019\\nUNESCO and British Council officials visited EWU Library\\nSeminar on Introduction to Citation Management Software: Mendeley\\nInternational Open Access Week observed at East West University Library\\nGUB Officials visited EWU Library\\nInternational Day of Peace observed at EWU Library\\nNational Library Day observed at EWU Library\\n10-day Workshop on Research Methodology held at East West University\\nSeminar on Digital Preservation held at EWU Library\\nMeeting on International Information Literacy Consortium held at East West University\\nInauguration of EWU Digital Library and International Workshop on Health Information Literacy\\nEWU Library Liberation War Corner\\nEWU Library\\nWorkshop on Greenstone Digital Library Software held at BPATC, Savar, Dhaka\\nClosing Ceremony of Training Course on Integrated Digital Library System\\nWorkshop on Information Literacy\\nTraining on SCOPUS and Mendeley\\n14th Foundation Day of East West University\\nWorkshop on Koha and MARC21 in 2016\\nYoutube Channel\\nTechnology Used\\nE-Resources\\nLiCoB\\nUDL\\nIndividual\\nReg\\nOpen\\nA-Z\\nSocial Networks\\nFacebook\\nTwitter\\nPinterest\\nInstagram\\nLike us on Facebook\\nTweets by library_ewu\\nView this post on Instagram\\nA post shared by Dr. S. R. Lasker Library (@ewulibrarybd)\\nAll About Us\\nJourney in the Digital Age\\nPrezi\\xa0Presentation\\nYoutube\\xa0Video\\nCollection Overview\\nLibrary Committee\\nImage Albums\\nFAQ\\nEvents\\nUser Guides A-Z\\nE-Resource Guide\\nEntrance Rules\\nBorrowing Rules\\nPurchase Suggestion\\nCitation style\\nDownloadable Guides\\nEBSCO Discovery\\nOPAC Search\\nResources A-Z\\nE-Books\\nE-Journals\\nE-Magazines\\nInstitutional Repository\\nOnline Catalogue\\nDept. Wise Resources\\nPrint Journal Articles\\nLiberation War\\nService A-Z\\nPurchase Suggestion\\nRenew Library Materials\\nSocial Networks\\nMy Athens\\nInformation Literacy\\nArticle Request\\nCitation Management\\nNews Clippings\\nContact Us\\nUseful\\xa0Sites\\nAll Notice | News | Events\\nMembership Registration\\nIL Registration\\nDownload\\nSubmit Photo\\nMy Account\\nRequest New Password\\nCopyright © 2025 \\xa0 |\\nDr. S. R. Lasker Library\\n| Last update: 06-Feb-2025 2:56 pm\\n\\n\\n\\nresult\\nWebpage Title:\\nEast West University Result\\nWebpage Contents:\\nAdmission Test Result Spring\\xa0- 2025\\xa0(Undergraduate Programs)\\nDate\\nView\\nFaculty of Business & Economics & Faculty of Liberal Arts & Social Sciences { BA in English, BSS in\\xa0Sociology, Bachelor of Laws\\xa0(Hons), BSS in Information Studies & BSS in Population and Public Health Sciences (PPHS)}\\n22 January\\xa02025\\nView\\nFaculty of Sciences & Engineering (B.Sc. in CSE, EEE, lCE, Civil Engineering, Mathematics, DSA, GEB and B.Pharm)\\n22 January\\xa02025\\nView\\nAdmission Test Result Spring\\xa0- 2025\\xa0(Graduate Program)\\nDate\\nView\\nMBA and EMBA Programs\\n22 January\\xa02025\\nView\\nMaster of Development Studies (MDS) and \\xa0Master of Social Science in Economics Programs\\n30 January\\xa02025\\nView\\nM.Pharm\\xa0Program\\n02 February\\xa02025\\nView\\n\\n'"
            ],
            "application/vnd.google.colaboratory.intrinsic+json": {
              "type": "string"
            }
          },
          "metadata": {},
          "execution_count": 49
        }
      ]
    },
    {
      "cell_type": "markdown",
      "source": [
        "## Brocure maker from collected page contents"
      ],
      "metadata": {
        "id": "1V_43alV3Wa4"
      }
    },
    {
      "cell_type": "markdown",
      "source": [
        "We have all the contents from the websites relevent links. Now we can feed the content to another LLM that will create the brochure. This is an agentic AI example where one llm working for creating relevent link and the other one working for creating brochure. Lets see what it does..."
      ],
      "metadata": {
        "id": "l_Nc_6po3fDQ"
      }
    },
    {
      "cell_type": "code",
      "source": [
        "#create the system prompt for the LLM\n",
        "system_prompt = \"You are an assistant that analyzes the contents of several relevant pages from a website \\\n",
        "and creates a short brochure about the website for prospective customers, investors and recruits. Respond in markdown.\\\n",
        "Include details of company culture, customers and careers/jobs and other informations if you have the information with links.\""
      ],
      "metadata": {
        "id": "jdWQPcFGh0OA"
      },
      "execution_count": null,
      "outputs": []
    },
    {
      "cell_type": "code",
      "source": [
        "#create the function\n",
        "def get_brochure_user_prompt(company_name, url):\n",
        "    user_prompt = f\"You are looking at a company called: {company_name}\\n\"\n",
        "    user_prompt += f\"The website links to the company's landing page: {get_links(url)}\\n\"\n",
        "    user_prompt += f\"Here are the contents of its landing page and other relevant pages; use this information to build a short brochure of the company in markdown.\\n\"\n",
        "    user_prompt += get_all_details(url)\n",
        "    user_prompt = user_prompt[:10_000] # Truncate if more than 10,000 characters\n",
        "    return user_prompt"
      ],
      "metadata": {
        "id": "b8OLaCHzh4tx"
      },
      "execution_count": null,
      "outputs": []
    },
    {
      "cell_type": "code",
      "source": [
        "get_brochure_user_prompt(\"EWU\",\"https://www.ewubd.edu/\")"
      ],
      "metadata": {
        "colab": {
          "base_uri": "https://localhost:8080/",
          "height": 226
        },
        "id": "iv-oEGRih7yu",
        "outputId": "dc77afe1-1c2d-428f-d9f5-6d6cff72db13"
      },
      "execution_count": null,
      "outputs": [
        {
          "output_type": "stream",
          "name": "stdout",
          "text": [
            "Processing link: {'type': 'about page', 'url': 'https://www.ewubd.edu/'}\n",
            "Processing link: {'type': 'admission page', 'url': 'http://admission.ewubd.edu'}\n",
            "Processing link: {'type': 'careers page', 'url': 'https://www.ewubd.edu/career'}\n",
            "Processing link: {'type': 'alumni page', 'url': 'https://alumni.ewubd.edu/'}\n",
            "Processing link: {'type': 'academics page', 'url': 'https://www.ewubd.edu/degree-programs'}\n",
            "Processing link: {'type': 'campus life page', 'url': 'https://www.ewubd.edu/campus-life'}\n",
            "Processing link: {'type': 'scholarships page', 'url': 'https://www.ewubd.edu/scholarships-financial-aid'}\n"
          ]
        },
        {
          "output_type": "execute_result",
          "data": {
            "text/plain": [
              "\"You are looking at a company called: EWU\\nThe website links to the company's landing page: {'links': [{'type': 'about page', 'url': 'https://www.ewubd.edu/'}, {'type': 'admissions page', 'url': 'http://admission.ewubd.edu'}, {'type': 'careers page', 'url': 'https://www.ewubd.edu/career'}, {'type': 'alumni page', 'url': 'https://alumni.ewubd.edu/'}, {'type': 'academic programs page', 'url': 'https://www.ewubd.edu/degree-programs'}, {'type': 'campus life page', 'url': 'https://www.ewubd.edu/campus-life'}, {'type': 'scholarships and financial aid page', 'url': 'https://www.ewubd.edu/scholarships-financial-aid'}]}\\nHere are the contents of its landing page and other relevant pages; use this information to build a short brochure of the company in markdown.\\nLanding page:\\nWebpage Title:\\nEast West University\\nWebpage Contents:\\nAdmission Test Results: Spring 2025\\nCRTEWU 107th Research Seminar\\nCall for Applications: Graduate Diploma in Leather, Leather Goods and Footwear Management (GDLFM) program of batch 3 & 4 (Deadline: 18 Dec. 2024)\\nExtension of Time: Call for Proposals-Round 17\\n2nd Call for Papers: East West Journal of Business and Social Studies: Vol.12, 2024\\nHome\\nFaculties\\nFaculty of Sciences and Engineering\\nFaculty of Liberal Arts and Social Sciences\\nFaculty of Business and Economics\\nDepartments\\nCSE\\nEEE\\nGEB\\nPharmacy\\nCivil Engineering\\nMathematical & Physical Sciences\\nEnglish\\nLaw\\nSocial Relations\\nInformation Studies\\nSociology\\nBusiness Administration\\nMBA & EMBA Programs\\nEconomics\\nAlumni\\nStudents\\nDept. of Student's Welfare\\nSexual Harassment\\nGrades, Rules & Regulations\\nRules & Regulation\\nStudent Portal (Grade Report)\\nSearch Course\\nAcademic Calendar\\nProctor Schedule\\nPayment Procedure\\nScholarships & Financial Assistance\\nDegree Programs\\nCampus Life\\nClubs\\nAbout\\nHistory\\nVision &\\n                                                    Mission\\nSyndicate\\nAcademic\\n                                                    Council\\nOffice\\nChairperson, BoT\\nChief Advisor\\nVice Chancellor\\nPro Vice Chancellor\\nTreasurer\\nDean's Office\\nRegistrar\\nProctor\\nLibrary personnel\\nDirector of Finance\\nController of Examination\\nHR & Logistics\\nInformation & Communication Services\\nInternal Auditor\\nCRT\\nIQAC\\nEngineering & Maintenance Department\\nEWU Medical Centre\\nStudent's Welfare\\nDepartment Admin\\nNewsletter\\nVC Newsletter\\nConvocation\\nConvocation\\nConvocation Registration Form\\nConvocation Rules & Guidelines\\nUrgent Notice\\nConvocation Database\\nFAQ\\nAuthority\\nBoard of Trustees\\nVice Chancellor\\nPro-Vice Chancellor\\nTreasurer\\nRegistrar\\nAdmissions\\nUndergraduate\\nUndergraduate\\n                                                    Programs\\nApply\\n                                                    Online\\nTuition\\n                                                    Fees\\nDates\\n                                                    & Deadline\\nGraduate\\nGraduate\\n                                                    Programs\\nApply\\n                                                    Online\\nTuition\\n                                                    Fees\\nDates\\n                                                    & Deadline\\nDiploma\\nDiploma Programs\\nApply\\n                                                    Online\\nTuition Fees\\nDates & Deadline\\nFinancial Assistance\\nScholarships\\n                                                    & Financial Assistance\\nHow to\\n                                                    Apply\\nImportant\\n                                                    Dates & Deadline\\nForms &\\n                                                    Document\\nFAQ\\nNews & Events\\nNews\\nEvents\\nCRT\\nIQAC\\nLibrary\\nHelpdesk\\nAdmission Test Results: Spring 2025\\nCRTEWU 107th Research Seminar\\nCall for Applications: Graduate Diploma in Leather, Leather Goods and Footwear Management (GDLFM) program of batch 3 & 4 (Deadline: 18 Dec. 2024)\\nExtension of Time: Call for Proposals-Round 17\\n2nd Call for Papers: East West Journal of Business and Social Studies: Vol.12, 2024\\nFaculties\\nFaculty of Sciences and Engineering\\nFaculty of Liberal Arts and Social Sciences\\nFaculty of Business and Economics\\nDepartments\\nFaculty of Sciences and Engineering\\nDepartment of Computer Science & Engineering\\nDepartment of Electrical and Electronic Engineering\\nDepartment of Genetic Engineering & Biotechnology\\nDepartment of Pharmacy\\nDepartment of Civil Engineering\\nDepartment of Mathematical & Physical Sciences\\nFaculty of Liberal Arts and Social Sciences\\nDepartment of English\\nDepartment of Law\\nDepartment of Social Relations\\nDepartment of Information Studies\\nDepartment of Sociology\\nFaculty of Business and Economics\\nDepartment of Business Administration\\nDepartment of Economics\\nAlumni\\nStudent\\nCareer Counseling Center\\nSexual Harassment\\nGrades, Rules and Regulations\\nRules & Regulation\\nStudent Portal (Grade Report)\\nAcademic Calendar\\nProctor Schedule\\nPayment Procedure\\nScholarships & Financial Assistance\\nDegree Programs\\nCampus Life\\nClubs\\nJoin a community of the world’s brightest minds and prepare to tackle its greatest problems. Here, your ideas will be heard, supported, questioned, tested, and honed as you form a network of lifelong friends, colleagues, and collaborators.\\nEmail\\nUsername\\nPassword\\nLogin\\nLost Your Password?\\nHome\\nAbout\\nHistory\\nVision &\\n                                                    Mission\\nSyndicate\\nAcademic\\n                                                    Council\\nOffice\\nOffice of The\\n                                                                    Chairperson, BoT\\nOffice of The Chief Advisor\\nOffice of The Vice\\n                                                                    Chancellor\\nOffice of The Pro\\n                                                                    Vice Chancellor\\nOffice of The Treasurer\\nDean's Office\\nOffice of The Registrar\\nOffice of The Proctor\\nLibrary personnel\\nOffice of The\\n                                                                    Director of Finance\\nOffice of The\\n                                                                    Controller of Examination\\nOffice of The HR &\\n                                                                    Logistics\\nInformation\\n                                                                    & Communication Services\\nOffice of The\\n                                                                    Internal Auditor\\nCenter for\\n                                                                    Research & Training (CRT)\\nOffice of The IQAC\\nEngineering\\n                                                                    & Maintenance Department\\nEWU Medical Centre\\nOffice of The\\n                                                                    Student's Welfare\\nOffice of The\\n                                                                    Department Admin\\nNewsletter\\nVC Newsletter\\nConvocation\\nConvocation\\nConvocation Registration Form\\nConvocation Rules & Guidelines\\nUrgent Notice\\nConvocation\\n                                                        Database\\nFAQ\\nAuthority\\nBoard of Trustees\\nVice Chancellor\\nPro-Vice Chancellor\\nTreasurer\\nRegistrar\\nAdmissions\\nUndergraduate\\nUndergraduate\\n                                                            Programs\\nApply\\n                                                            Online\\nTuition\\n                                                            Fees\\nDates\\n                                                            & Deadline\\nGraduate\\nGraduate\\n                                                            Programs\\nApply\\n                                                            Online\\nTuition\\n                                                            Fees\\nDates\\n                                                            & Deadline\\nDiploma\\nDiploma Programs\\nApply\\n                                                            Online\\nTuition Fees\\nDates & Deadline\\nFinancial Assistance\\nScholarships\\n                                                            & Financial Assistance\\nHow to\\n                                                            Apply\\nImportant\\n                                                            Dates & Deadline\\nForms &\\n                                                            Document\\nFAQ\\nNews & Events\\nNews\\nEvents\\nCRT\\nIQAC\\nLibrary\\nHelpdesk\\nView Details\\nView Details\\nView Details\\nView Details\\nView Details\\nView Details\\nPrevious\\nNext\\nUndergraduate & Graduate Admission\\nSpring 2025\\nApplication Deadline:\\n16-Jan-2025\\n2025-01-16 23:59:59\\nDays\\nHour\\nMins\\nSecs\\nApply Online\\nAdmission Test Results:\\nSpring 2025\\nView More\\nGraduate\\nAdmission:\\nSpring 2025\\nApplication Deadline:\\n28-Feb-2025\\n2025-02-28 23:59:59\\nDays\\nHour\\nMins\\nSecs\\nRead More\\nGenerous Scholarships\\n50% - 100% is available\\nduring admission\\nView More\\nStudent Panel\\nPublications\\nClubs\\nNotice\\nIQAC\\nICS\\nApply for Admission MBA/EMBA Programs: Spring 2025. MBA Application Deadline: January 17, 2025. EMBA Application Deadline: February 13, 2025\\nView More\\nGenerous Scholarships from 50%-100% is available during admission.\\nApply\\n                                    for admission\\nGenerous Scholarships and Financial Assistance: 11 Crores\\nView\\n                                    More\\nDegree Program\\nJoin a community of the world’s brightest minds and prepared.\\nStudent's Welfare\\nDepartment of Student's Welfare.\\nScholarship\\nScholarships & Financial Aid.\\nAlumni\\nOur alumni is our strength\\nSearch Course\\nSelect Department\\nDepartment of Computer Science & Engineering\\nDepartment of Business Administration\\nDepartment of English\\nDepartment of Economics\\nDepartment of Law\\nDepartment of Electrical and Electronic Engineering\\nDepartment of Social Relations\\nDepartment of Electronics and Communications Engineering\\nDepartment of MBA/EMBA\\nDepartment  of Genetic Engineering and Biotechnology\\nDepartment of Information Studies\\nDepartment  of Pharmacy\\nDepartment of Sociology\\nDepartment of Civil Engineering\\nDepartment of Mathematical and Physical Sciences\\nSelect Course\\nSearch\\n                        Course\\nStudent Enrolled 10k+\\nPHD Professors 105+\\nProgram Offered 29\\nNational Awards 10+\\nNotice\\n19\\nJan \""
            ],
            "application/vnd.google.colaboratory.intrinsic+json": {
              "type": "string"
            }
          },
          "metadata": {},
          "execution_count": 30
        }
      ]
    },
    {
      "cell_type": "code",
      "source": [
        "def create_brochure(company_name, url):\n",
        "    response = client.chat.completions.create(\n",
        "        model=MODEL_LLAMA,\n",
        "        messages=[\n",
        "            {\"role\": \"system\", \"content\": system_prompt},\n",
        "            {\"role\": \"user\", \"content\": get_brochure_user_prompt(company_name, url)}\n",
        "          ],\n",
        "    )\n",
        "    result = response.choices[0].message.content\n",
        "    display(Markdown(result))"
      ],
      "metadata": {
        "id": "xolrtaTEh8WJ"
      },
      "execution_count": null,
      "outputs": []
    },
    {
      "cell_type": "code",
      "source": [
        "create_brochure(\"Next Venture\",\"https://nextventures.io/\")"
      ],
      "metadata": {
        "colab": {
          "base_uri": "https://localhost:8080/",
          "height": 933
        },
        "id": "0GqewM7FiK_m",
        "outputId": "20694805-8895-4fd9-e403-8e083f9263ce"
      },
      "execution_count": null,
      "outputs": [
        {
          "output_type": "stream",
          "name": "stdout",
          "text": [
            "Processing link: {'type': 'about page', 'url': 'https://nextventures.io/'}\n",
            "Processing link: {'type': 'careers page', 'url': 'https://nextventures.io/career'}\n",
            "Processing link: {'type': 'company culture', 'url': 'https://nextventures.io/life-at-next'}\n",
            "Processing link: {'type': 'products', 'url': 'https://nextventures.io/products/fundednext'}\n",
            "Processing link: {'type': 'contact page', 'url': 'https://nextventures.io/contact-us'}\n"
          ]
        },
        {
          "output_type": "display_data",
          "data": {
            "text/plain": [
              "<IPython.core.display.Markdown object>"
            ],
            "text/markdown": "# Introduction to Next Venture\nNext Venture is a leading fintech group that specializes in international CFD brokerage and prop trading. Our mission is to revolutionize global trading with cutting-edge technology and seamless user experiences.\n\n## Company Culture\nAt Next Venture, we pride ourselves on our diverse and inclusive culture. Our team of 450 people from different backgrounds operates from 5 countries, including UAE, Malaysia, Bangladesh, Sri Lanka, and Cyprus. We believe in creating an environment where talented individuals can grow, feel valued, and choose to stay. Our culture is built on the principles of innovation, progress, and excellence.\n\n## Customers\nWe support a vast trading community through our flagship products, FundedNext and FNmarkets. Our platforms serve over 220,000+ daily active traders from 170+ countries. We are committed to delivering superior operational excellence while adhering to all local and international compliance.\n\n## Careers and Jobs\nWe offer a range of career opportunities for talented individuals who are passionate about fintech and trading. Our careers page can be found at [https://nextventures.io/career](https://nextventures.io/career). We provide a supportive environment for skill and confidence building, and opportunities to grow as a leader and team player.\n\n## Products and Services\nOur flagship products include:\n* FundedNext: a leading prop trading firm committed to empowering promising traders worldwide to achieve maximum trading success.\n* FNmarkets: an international brokerage that allows traders to trade on international financial markets (stocks, futures, commodities, currencies).\n\n## Global Operations\nWe have operations in 5 countries, including:\n* UAE: Meydan Grandstand, 6th floor, Meydan Road, Nad Al Sheba, Dubai, U.A.E.\n* Malaysia: Level 2, Room 25, Jalan SS 21/39, Damansara Utama, 47400 Petaling Jaya, Selangor, Malaysia\n* Bangladesh: 6th & 8th Floor, Cha-90, The Pearl Trade Center, 3 Pragati Sarani, Dhaka 1212\n* Sri Lanka: World Trade Center, Echelon Square, Colombo 1, Sri Lanka\n* Cyprus: 26 Pittalou str. Agia Fyla, Limassol, 3118, Cyprus\n\n## Join Us\nIf you are interested in joining our team or learning more about our products and services, please visit our website at [https://nextventures.io/](https://nextventures.io/). You can also contact us at [https://nextventures.io/contact-us](https://nextventures.io/contact-us).\n\n## Our Vision\nOur vision is to build a worldwide community of traders and to revolutionize global trading with cutting-edge technology and seamless user experiences. We believe in creating a complete ecosystem for traders worldwide and are committed to delivering superior operational excellence.\n\n[Visit our website](https://nextventures.io/) to learn more about Next Venture and our mission to revolutionize global trading."
          },
          "metadata": {}
        }
      ]
    }
  ]
}